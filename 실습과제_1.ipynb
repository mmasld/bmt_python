{
  "nbformat": 4,
  "nbformat_minor": 0,
  "metadata": {
    "colab": {
      "name": "실습과제 1",
      "provenance": [],
      "collapsed_sections": [],
      "authorship_tag": "ABX9TyMqgTGRW6e0s9PF+XWopqF0",
      "include_colab_link": true
    },
    "kernelspec": {
      "name": "python3",
      "display_name": "Python 3"
    },
    "language_info": {
      "name": "python"
    }
  },
  "cells": [
    {
      "cell_type": "markdown",
      "metadata": {
        "id": "view-in-github",
        "colab_type": "text"
      },
      "source": [
        "<a href=\"https://colab.research.google.com/github/mmasld/bmt_python/blob/main/%EC%8B%A4%EC%8A%B5%EA%B3%BC%EC%A0%9C_1.ipynb\" target=\"_parent\"><img src=\"https://colab.research.google.com/assets/colab-badge.svg\" alt=\"Open In Colab\"/></a>"
      ]
    },
    {
      "cell_type": "code",
      "metadata": {
        "colab": {
          "base_uri": "https://localhost:8080/"
        },
        "id": "ighTr9-CJ8wX",
        "outputId": "1b63948a-3225-4e21-d742-549bda4506c5"
      },
      "source": [
        "from random import randint\n",
        "\n",
        "dice = randint(1,6)\n",
        "\n",
        "print(dice)"
      ],
      "execution_count": null,
      "outputs": [
        {
          "output_type": "stream",
          "text": [
            "4\n"
          ],
          "name": "stdout"
        }
      ]
    },
    {
      "cell_type": "code",
      "metadata": {
        "colab": {
          "base_uri": "https://localhost:8080/"
        },
        "id": "Ao7SHdELXwOn",
        "outputId": "7100e88b-967f-45bc-a42b-79e9a5bcf81c"
      },
      "source": [
        "import math\n",
        "\n",
        "a = math.pi / 6\n",
        "math.sin(a)"
      ],
      "execution_count": null,
      "outputs": [
        {
          "output_type": "execute_result",
          "data": {
            "text/plain": [
              "0.49999999999999994"
            ]
          },
          "metadata": {
            "tags": []
          },
          "execution_count": 23
        }
      ]
    },
    {
      "cell_type": "code",
      "metadata": {
        "colab": {
          "base_uri": "https://localhost:8080/"
        },
        "id": "wG4fh1j_X6oP",
        "outputId": "7cd938c7-6902-4e81-bdd6-a168dc762a43"
      },
      "source": [
        "name = '부산기계공고'\n",
        "\n",
        "for i in name:\n",
        "  print(i)"
      ],
      "execution_count": null,
      "outputs": [
        {
          "output_type": "stream",
          "text": [
            "부\n",
            "산\n",
            "기\n",
            "계\n",
            "공\n",
            "고\n"
          ],
          "name": "stdout"
        }
      ]
    },
    {
      "cell_type": "code",
      "metadata": {
        "colab": {
          "base_uri": "https://localhost:8080/"
        },
        "id": "cj97RhClaNaw",
        "outputId": "a7e0f80d-bb5f-405f-e217-e58a79af1e9f"
      },
      "source": [
        "for i in name:\n",
        "  print(i, end= '' )"
      ],
      "execution_count": null,
      "outputs": [
        {
          "output_type": "stream",
          "text": [
            "부산기계공고"
          ],
          "name": "stdout"
        }
      ]
    },
    {
      "cell_type": "code",
      "metadata": {
        "colab": {
          "base_uri": "https://localhost:8080/"
        },
        "id": "sO9jfh1eawSu",
        "outputId": "3e95ce2d-b3bf-4431-84e2-ee411e974406"
      },
      "source": [
        "for i in [0, 1, 2, 3]:\n",
        "  print(f'{i}의 제곱근 : {i**2}')"
      ],
      "execution_count": null,
      "outputs": [
        {
          "output_type": "stream",
          "text": [
            "0의 제곱근 : 0\n",
            "1의 제곱근 : 1\n",
            "2의 제곱근 : 4\n",
            "3의 제곱근 : 9\n"
          ],
          "name": "stdout"
        }
      ]
    },
    {
      "cell_type": "code",
      "metadata": {
        "colab": {
          "base_uri": "https://localhost:8080/"
        },
        "id": "MwxR5-eEbG9e",
        "outputId": "f2fd71ac-6ab7-45f7-9aea-c3d6807b3905"
      },
      "source": [
        "for i in range(10):\n",
        "  print(f' {i}의 제곱근 : {i**2}')"
      ],
      "execution_count": null,
      "outputs": [
        {
          "output_type": "stream",
          "text": [
            " 0의 제곱근 : 0\n",
            " 1의 제곱근 : 1\n",
            " 2의 제곱근 : 4\n",
            " 3의 제곱근 : 9\n",
            " 4의 제곱근 : 16\n",
            " 5의 제곱근 : 25\n",
            " 6의 제곱근 : 36\n",
            " 7의 제곱근 : 49\n",
            " 8의 제곱근 : 64\n",
            " 9의 제곱근 : 81\n"
          ],
          "name": "stdout"
        }
      ]
    },
    {
      "cell_type": "code",
      "metadata": {
        "colab": {
          "base_uri": "https://localhost:8080/"
        },
        "id": "_I9QgpjMb5Vu",
        "outputId": "c673e869-8241-4642-dbe3-091660fef99a"
      },
      "source": [
        "type(range(10))"
      ],
      "execution_count": null,
      "outputs": [
        {
          "output_type": "execute_result",
          "data": {
            "text/plain": [
              "range"
            ]
          },
          "metadata": {
            "tags": []
          },
          "execution_count": 40
        }
      ]
    },
    {
      "cell_type": "code",
      "metadata": {
        "colab": {
          "base_uri": "https://localhost:8080/"
        },
        "id": "Ks28qNeWccld",
        "outputId": "7d12ef9d-ecc7-465d-ac00-74c312c559ca"
      },
      "source": [
        "for i in range(1,-10,-1):\n",
        "  print(i**2)"
      ],
      "execution_count": null,
      "outputs": [
        {
          "output_type": "stream",
          "text": [
            "1\n",
            "0\n",
            "1\n",
            "4\n",
            "9\n",
            "16\n",
            "25\n",
            "36\n",
            "49\n",
            "64\n",
            "81\n"
          ],
          "name": "stdout"
        }
      ]
    },
    {
      "cell_type": "code",
      "metadata": {
        "colab": {
          "base_uri": "https://localhost:8080/"
        },
        "id": "B_wVSABtc7xt",
        "outputId": "6aa1b997-54e8-40cb-aeab-9e3cdf3d12bb"
      },
      "source": [
        "if 10 > 0:\n",
        "  print('안녕하세요')"
      ],
      "execution_count": null,
      "outputs": [
        {
          "output_type": "stream",
          "text": [
            "안녕하세요\n"
          ],
          "name": "stdout"
        }
      ]
    },
    {
      "cell_type": "code",
      "metadata": {
        "colab": {
          "base_uri": "https://localhost:8080/"
        },
        "id": "O3rlKMVJdkPk",
        "outputId": "6cc150eb-1745-4a9d-a149-60825e5c0e41"
      },
      "source": [
        "for _ in range(1, 2, 4):\n",
        "  print('전기과 화이팅!!!')"
      ],
      "execution_count": null,
      "outputs": [
        {
          "output_type": "stream",
          "text": [
            "전기과 화이팅!!!\n"
          ],
          "name": "stdout"
        }
      ]
    },
    {
      "cell_type": "code",
      "metadata": {
        "colab": {
          "base_uri": "https://localhost:8080/"
        },
        "id": "jzbp292odvmd",
        "outputId": "40ae50b1-b9a9-43e0-926c-92711eef3c75"
      },
      "source": [
        "if 10 !=0 and 5 % 2 == 1:\n",
        "  print('안녕하세요')\n"
      ],
      "execution_count": null,
      "outputs": [
        {
          "output_type": "stream",
          "text": [
            "안녕하세요\n"
          ],
          "name": "stdout"
        }
      ]
    },
    {
      "cell_type": "code",
      "metadata": {
        "colab": {
          "base_uri": "https://localhost:8080/"
        },
        "id": "6bum6NPTeLsu",
        "outputId": "2c66e904-0268-41c0-f906-1ad10848917e"
      },
      "source": [
        "passwd = int(input('비밀번호 4자리 숫자 입력 : '))\n",
        "\n",
        "if passwd == 2021:\n",
        "  print('비밀번호가 일치')\n",
        "elif passwd == 2020:\n",
        "  print('이 숫자에 한 개만 더해주세요.')\n",
        "else :\n",
        "  print('다시 시작 해주세요.')"
      ],
      "execution_count": null,
      "outputs": [
        {
          "output_type": "stream",
          "text": [
            "비밀번호 4자리 숫자 입력 : 2020\n",
            "이 숫자에 한 개만 더해주세요.\n"
          ],
          "name": "stdout"
        }
      ]
    },
    {
      "cell_type": "code",
      "metadata": {
        "colab": {
          "base_uri": "https://localhost:8080/"
        },
        "id": "fw8OIbVSfJgM",
        "outputId": "533f8d1f-e95d-4376-81c4-956055237b7f"
      },
      "source": [
        "for i in range(1, 100000):\n",
        "  if i == 2020:\n",
        "    print('비밀번호가 일치')\n",
        "    print(f'비밀번호는 {i} 입니다.')"
      ],
      "execution_count": null,
      "outputs": [
        {
          "output_type": "stream",
          "text": [
            "비밀번호가 일치\n",
            "비밀번호는 2020 입니다.\n"
          ],
          "name": "stdout"
        }
      ]
    },
    {
      "cell_type": "code",
      "metadata": {
        "colab": {
          "base_uri": "https://localhost:8080/"
        },
        "id": "4dhYZMmOegqN",
        "outputId": "c71354e6-9008-46b1-c7fa-cb1aa8efecaf"
      },
      "source": [
        "print('[ 소름끼치도록 놀라운 심리테스트 ]')\n",
        "\n",
        "menu = input('당신이 좋아하는 과일을 입력해주세요 : ')\n",
        "\n",
        "if menu == '사과':\n",
        "  print(f'당신은 {menu}를 좋아하는 사람입니다.')\n",
        "elif menu == '바나나':\n",
        "  print(f'당신은 {menu}를 좋아하는 사람입니다.')\n",
        "else :\n",
        "  print(f'당신은 사과, 바나나를 좋아하지 않는 사람입니다.')"
      ],
      "execution_count": null,
      "outputs": [
        {
          "output_type": "stream",
          "text": [
            "[ 소름끼치도록 놀라운 심리테스트 ]\n",
            "당신이 좋아하는 과일을 입력해주세요 : 사과\n",
            "당신은 사과를 좋아하는 사람입니다.\n"
          ],
          "name": "stdout"
        }
      ]
    },
    {
      "cell_type": "code",
      "metadata": {
        "id": "99nBZx5tg748"
      },
      "source": [
        ""
      ],
      "execution_count": null,
      "outputs": []
    }
  ]
}