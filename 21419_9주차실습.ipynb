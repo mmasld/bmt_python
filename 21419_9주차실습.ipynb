{
  "nbformat": 4,
  "nbformat_minor": 0,
  "metadata": {
    "colab": {
      "name": "21419_9주차실습.ipynb",
      "provenance": [],
      "authorship_tag": "ABX9TyPzYSO116Rs/AUpp16WNU/c",
      "include_colab_link": true
    },
    "kernelspec": {
      "name": "python3",
      "display_name": "Python 3"
    },
    "language_info": {
      "name": "python"
    }
  },
  "cells": [
    {
      "cell_type": "markdown",
      "metadata": {
        "id": "view-in-github",
        "colab_type": "text"
      },
      "source": [
        "<a href=\"https://colab.research.google.com/github/mmasld/bmt_python/blob/main/21419_9%EC%A3%BC%EC%B0%A8%EC%8B%A4%EC%8A%B5.ipynb\" target=\"_parent\"><img src=\"https://colab.research.google.com/assets/colab-badge.svg\" alt=\"Open In Colab\"/></a>"
      ]
    },
    {
      "cell_type": "code",
      "metadata": {
        "id": "9amPtK6ddIqU"
      },
      "source": [
        "import pandas as pd\n",
        "import numpy as np\n",
        "import matplotlib.pyplot as plt"
      ],
      "execution_count": 2,
      "outputs": []
    },
    {
      "cell_type": "code",
      "metadata": {
        "id": "CFv6g8bZfs1q"
      },
      "source": [
        "s = pd.Series(    [1, 2, 5, np.nan, 6, 8   ]    )"
      ],
      "execution_count": 3,
      "outputs": []
    },
    {
      "cell_type": "code",
      "metadata": {
        "colab": {
          "base_uri": "https://localhost:8080/"
        },
        "id": "1mamiecWgptr",
        "outputId": "62de8263-ec1a-4429-b6b1-fe28d4a4c648"
      },
      "source": [
        "s"
      ],
      "execution_count": 4,
      "outputs": [
        {
          "output_type": "execute_result",
          "data": {
            "text/plain": [
              "0    1.0\n",
              "1    2.0\n",
              "2    5.0\n",
              "3    NaN\n",
              "4    6.0\n",
              "5    8.0\n",
              "dtype: float64"
            ]
          },
          "metadata": {
            "tags": []
          },
          "execution_count": 4
        }
      ]
    },
    {
      "cell_type": "code",
      "metadata": {
        "colab": {
          "base_uri": "https://localhost:8080/"
        },
        "id": "QFUqIw7-gqbz",
        "outputId": "5ecfea16-0571-4e42-837b-9ad00b0017aa"
      },
      "source": [
        "type(s)"
      ],
      "execution_count": 5,
      "outputs": [
        {
          "output_type": "execute_result",
          "data": {
            "text/plain": [
              "pandas.core.series.Series"
            ]
          },
          "metadata": {
            "tags": []
          },
          "execution_count": 5
        }
      ]
    },
    {
      "cell_type": "code",
      "metadata": {
        "colab": {
          "base_uri": "https://localhost:8080/"
        },
        "id": "M2U-zEu-g7R8",
        "outputId": "78091140-aeae-4c80-c7b3-ed0cde8427f0"
      },
      "source": [
        "type([])"
      ],
      "execution_count": 6,
      "outputs": [
        {
          "output_type": "execute_result",
          "data": {
            "text/plain": [
              "list"
            ]
          },
          "metadata": {
            "tags": []
          },
          "execution_count": 6
        }
      ]
    },
    {
      "cell_type": "code",
      "metadata": {
        "colab": {
          "base_uri": "https://localhost:8080/"
        },
        "id": "8lA24pUPg9r1",
        "outputId": "e2c00904-d327-4452-f61b-b715b2f21baf"
      },
      "source": [
        "type('asdfss')"
      ],
      "execution_count": 7,
      "outputs": [
        {
          "output_type": "execute_result",
          "data": {
            "text/plain": [
              "str"
            ]
          },
          "metadata": {
            "tags": []
          },
          "execution_count": 7
        }
      ]
    },
    {
      "cell_type": "code",
      "metadata": {
        "colab": {
          "base_uri": "https://localhost:8080/"
        },
        "id": "t2kObz_mhEsr",
        "outputId": "a105e05b-83fc-4bc1-9ab7-549ed59d7875"
      },
      "source": [
        "pd.date_range('20210430', periods=6)"
      ],
      "execution_count": 9,
      "outputs": [
        {
          "output_type": "execute_result",
          "data": {
            "text/plain": [
              "DatetimeIndex(['2021-04-30', '2021-05-01', '2021-05-02', '2021-05-03',\n",
              "               '2021-05-04', '2021-05-05'],\n",
              "              dtype='datetime64[ns]', freq='D')"
            ]
          },
          "metadata": {
            "tags": []
          },
          "execution_count": 9
        }
      ]
    },
    {
      "cell_type": "code",
      "metadata": {
        "colab": {
          "base_uri": "https://localhost:8080/"
        },
        "id": "w_FvYc6whahi",
        "outputId": "8e4e6dd6-3dec-4165-ec0c-d557c8428234"
      },
      "source": [
        "range(5)"
      ],
      "execution_count": 10,
      "outputs": [
        {
          "output_type": "execute_result",
          "data": {
            "text/plain": [
              "range(0, 5)"
            ]
          },
          "metadata": {
            "tags": []
          },
          "execution_count": 10
        }
      ]
    },
    {
      "cell_type": "code",
      "metadata": {
        "id": "a9aHd5OFhsQI"
      },
      "source": [
        "dates = pd.date_range('20210430',periods=6)"
      ],
      "execution_count": 11,
      "outputs": []
    },
    {
      "cell_type": "code",
      "metadata": {
        "colab": {
          "base_uri": "https://localhost:8080/"
        },
        "id": "ESQVDr6TiQur",
        "outputId": "f09ae1e9-4304-4e05-af5c-0e59a2b78a47"
      },
      "source": [
        "dates"
      ],
      "execution_count": 12,
      "outputs": [
        {
          "output_type": "execute_result",
          "data": {
            "text/plain": [
              "DatetimeIndex(['2021-04-30', '2021-05-01', '2021-05-02', '2021-05-03',\n",
              "               '2021-05-04', '2021-05-05'],\n",
              "              dtype='datetime64[ns]', freq='D')"
            ]
          },
          "metadata": {
            "tags": []
          },
          "execution_count": 12
        }
      ]
    },
    {
      "cell_type": "code",
      "metadata": {
        "id": "aN5NVN2PiRK-"
      },
      "source": [
        "df = pd.DataFrame(np.random.randn(6, 4), index=dates, columns=list('ABCD'))"
      ],
      "execution_count": 13,
      "outputs": []
    },
    {
      "cell_type": "code",
      "metadata": {
        "colab": {
          "base_uri": "https://localhost:8080/",
          "height": 228
        },
        "id": "0lFJ9r_-iiit",
        "outputId": "15a747fd-a298-4537-ce31-157b1dd1614e"
      },
      "source": [
        "df"
      ],
      "execution_count": 14,
      "outputs": [
        {
          "output_type": "execute_result",
          "data": {
            "text/html": [
              "<div>\n",
              "<style scoped>\n",
              "    .dataframe tbody tr th:only-of-type {\n",
              "        vertical-align: middle;\n",
              "    }\n",
              "\n",
              "    .dataframe tbody tr th {\n",
              "        vertical-align: top;\n",
              "    }\n",
              "\n",
              "    .dataframe thead th {\n",
              "        text-align: right;\n",
              "    }\n",
              "</style>\n",
              "<table border=\"1\" class=\"dataframe\">\n",
              "  <thead>\n",
              "    <tr style=\"text-align: right;\">\n",
              "      <th></th>\n",
              "      <th>A</th>\n",
              "      <th>B</th>\n",
              "      <th>C</th>\n",
              "      <th>D</th>\n",
              "    </tr>\n",
              "  </thead>\n",
              "  <tbody>\n",
              "    <tr>\n",
              "      <th>2021-04-30</th>\n",
              "      <td>1.875306</td>\n",
              "      <td>0.611661</td>\n",
              "      <td>-0.132262</td>\n",
              "      <td>1.145778</td>\n",
              "    </tr>\n",
              "    <tr>\n",
              "      <th>2021-05-01</th>\n",
              "      <td>-0.763226</td>\n",
              "      <td>-1.796537</td>\n",
              "      <td>-0.857206</td>\n",
              "      <td>1.024012</td>\n",
              "    </tr>\n",
              "    <tr>\n",
              "      <th>2021-05-02</th>\n",
              "      <td>1.257766</td>\n",
              "      <td>-0.228833</td>\n",
              "      <td>0.833653</td>\n",
              "      <td>0.083620</td>\n",
              "    </tr>\n",
              "    <tr>\n",
              "      <th>2021-05-03</th>\n",
              "      <td>-1.098023</td>\n",
              "      <td>1.196248</td>\n",
              "      <td>-0.279198</td>\n",
              "      <td>0.071982</td>\n",
              "    </tr>\n",
              "    <tr>\n",
              "      <th>2021-05-04</th>\n",
              "      <td>-1.695397</td>\n",
              "      <td>0.571189</td>\n",
              "      <td>0.005820</td>\n",
              "      <td>0.478246</td>\n",
              "    </tr>\n",
              "    <tr>\n",
              "      <th>2021-05-05</th>\n",
              "      <td>0.079963</td>\n",
              "      <td>0.951493</td>\n",
              "      <td>1.546574</td>\n",
              "      <td>-0.969445</td>\n",
              "    </tr>\n",
              "  </tbody>\n",
              "</table>\n",
              "</div>"
            ],
            "text/plain": [
              "                   A         B         C         D\n",
              "2021-04-30  1.875306  0.611661 -0.132262  1.145778\n",
              "2021-05-01 -0.763226 -1.796537 -0.857206  1.024012\n",
              "2021-05-02  1.257766 -0.228833  0.833653  0.083620\n",
              "2021-05-03 -1.098023  1.196248 -0.279198  0.071982\n",
              "2021-05-04 -1.695397  0.571189  0.005820  0.478246\n",
              "2021-05-05  0.079963  0.951493  1.546574 -0.969445"
            ]
          },
          "metadata": {
            "tags": []
          },
          "execution_count": 14
        }
      ]
    },
    {
      "cell_type": "code",
      "metadata": {
        "colab": {
          "base_uri": "https://localhost:8080/"
        },
        "id": "ZuqB0Yamii-C",
        "outputId": "cb6d65ec-0834-4d25-baf3-c2771d643392"
      },
      "source": [
        "np.random.randn(6, 4)"
      ],
      "execution_count": 15,
      "outputs": [
        {
          "output_type": "execute_result",
          "data": {
            "text/plain": [
              "array([[ 1.04690507, -0.51275172,  0.2956035 , -0.50336758],\n",
              "       [ 0.25555316,  0.82559624, -0.13172239, -0.30340623],\n",
              "       [-1.18797528,  0.25901664, -0.01363875, -0.67329123],\n",
              "       [ 1.12988163,  0.97227261, -0.03037418, -0.83515942],\n",
              "       [ 1.3013538 ,  0.84642227, -0.07730209,  0.94929984],\n",
              "       [-1.43560467, -0.20957842,  2.01235973, -0.6348749 ]])"
            ]
          },
          "metadata": {
            "tags": []
          },
          "execution_count": 15
        }
      ]
    },
    {
      "cell_type": "code",
      "metadata": {
        "id": "Vfedk-hli1q4"
      },
      "source": [
        "df2 = pd.DataFrame(\n",
        "    {\n",
        "        'A': 1.,\n",
        "        'B': pd.Timestamp('20201113'),\n",
        "        'C': pd.Series(1, index=list(range(4)), dtype='float32'),\n",
        "        'D': np.array([3] * 4, dtype='int32'),\n",
        "        'E': pd.Categorical([\"test\", \"train\", \"test\", \"train\"]),\n",
        "        'F': 'foo'\n",
        "     }\n",
        ")"
      ],
      "execution_count": 22,
      "outputs": []
    },
    {
      "cell_type": "code",
      "metadata": {
        "colab": {
          "base_uri": "https://localhost:8080/",
          "height": 168
        },
        "id": "oElwFC1vlXSi",
        "outputId": "904610be-dd1b-4b0f-b16e-a52bd4a468d1"
      },
      "source": [
        "df2"
      ],
      "execution_count": 23,
      "outputs": [
        {
          "output_type": "execute_result",
          "data": {
            "text/html": [
              "<div>\n",
              "<style scoped>\n",
              "    .dataframe tbody tr th:only-of-type {\n",
              "        vertical-align: middle;\n",
              "    }\n",
              "\n",
              "    .dataframe tbody tr th {\n",
              "        vertical-align: top;\n",
              "    }\n",
              "\n",
              "    .dataframe thead th {\n",
              "        text-align: right;\n",
              "    }\n",
              "</style>\n",
              "<table border=\"1\" class=\"dataframe\">\n",
              "  <thead>\n",
              "    <tr style=\"text-align: right;\">\n",
              "      <th></th>\n",
              "      <th>A</th>\n",
              "      <th>B</th>\n",
              "      <th>C</th>\n",
              "      <th>D</th>\n",
              "      <th>E</th>\n",
              "      <th>F</th>\n",
              "    </tr>\n",
              "  </thead>\n",
              "  <tbody>\n",
              "    <tr>\n",
              "      <th>0</th>\n",
              "      <td>1.0</td>\n",
              "      <td>2020-11-13</td>\n",
              "      <td>1.0</td>\n",
              "      <td>3</td>\n",
              "      <td>test</td>\n",
              "      <td>foo</td>\n",
              "    </tr>\n",
              "    <tr>\n",
              "      <th>1</th>\n",
              "      <td>1.0</td>\n",
              "      <td>2020-11-13</td>\n",
              "      <td>1.0</td>\n",
              "      <td>3</td>\n",
              "      <td>train</td>\n",
              "      <td>foo</td>\n",
              "    </tr>\n",
              "    <tr>\n",
              "      <th>2</th>\n",
              "      <td>1.0</td>\n",
              "      <td>2020-11-13</td>\n",
              "      <td>1.0</td>\n",
              "      <td>3</td>\n",
              "      <td>test</td>\n",
              "      <td>foo</td>\n",
              "    </tr>\n",
              "    <tr>\n",
              "      <th>3</th>\n",
              "      <td>1.0</td>\n",
              "      <td>2020-11-13</td>\n",
              "      <td>1.0</td>\n",
              "      <td>3</td>\n",
              "      <td>train</td>\n",
              "      <td>foo</td>\n",
              "    </tr>\n",
              "  </tbody>\n",
              "</table>\n",
              "</div>"
            ],
            "text/plain": [
              "     A          B    C  D      E    F\n",
              "0  1.0 2020-11-13  1.0  3   test  foo\n",
              "1  1.0 2020-11-13  1.0  3  train  foo\n",
              "2  1.0 2020-11-13  1.0  3   test  foo\n",
              "3  1.0 2020-11-13  1.0  3  train  foo"
            ]
          },
          "metadata": {
            "tags": []
          },
          "execution_count": 23
        }
      ]
    },
    {
      "cell_type": "code",
      "metadata": {
        "colab": {
          "base_uri": "https://localhost:8080/"
        },
        "id": "flr6VnwKk318",
        "outputId": "2c924f4d-a788-469d-8071-5a7db23613c2"
      },
      "source": [
        "type(df2)"
      ],
      "execution_count": 20,
      "outputs": [
        {
          "output_type": "execute_result",
          "data": {
            "text/plain": [
              "pandas.core.frame.DataFrame"
            ]
          },
          "metadata": {
            "tags": []
          },
          "execution_count": 20
        }
      ]
    },
    {
      "cell_type": "code",
      "metadata": {
        "colab": {
          "base_uri": "https://localhost:8080/"
        },
        "id": "hS3qMee2lHQ2",
        "outputId": "05632111-3b21-4067-b9d9-c173b043e692"
      },
      "source": [
        "df2.dtypes"
      ],
      "execution_count": 21,
      "outputs": [
        {
          "output_type": "execute_result",
          "data": {
            "text/plain": [
              "A           float64\n",
              "B    datetime64[ns]\n",
              "C           float32\n",
              "D             int32\n",
              "E          category\n",
              "F            object\n",
              "dtype: object"
            ]
          },
          "metadata": {
            "tags": []
          },
          "execution_count": 21
        }
      ]
    },
    {
      "cell_type": "code",
      "metadata": {
        "colab": {
          "base_uri": "https://localhost:8080/"
        },
        "id": "kp8SHbsIlMnt",
        "outputId": "80a4b5ee-d35d-4419-bc31-8700bb3a08e3"
      },
      "source": [
        "dates"
      ],
      "execution_count": 25,
      "outputs": [
        {
          "output_type": "execute_result",
          "data": {
            "text/plain": [
              "DatetimeIndex(['2021-04-30', '2021-05-01', '2021-05-02', '2021-05-03',\n",
              "               '2021-05-04', '2021-05-05'],\n",
              "              dtype='datetime64[ns]', freq='D')"
            ]
          },
          "metadata": {
            "tags": []
          },
          "execution_count": 25
        }
      ]
    },
    {
      "cell_type": "code",
      "metadata": {
        "colab": {
          "base_uri": "https://localhost:8080/",
          "height": 228
        },
        "id": "2E-Cvw66lrv6",
        "outputId": "fa03835f-95d2-42fd-a365-7fa7de901fe2"
      },
      "source": [
        "df"
      ],
      "execution_count": 26,
      "outputs": [
        {
          "output_type": "execute_result",
          "data": {
            "text/html": [
              "<div>\n",
              "<style scoped>\n",
              "    .dataframe tbody tr th:only-of-type {\n",
              "        vertical-align: middle;\n",
              "    }\n",
              "\n",
              "    .dataframe tbody tr th {\n",
              "        vertical-align: top;\n",
              "    }\n",
              "\n",
              "    .dataframe thead th {\n",
              "        text-align: right;\n",
              "    }\n",
              "</style>\n",
              "<table border=\"1\" class=\"dataframe\">\n",
              "  <thead>\n",
              "    <tr style=\"text-align: right;\">\n",
              "      <th></th>\n",
              "      <th>A</th>\n",
              "      <th>B</th>\n",
              "      <th>C</th>\n",
              "      <th>D</th>\n",
              "    </tr>\n",
              "  </thead>\n",
              "  <tbody>\n",
              "    <tr>\n",
              "      <th>2021-04-30</th>\n",
              "      <td>1.875306</td>\n",
              "      <td>0.611661</td>\n",
              "      <td>-0.132262</td>\n",
              "      <td>1.145778</td>\n",
              "    </tr>\n",
              "    <tr>\n",
              "      <th>2021-05-01</th>\n",
              "      <td>-0.763226</td>\n",
              "      <td>-1.796537</td>\n",
              "      <td>-0.857206</td>\n",
              "      <td>1.024012</td>\n",
              "    </tr>\n",
              "    <tr>\n",
              "      <th>2021-05-02</th>\n",
              "      <td>1.257766</td>\n",
              "      <td>-0.228833</td>\n",
              "      <td>0.833653</td>\n",
              "      <td>0.083620</td>\n",
              "    </tr>\n",
              "    <tr>\n",
              "      <th>2021-05-03</th>\n",
              "      <td>-1.098023</td>\n",
              "      <td>1.196248</td>\n",
              "      <td>-0.279198</td>\n",
              "      <td>0.071982</td>\n",
              "    </tr>\n",
              "    <tr>\n",
              "      <th>2021-05-04</th>\n",
              "      <td>-1.695397</td>\n",
              "      <td>0.571189</td>\n",
              "      <td>0.005820</td>\n",
              "      <td>0.478246</td>\n",
              "    </tr>\n",
              "    <tr>\n",
              "      <th>2021-05-05</th>\n",
              "      <td>0.079963</td>\n",
              "      <td>0.951493</td>\n",
              "      <td>1.546574</td>\n",
              "      <td>-0.969445</td>\n",
              "    </tr>\n",
              "  </tbody>\n",
              "</table>\n",
              "</div>"
            ],
            "text/plain": [
              "                   A         B         C         D\n",
              "2021-04-30  1.875306  0.611661 -0.132262  1.145778\n",
              "2021-05-01 -0.763226 -1.796537 -0.857206  1.024012\n",
              "2021-05-02  1.257766 -0.228833  0.833653  0.083620\n",
              "2021-05-03 -1.098023  1.196248 -0.279198  0.071982\n",
              "2021-05-04 -1.695397  0.571189  0.005820  0.478246\n",
              "2021-05-05  0.079963  0.951493  1.546574 -0.969445"
            ]
          },
          "metadata": {
            "tags": []
          },
          "execution_count": 26
        }
      ]
    },
    {
      "cell_type": "code",
      "metadata": {
        "colab": {
          "base_uri": "https://localhost:8080/",
          "height": 198
        },
        "id": "GQjvbX39luZK",
        "outputId": "f85ca91d-2d2b-4eee-eef7-8af1c24f576a"
      },
      "source": [
        "df.head()"
      ],
      "execution_count": 28,
      "outputs": [
        {
          "output_type": "execute_result",
          "data": {
            "text/html": [
              "<div>\n",
              "<style scoped>\n",
              "    .dataframe tbody tr th:only-of-type {\n",
              "        vertical-align: middle;\n",
              "    }\n",
              "\n",
              "    .dataframe tbody tr th {\n",
              "        vertical-align: top;\n",
              "    }\n",
              "\n",
              "    .dataframe thead th {\n",
              "        text-align: right;\n",
              "    }\n",
              "</style>\n",
              "<table border=\"1\" class=\"dataframe\">\n",
              "  <thead>\n",
              "    <tr style=\"text-align: right;\">\n",
              "      <th></th>\n",
              "      <th>A</th>\n",
              "      <th>B</th>\n",
              "      <th>C</th>\n",
              "      <th>D</th>\n",
              "    </tr>\n",
              "  </thead>\n",
              "  <tbody>\n",
              "    <tr>\n",
              "      <th>2021-04-30</th>\n",
              "      <td>1.875306</td>\n",
              "      <td>0.611661</td>\n",
              "      <td>-0.132262</td>\n",
              "      <td>1.145778</td>\n",
              "    </tr>\n",
              "    <tr>\n",
              "      <th>2021-05-01</th>\n",
              "      <td>-0.763226</td>\n",
              "      <td>-1.796537</td>\n",
              "      <td>-0.857206</td>\n",
              "      <td>1.024012</td>\n",
              "    </tr>\n",
              "    <tr>\n",
              "      <th>2021-05-02</th>\n",
              "      <td>1.257766</td>\n",
              "      <td>-0.228833</td>\n",
              "      <td>0.833653</td>\n",
              "      <td>0.083620</td>\n",
              "    </tr>\n",
              "    <tr>\n",
              "      <th>2021-05-03</th>\n",
              "      <td>-1.098023</td>\n",
              "      <td>1.196248</td>\n",
              "      <td>-0.279198</td>\n",
              "      <td>0.071982</td>\n",
              "    </tr>\n",
              "    <tr>\n",
              "      <th>2021-05-04</th>\n",
              "      <td>-1.695397</td>\n",
              "      <td>0.571189</td>\n",
              "      <td>0.005820</td>\n",
              "      <td>0.478246</td>\n",
              "    </tr>\n",
              "  </tbody>\n",
              "</table>\n",
              "</div>"
            ],
            "text/plain": [
              "                   A         B         C         D\n",
              "2021-04-30  1.875306  0.611661 -0.132262  1.145778\n",
              "2021-05-01 -0.763226 -1.796537 -0.857206  1.024012\n",
              "2021-05-02  1.257766 -0.228833  0.833653  0.083620\n",
              "2021-05-03 -1.098023  1.196248 -0.279198  0.071982\n",
              "2021-05-04 -1.695397  0.571189  0.005820  0.478246"
            ]
          },
          "metadata": {
            "tags": []
          },
          "execution_count": 28
        }
      ]
    },
    {
      "cell_type": "code",
      "metadata": {
        "colab": {
          "base_uri": "https://localhost:8080/",
          "height": 198
        },
        "id": "dB6AD2yZlwMt",
        "outputId": "b7f8b951-36d8-4f82-e794-07eaff92e4e1"
      },
      "source": [
        "df.tail()"
      ],
      "execution_count": 29,
      "outputs": [
        {
          "output_type": "execute_result",
          "data": {
            "text/html": [
              "<div>\n",
              "<style scoped>\n",
              "    .dataframe tbody tr th:only-of-type {\n",
              "        vertical-align: middle;\n",
              "    }\n",
              "\n",
              "    .dataframe tbody tr th {\n",
              "        vertical-align: top;\n",
              "    }\n",
              "\n",
              "    .dataframe thead th {\n",
              "        text-align: right;\n",
              "    }\n",
              "</style>\n",
              "<table border=\"1\" class=\"dataframe\">\n",
              "  <thead>\n",
              "    <tr style=\"text-align: right;\">\n",
              "      <th></th>\n",
              "      <th>A</th>\n",
              "      <th>B</th>\n",
              "      <th>C</th>\n",
              "      <th>D</th>\n",
              "    </tr>\n",
              "  </thead>\n",
              "  <tbody>\n",
              "    <tr>\n",
              "      <th>2021-05-01</th>\n",
              "      <td>-0.763226</td>\n",
              "      <td>-1.796537</td>\n",
              "      <td>-0.857206</td>\n",
              "      <td>1.024012</td>\n",
              "    </tr>\n",
              "    <tr>\n",
              "      <th>2021-05-02</th>\n",
              "      <td>1.257766</td>\n",
              "      <td>-0.228833</td>\n",
              "      <td>0.833653</td>\n",
              "      <td>0.083620</td>\n",
              "    </tr>\n",
              "    <tr>\n",
              "      <th>2021-05-03</th>\n",
              "      <td>-1.098023</td>\n",
              "      <td>1.196248</td>\n",
              "      <td>-0.279198</td>\n",
              "      <td>0.071982</td>\n",
              "    </tr>\n",
              "    <tr>\n",
              "      <th>2021-05-04</th>\n",
              "      <td>-1.695397</td>\n",
              "      <td>0.571189</td>\n",
              "      <td>0.005820</td>\n",
              "      <td>0.478246</td>\n",
              "    </tr>\n",
              "    <tr>\n",
              "      <th>2021-05-05</th>\n",
              "      <td>0.079963</td>\n",
              "      <td>0.951493</td>\n",
              "      <td>1.546574</td>\n",
              "      <td>-0.969445</td>\n",
              "    </tr>\n",
              "  </tbody>\n",
              "</table>\n",
              "</div>"
            ],
            "text/plain": [
              "                   A         B         C         D\n",
              "2021-05-01 -0.763226 -1.796537 -0.857206  1.024012\n",
              "2021-05-02  1.257766 -0.228833  0.833653  0.083620\n",
              "2021-05-03 -1.098023  1.196248 -0.279198  0.071982\n",
              "2021-05-04 -1.695397  0.571189  0.005820  0.478246\n",
              "2021-05-05  0.079963  0.951493  1.546574 -0.969445"
            ]
          },
          "metadata": {
            "tags": []
          },
          "execution_count": 29
        }
      ]
    },
    {
      "cell_type": "code",
      "metadata": {
        "colab": {
          "base_uri": "https://localhost:8080/",
          "height": 108
        },
        "id": "IZEhhITTmCFt",
        "outputId": "154ec9de-4e2e-4821-8fbf-8da7d4a2e7b5"
      },
      "source": [
        "df.tail(2)"
      ],
      "execution_count": 31,
      "outputs": [
        {
          "output_type": "execute_result",
          "data": {
            "text/html": [
              "<div>\n",
              "<style scoped>\n",
              "    .dataframe tbody tr th:only-of-type {\n",
              "        vertical-align: middle;\n",
              "    }\n",
              "\n",
              "    .dataframe tbody tr th {\n",
              "        vertical-align: top;\n",
              "    }\n",
              "\n",
              "    .dataframe thead th {\n",
              "        text-align: right;\n",
              "    }\n",
              "</style>\n",
              "<table border=\"1\" class=\"dataframe\">\n",
              "  <thead>\n",
              "    <tr style=\"text-align: right;\">\n",
              "      <th></th>\n",
              "      <th>A</th>\n",
              "      <th>B</th>\n",
              "      <th>C</th>\n",
              "      <th>D</th>\n",
              "    </tr>\n",
              "  </thead>\n",
              "  <tbody>\n",
              "    <tr>\n",
              "      <th>2021-05-04</th>\n",
              "      <td>-1.695397</td>\n",
              "      <td>0.571189</td>\n",
              "      <td>0.005820</td>\n",
              "      <td>0.478246</td>\n",
              "    </tr>\n",
              "    <tr>\n",
              "      <th>2021-05-05</th>\n",
              "      <td>0.079963</td>\n",
              "      <td>0.951493</td>\n",
              "      <td>1.546574</td>\n",
              "      <td>-0.969445</td>\n",
              "    </tr>\n",
              "  </tbody>\n",
              "</table>\n",
              "</div>"
            ],
            "text/plain": [
              "                   A         B         C         D\n",
              "2021-05-04 -1.695397  0.571189  0.005820  0.478246\n",
              "2021-05-05  0.079963  0.951493  1.546574 -0.969445"
            ]
          },
          "metadata": {
            "tags": []
          },
          "execution_count": 31
        }
      ]
    },
    {
      "cell_type": "code",
      "metadata": {
        "colab": {
          "base_uri": "https://localhost:8080/",
          "height": 228
        },
        "id": "k7GYzyxLmUvS",
        "outputId": "6887a351-296b-4300-8682-2e053790915e"
      },
      "source": [
        "df"
      ],
      "execution_count": 32,
      "outputs": [
        {
          "output_type": "execute_result",
          "data": {
            "text/html": [
              "<div>\n",
              "<style scoped>\n",
              "    .dataframe tbody tr th:only-of-type {\n",
              "        vertical-align: middle;\n",
              "    }\n",
              "\n",
              "    .dataframe tbody tr th {\n",
              "        vertical-align: top;\n",
              "    }\n",
              "\n",
              "    .dataframe thead th {\n",
              "        text-align: right;\n",
              "    }\n",
              "</style>\n",
              "<table border=\"1\" class=\"dataframe\">\n",
              "  <thead>\n",
              "    <tr style=\"text-align: right;\">\n",
              "      <th></th>\n",
              "      <th>A</th>\n",
              "      <th>B</th>\n",
              "      <th>C</th>\n",
              "      <th>D</th>\n",
              "    </tr>\n",
              "  </thead>\n",
              "  <tbody>\n",
              "    <tr>\n",
              "      <th>2021-04-30</th>\n",
              "      <td>1.875306</td>\n",
              "      <td>0.611661</td>\n",
              "      <td>-0.132262</td>\n",
              "      <td>1.145778</td>\n",
              "    </tr>\n",
              "    <tr>\n",
              "      <th>2021-05-01</th>\n",
              "      <td>-0.763226</td>\n",
              "      <td>-1.796537</td>\n",
              "      <td>-0.857206</td>\n",
              "      <td>1.024012</td>\n",
              "    </tr>\n",
              "    <tr>\n",
              "      <th>2021-05-02</th>\n",
              "      <td>1.257766</td>\n",
              "      <td>-0.228833</td>\n",
              "      <td>0.833653</td>\n",
              "      <td>0.083620</td>\n",
              "    </tr>\n",
              "    <tr>\n",
              "      <th>2021-05-03</th>\n",
              "      <td>-1.098023</td>\n",
              "      <td>1.196248</td>\n",
              "      <td>-0.279198</td>\n",
              "      <td>0.071982</td>\n",
              "    </tr>\n",
              "    <tr>\n",
              "      <th>2021-05-04</th>\n",
              "      <td>-1.695397</td>\n",
              "      <td>0.571189</td>\n",
              "      <td>0.005820</td>\n",
              "      <td>0.478246</td>\n",
              "    </tr>\n",
              "    <tr>\n",
              "      <th>2021-05-05</th>\n",
              "      <td>0.079963</td>\n",
              "      <td>0.951493</td>\n",
              "      <td>1.546574</td>\n",
              "      <td>-0.969445</td>\n",
              "    </tr>\n",
              "  </tbody>\n",
              "</table>\n",
              "</div>"
            ],
            "text/plain": [
              "                   A         B         C         D\n",
              "2021-04-30  1.875306  0.611661 -0.132262  1.145778\n",
              "2021-05-01 -0.763226 -1.796537 -0.857206  1.024012\n",
              "2021-05-02  1.257766 -0.228833  0.833653  0.083620\n",
              "2021-05-03 -1.098023  1.196248 -0.279198  0.071982\n",
              "2021-05-04 -1.695397  0.571189  0.005820  0.478246\n",
              "2021-05-05  0.079963  0.951493  1.546574 -0.969445"
            ]
          },
          "metadata": {
            "tags": []
          },
          "execution_count": 32
        }
      ]
    },
    {
      "cell_type": "code",
      "metadata": {
        "colab": {
          "base_uri": "https://localhost:8080/"
        },
        "id": "b5jmcTl4md0u",
        "outputId": "037dea68-9b93-4bba-fd60-1a3ce4f44e1c"
      },
      "source": [
        "df.index"
      ],
      "execution_count": 33,
      "outputs": [
        {
          "output_type": "execute_result",
          "data": {
            "text/plain": [
              "DatetimeIndex(['2021-04-30', '2021-05-01', '2021-05-02', '2021-05-03',\n",
              "               '2021-05-04', '2021-05-05'],\n",
              "              dtype='datetime64[ns]', freq='D')"
            ]
          },
          "metadata": {
            "tags": []
          },
          "execution_count": 33
        }
      ]
    },
    {
      "cell_type": "code",
      "metadata": {
        "colab": {
          "base_uri": "https://localhost:8080/"
        },
        "id": "FkfpCv-1mh6u",
        "outputId": "056417d4-b3ab-4a57-c803-a9b7143b4911"
      },
      "source": [
        "df.columns"
      ],
      "execution_count": 35,
      "outputs": [
        {
          "output_type": "execute_result",
          "data": {
            "text/plain": [
              "Index(['A', 'B', 'C', 'D'], dtype='object')"
            ]
          },
          "metadata": {
            "tags": []
          },
          "execution_count": 35
        }
      ]
    },
    {
      "cell_type": "code",
      "metadata": {
        "colab": {
          "base_uri": "https://localhost:8080/"
        },
        "id": "yICLON3Bmk9v",
        "outputId": "e203339b-c80d-4976-e8f4-367c5073ac57"
      },
      "source": [
        "df.values"
      ],
      "execution_count": 36,
      "outputs": [
        {
          "output_type": "execute_result",
          "data": {
            "text/plain": [
              "array([[ 1.87530571,  0.61166051, -0.13226151,  1.14577841],\n",
              "       [-0.763226  , -1.79653664, -0.85720579,  1.02401159],\n",
              "       [ 1.2577658 , -0.22883329,  0.83365296,  0.08362033],\n",
              "       [-1.09802295,  1.19624794, -0.27919791,  0.07198218],\n",
              "       [-1.69539721,  0.57118925,  0.00581981,  0.47824616],\n",
              "       [ 0.07996328,  0.95149269,  1.5465742 , -0.96944457]])"
            ]
          },
          "metadata": {
            "tags": []
          },
          "execution_count": 36
        }
      ]
    },
    {
      "cell_type": "code",
      "metadata": {
        "colab": {
          "base_uri": "https://localhost:8080/",
          "height": 228
        },
        "id": "gY58dcdkmoXn",
        "outputId": "07f02e51-5705-4fcc-9c52-0298220e9bfd"
      },
      "source": [
        "df"
      ],
      "execution_count": 37,
      "outputs": [
        {
          "output_type": "execute_result",
          "data": {
            "text/html": [
              "<div>\n",
              "<style scoped>\n",
              "    .dataframe tbody tr th:only-of-type {\n",
              "        vertical-align: middle;\n",
              "    }\n",
              "\n",
              "    .dataframe tbody tr th {\n",
              "        vertical-align: top;\n",
              "    }\n",
              "\n",
              "    .dataframe thead th {\n",
              "        text-align: right;\n",
              "    }\n",
              "</style>\n",
              "<table border=\"1\" class=\"dataframe\">\n",
              "  <thead>\n",
              "    <tr style=\"text-align: right;\">\n",
              "      <th></th>\n",
              "      <th>A</th>\n",
              "      <th>B</th>\n",
              "      <th>C</th>\n",
              "      <th>D</th>\n",
              "    </tr>\n",
              "  </thead>\n",
              "  <tbody>\n",
              "    <tr>\n",
              "      <th>2021-04-30</th>\n",
              "      <td>1.875306</td>\n",
              "      <td>0.611661</td>\n",
              "      <td>-0.132262</td>\n",
              "      <td>1.145778</td>\n",
              "    </tr>\n",
              "    <tr>\n",
              "      <th>2021-05-01</th>\n",
              "      <td>-0.763226</td>\n",
              "      <td>-1.796537</td>\n",
              "      <td>-0.857206</td>\n",
              "      <td>1.024012</td>\n",
              "    </tr>\n",
              "    <tr>\n",
              "      <th>2021-05-02</th>\n",
              "      <td>1.257766</td>\n",
              "      <td>-0.228833</td>\n",
              "      <td>0.833653</td>\n",
              "      <td>0.083620</td>\n",
              "    </tr>\n",
              "    <tr>\n",
              "      <th>2021-05-03</th>\n",
              "      <td>-1.098023</td>\n",
              "      <td>1.196248</td>\n",
              "      <td>-0.279198</td>\n",
              "      <td>0.071982</td>\n",
              "    </tr>\n",
              "    <tr>\n",
              "      <th>2021-05-04</th>\n",
              "      <td>-1.695397</td>\n",
              "      <td>0.571189</td>\n",
              "      <td>0.005820</td>\n",
              "      <td>0.478246</td>\n",
              "    </tr>\n",
              "    <tr>\n",
              "      <th>2021-05-05</th>\n",
              "      <td>0.079963</td>\n",
              "      <td>0.951493</td>\n",
              "      <td>1.546574</td>\n",
              "      <td>-0.969445</td>\n",
              "    </tr>\n",
              "  </tbody>\n",
              "</table>\n",
              "</div>"
            ],
            "text/plain": [
              "                   A         B         C         D\n",
              "2021-04-30  1.875306  0.611661 -0.132262  1.145778\n",
              "2021-05-01 -0.763226 -1.796537 -0.857206  1.024012\n",
              "2021-05-02  1.257766 -0.228833  0.833653  0.083620\n",
              "2021-05-03 -1.098023  1.196248 -0.279198  0.071982\n",
              "2021-05-04 -1.695397  0.571189  0.005820  0.478246\n",
              "2021-05-05  0.079963  0.951493  1.546574 -0.969445"
            ]
          },
          "metadata": {
            "tags": []
          },
          "execution_count": 37
        }
      ]
    },
    {
      "cell_type": "code",
      "metadata": {
        "colab": {
          "base_uri": "https://localhost:8080/",
          "height": 168
        },
        "id": "DQi_DoZamvra",
        "outputId": "7e61dd92-71c8-4837-8de7-fcb7c9e8fb26"
      },
      "source": [
        "df.T"
      ],
      "execution_count": 39,
      "outputs": [
        {
          "output_type": "execute_result",
          "data": {
            "text/html": [
              "<div>\n",
              "<style scoped>\n",
              "    .dataframe tbody tr th:only-of-type {\n",
              "        vertical-align: middle;\n",
              "    }\n",
              "\n",
              "    .dataframe tbody tr th {\n",
              "        vertical-align: top;\n",
              "    }\n",
              "\n",
              "    .dataframe thead th {\n",
              "        text-align: right;\n",
              "    }\n",
              "</style>\n",
              "<table border=\"1\" class=\"dataframe\">\n",
              "  <thead>\n",
              "    <tr style=\"text-align: right;\">\n",
              "      <th></th>\n",
              "      <th>2021-04-30</th>\n",
              "      <th>2021-05-01</th>\n",
              "      <th>2021-05-02</th>\n",
              "      <th>2021-05-03</th>\n",
              "      <th>2021-05-04</th>\n",
              "      <th>2021-05-05</th>\n",
              "    </tr>\n",
              "  </thead>\n",
              "  <tbody>\n",
              "    <tr>\n",
              "      <th>A</th>\n",
              "      <td>1.875306</td>\n",
              "      <td>-0.763226</td>\n",
              "      <td>1.257766</td>\n",
              "      <td>-1.098023</td>\n",
              "      <td>-1.695397</td>\n",
              "      <td>0.079963</td>\n",
              "    </tr>\n",
              "    <tr>\n",
              "      <th>B</th>\n",
              "      <td>0.611661</td>\n",
              "      <td>-1.796537</td>\n",
              "      <td>-0.228833</td>\n",
              "      <td>1.196248</td>\n",
              "      <td>0.571189</td>\n",
              "      <td>0.951493</td>\n",
              "    </tr>\n",
              "    <tr>\n",
              "      <th>C</th>\n",
              "      <td>-0.132262</td>\n",
              "      <td>-0.857206</td>\n",
              "      <td>0.833653</td>\n",
              "      <td>-0.279198</td>\n",
              "      <td>0.005820</td>\n",
              "      <td>1.546574</td>\n",
              "    </tr>\n",
              "    <tr>\n",
              "      <th>D</th>\n",
              "      <td>1.145778</td>\n",
              "      <td>1.024012</td>\n",
              "      <td>0.083620</td>\n",
              "      <td>0.071982</td>\n",
              "      <td>0.478246</td>\n",
              "      <td>-0.969445</td>\n",
              "    </tr>\n",
              "  </tbody>\n",
              "</table>\n",
              "</div>"
            ],
            "text/plain": [
              "   2021-04-30  2021-05-01  2021-05-02  2021-05-03  2021-05-04  2021-05-05\n",
              "A    1.875306   -0.763226    1.257766   -1.098023   -1.695397    0.079963\n",
              "B    0.611661   -1.796537   -0.228833    1.196248    0.571189    0.951493\n",
              "C   -0.132262   -0.857206    0.833653   -0.279198    0.005820    1.546574\n",
              "D    1.145778    1.024012    0.083620    0.071982    0.478246   -0.969445"
            ]
          },
          "metadata": {
            "tags": []
          },
          "execution_count": 39
        }
      ]
    },
    {
      "cell_type": "code",
      "metadata": {
        "colab": {
          "base_uri": "https://localhost:8080/",
          "height": 228
        },
        "id": "ZRU3y3Ntm2_6",
        "outputId": "f1924c37-8877-4d5a-f661-6a6012b6ea7a"
      },
      "source": [
        "df.sort_index(axis=0, ascending=True)"
      ],
      "execution_count": 42,
      "outputs": [
        {
          "output_type": "execute_result",
          "data": {
            "text/html": [
              "<div>\n",
              "<style scoped>\n",
              "    .dataframe tbody tr th:only-of-type {\n",
              "        vertical-align: middle;\n",
              "    }\n",
              "\n",
              "    .dataframe tbody tr th {\n",
              "        vertical-align: top;\n",
              "    }\n",
              "\n",
              "    .dataframe thead th {\n",
              "        text-align: right;\n",
              "    }\n",
              "</style>\n",
              "<table border=\"1\" class=\"dataframe\">\n",
              "  <thead>\n",
              "    <tr style=\"text-align: right;\">\n",
              "      <th></th>\n",
              "      <th>A</th>\n",
              "      <th>B</th>\n",
              "      <th>C</th>\n",
              "      <th>D</th>\n",
              "    </tr>\n",
              "  </thead>\n",
              "  <tbody>\n",
              "    <tr>\n",
              "      <th>2021-04-30</th>\n",
              "      <td>1.875306</td>\n",
              "      <td>0.611661</td>\n",
              "      <td>-0.132262</td>\n",
              "      <td>1.145778</td>\n",
              "    </tr>\n",
              "    <tr>\n",
              "      <th>2021-05-01</th>\n",
              "      <td>-0.763226</td>\n",
              "      <td>-1.796537</td>\n",
              "      <td>-0.857206</td>\n",
              "      <td>1.024012</td>\n",
              "    </tr>\n",
              "    <tr>\n",
              "      <th>2021-05-02</th>\n",
              "      <td>1.257766</td>\n",
              "      <td>-0.228833</td>\n",
              "      <td>0.833653</td>\n",
              "      <td>0.083620</td>\n",
              "    </tr>\n",
              "    <tr>\n",
              "      <th>2021-05-03</th>\n",
              "      <td>-1.098023</td>\n",
              "      <td>1.196248</td>\n",
              "      <td>-0.279198</td>\n",
              "      <td>0.071982</td>\n",
              "    </tr>\n",
              "    <tr>\n",
              "      <th>2021-05-04</th>\n",
              "      <td>-1.695397</td>\n",
              "      <td>0.571189</td>\n",
              "      <td>0.005820</td>\n",
              "      <td>0.478246</td>\n",
              "    </tr>\n",
              "    <tr>\n",
              "      <th>2021-05-05</th>\n",
              "      <td>0.079963</td>\n",
              "      <td>0.951493</td>\n",
              "      <td>1.546574</td>\n",
              "      <td>-0.969445</td>\n",
              "    </tr>\n",
              "  </tbody>\n",
              "</table>\n",
              "</div>"
            ],
            "text/plain": [
              "                   A         B         C         D\n",
              "2021-04-30  1.875306  0.611661 -0.132262  1.145778\n",
              "2021-05-01 -0.763226 -1.796537 -0.857206  1.024012\n",
              "2021-05-02  1.257766 -0.228833  0.833653  0.083620\n",
              "2021-05-03 -1.098023  1.196248 -0.279198  0.071982\n",
              "2021-05-04 -1.695397  0.571189  0.005820  0.478246\n",
              "2021-05-05  0.079963  0.951493  1.546574 -0.969445"
            ]
          },
          "metadata": {
            "tags": []
          },
          "execution_count": 42
        }
      ]
    },
    {
      "cell_type": "code",
      "metadata": {
        "colab": {
          "base_uri": "https://localhost:8080/",
          "height": 228
        },
        "id": "-jeBOiw_pNoU",
        "outputId": "beab0326-05a2-41a5-d85a-6cffe036fde9"
      },
      "source": [
        "df.sort_index(axis=0, ascending=False)"
      ],
      "execution_count": 43,
      "outputs": [
        {
          "output_type": "execute_result",
          "data": {
            "text/html": [
              "<div>\n",
              "<style scoped>\n",
              "    .dataframe tbody tr th:only-of-type {\n",
              "        vertical-align: middle;\n",
              "    }\n",
              "\n",
              "    .dataframe tbody tr th {\n",
              "        vertical-align: top;\n",
              "    }\n",
              "\n",
              "    .dataframe thead th {\n",
              "        text-align: right;\n",
              "    }\n",
              "</style>\n",
              "<table border=\"1\" class=\"dataframe\">\n",
              "  <thead>\n",
              "    <tr style=\"text-align: right;\">\n",
              "      <th></th>\n",
              "      <th>A</th>\n",
              "      <th>B</th>\n",
              "      <th>C</th>\n",
              "      <th>D</th>\n",
              "    </tr>\n",
              "  </thead>\n",
              "  <tbody>\n",
              "    <tr>\n",
              "      <th>2021-05-05</th>\n",
              "      <td>0.079963</td>\n",
              "      <td>0.951493</td>\n",
              "      <td>1.546574</td>\n",
              "      <td>-0.969445</td>\n",
              "    </tr>\n",
              "    <tr>\n",
              "      <th>2021-05-04</th>\n",
              "      <td>-1.695397</td>\n",
              "      <td>0.571189</td>\n",
              "      <td>0.005820</td>\n",
              "      <td>0.478246</td>\n",
              "    </tr>\n",
              "    <tr>\n",
              "      <th>2021-05-03</th>\n",
              "      <td>-1.098023</td>\n",
              "      <td>1.196248</td>\n",
              "      <td>-0.279198</td>\n",
              "      <td>0.071982</td>\n",
              "    </tr>\n",
              "    <tr>\n",
              "      <th>2021-05-02</th>\n",
              "      <td>1.257766</td>\n",
              "      <td>-0.228833</td>\n",
              "      <td>0.833653</td>\n",
              "      <td>0.083620</td>\n",
              "    </tr>\n",
              "    <tr>\n",
              "      <th>2021-05-01</th>\n",
              "      <td>-0.763226</td>\n",
              "      <td>-1.796537</td>\n",
              "      <td>-0.857206</td>\n",
              "      <td>1.024012</td>\n",
              "    </tr>\n",
              "    <tr>\n",
              "      <th>2021-04-30</th>\n",
              "      <td>1.875306</td>\n",
              "      <td>0.611661</td>\n",
              "      <td>-0.132262</td>\n",
              "      <td>1.145778</td>\n",
              "    </tr>\n",
              "  </tbody>\n",
              "</table>\n",
              "</div>"
            ],
            "text/plain": [
              "                   A         B         C         D\n",
              "2021-05-05  0.079963  0.951493  1.546574 -0.969445\n",
              "2021-05-04 -1.695397  0.571189  0.005820  0.478246\n",
              "2021-05-03 -1.098023  1.196248 -0.279198  0.071982\n",
              "2021-05-02  1.257766 -0.228833  0.833653  0.083620\n",
              "2021-05-01 -0.763226 -1.796537 -0.857206  1.024012\n",
              "2021-04-30  1.875306  0.611661 -0.132262  1.145778"
            ]
          },
          "metadata": {
            "tags": []
          },
          "execution_count": 43
        }
      ]
    },
    {
      "cell_type": "code",
      "metadata": {
        "colab": {
          "base_uri": "https://localhost:8080/",
          "height": 228
        },
        "id": "jZPj9IOQpk5l",
        "outputId": "4b851699-653f-4e13-8cd7-f9ad597d2f6f"
      },
      "source": [
        "df.sort_index(axis=1, ascending=True)"
      ],
      "execution_count": 45,
      "outputs": [
        {
          "output_type": "execute_result",
          "data": {
            "text/html": [
              "<div>\n",
              "<style scoped>\n",
              "    .dataframe tbody tr th:only-of-type {\n",
              "        vertical-align: middle;\n",
              "    }\n",
              "\n",
              "    .dataframe tbody tr th {\n",
              "        vertical-align: top;\n",
              "    }\n",
              "\n",
              "    .dataframe thead th {\n",
              "        text-align: right;\n",
              "    }\n",
              "</style>\n",
              "<table border=\"1\" class=\"dataframe\">\n",
              "  <thead>\n",
              "    <tr style=\"text-align: right;\">\n",
              "      <th></th>\n",
              "      <th>A</th>\n",
              "      <th>B</th>\n",
              "      <th>C</th>\n",
              "      <th>D</th>\n",
              "    </tr>\n",
              "  </thead>\n",
              "  <tbody>\n",
              "    <tr>\n",
              "      <th>2021-04-30</th>\n",
              "      <td>1.875306</td>\n",
              "      <td>0.611661</td>\n",
              "      <td>-0.132262</td>\n",
              "      <td>1.145778</td>\n",
              "    </tr>\n",
              "    <tr>\n",
              "      <th>2021-05-01</th>\n",
              "      <td>-0.763226</td>\n",
              "      <td>-1.796537</td>\n",
              "      <td>-0.857206</td>\n",
              "      <td>1.024012</td>\n",
              "    </tr>\n",
              "    <tr>\n",
              "      <th>2021-05-02</th>\n",
              "      <td>1.257766</td>\n",
              "      <td>-0.228833</td>\n",
              "      <td>0.833653</td>\n",
              "      <td>0.083620</td>\n",
              "    </tr>\n",
              "    <tr>\n",
              "      <th>2021-05-03</th>\n",
              "      <td>-1.098023</td>\n",
              "      <td>1.196248</td>\n",
              "      <td>-0.279198</td>\n",
              "      <td>0.071982</td>\n",
              "    </tr>\n",
              "    <tr>\n",
              "      <th>2021-05-04</th>\n",
              "      <td>-1.695397</td>\n",
              "      <td>0.571189</td>\n",
              "      <td>0.005820</td>\n",
              "      <td>0.478246</td>\n",
              "    </tr>\n",
              "    <tr>\n",
              "      <th>2021-05-05</th>\n",
              "      <td>0.079963</td>\n",
              "      <td>0.951493</td>\n",
              "      <td>1.546574</td>\n",
              "      <td>-0.969445</td>\n",
              "    </tr>\n",
              "  </tbody>\n",
              "</table>\n",
              "</div>"
            ],
            "text/plain": [
              "                   A         B         C         D\n",
              "2021-04-30  1.875306  0.611661 -0.132262  1.145778\n",
              "2021-05-01 -0.763226 -1.796537 -0.857206  1.024012\n",
              "2021-05-02  1.257766 -0.228833  0.833653  0.083620\n",
              "2021-05-03 -1.098023  1.196248 -0.279198  0.071982\n",
              "2021-05-04 -1.695397  0.571189  0.005820  0.478246\n",
              "2021-05-05  0.079963  0.951493  1.546574 -0.969445"
            ]
          },
          "metadata": {
            "tags": []
          },
          "execution_count": 45
        }
      ]
    },
    {
      "cell_type": "code",
      "metadata": {
        "colab": {
          "base_uri": "https://localhost:8080/",
          "height": 228
        },
        "id": "DLQ0wzW0p1de",
        "outputId": "092c7e2a-ef5b-4557-bdb9-bce553f797e9"
      },
      "source": [
        "df.sort_index(axis=1, ascending=False)"
      ],
      "execution_count": 46,
      "outputs": [
        {
          "output_type": "execute_result",
          "data": {
            "text/html": [
              "<div>\n",
              "<style scoped>\n",
              "    .dataframe tbody tr th:only-of-type {\n",
              "        vertical-align: middle;\n",
              "    }\n",
              "\n",
              "    .dataframe tbody tr th {\n",
              "        vertical-align: top;\n",
              "    }\n",
              "\n",
              "    .dataframe thead th {\n",
              "        text-align: right;\n",
              "    }\n",
              "</style>\n",
              "<table border=\"1\" class=\"dataframe\">\n",
              "  <thead>\n",
              "    <tr style=\"text-align: right;\">\n",
              "      <th></th>\n",
              "      <th>D</th>\n",
              "      <th>C</th>\n",
              "      <th>B</th>\n",
              "      <th>A</th>\n",
              "    </tr>\n",
              "  </thead>\n",
              "  <tbody>\n",
              "    <tr>\n",
              "      <th>2021-04-30</th>\n",
              "      <td>1.145778</td>\n",
              "      <td>-0.132262</td>\n",
              "      <td>0.611661</td>\n",
              "      <td>1.875306</td>\n",
              "    </tr>\n",
              "    <tr>\n",
              "      <th>2021-05-01</th>\n",
              "      <td>1.024012</td>\n",
              "      <td>-0.857206</td>\n",
              "      <td>-1.796537</td>\n",
              "      <td>-0.763226</td>\n",
              "    </tr>\n",
              "    <tr>\n",
              "      <th>2021-05-02</th>\n",
              "      <td>0.083620</td>\n",
              "      <td>0.833653</td>\n",
              "      <td>-0.228833</td>\n",
              "      <td>1.257766</td>\n",
              "    </tr>\n",
              "    <tr>\n",
              "      <th>2021-05-03</th>\n",
              "      <td>0.071982</td>\n",
              "      <td>-0.279198</td>\n",
              "      <td>1.196248</td>\n",
              "      <td>-1.098023</td>\n",
              "    </tr>\n",
              "    <tr>\n",
              "      <th>2021-05-04</th>\n",
              "      <td>0.478246</td>\n",
              "      <td>0.005820</td>\n",
              "      <td>0.571189</td>\n",
              "      <td>-1.695397</td>\n",
              "    </tr>\n",
              "    <tr>\n",
              "      <th>2021-05-05</th>\n",
              "      <td>-0.969445</td>\n",
              "      <td>1.546574</td>\n",
              "      <td>0.951493</td>\n",
              "      <td>0.079963</td>\n",
              "    </tr>\n",
              "  </tbody>\n",
              "</table>\n",
              "</div>"
            ],
            "text/plain": [
              "                   D         C         B         A\n",
              "2021-04-30  1.145778 -0.132262  0.611661  1.875306\n",
              "2021-05-01  1.024012 -0.857206 -1.796537 -0.763226\n",
              "2021-05-02  0.083620  0.833653 -0.228833  1.257766\n",
              "2021-05-03  0.071982 -0.279198  1.196248 -1.098023\n",
              "2021-05-04  0.478246  0.005820  0.571189 -1.695397\n",
              "2021-05-05 -0.969445  1.546574  0.951493  0.079963"
            ]
          },
          "metadata": {
            "tags": []
          },
          "execution_count": 46
        }
      ]
    },
    {
      "cell_type": "code",
      "metadata": {
        "colab": {
          "base_uri": "https://localhost:8080/",
          "height": 228
        },
        "id": "KtAfhVgfp3yG",
        "outputId": "4b0bfb35-c8b4-4706-e304-e9a14b511ce1"
      },
      "source": [
        "df"
      ],
      "execution_count": 47,
      "outputs": [
        {
          "output_type": "execute_result",
          "data": {
            "text/html": [
              "<div>\n",
              "<style scoped>\n",
              "    .dataframe tbody tr th:only-of-type {\n",
              "        vertical-align: middle;\n",
              "    }\n",
              "\n",
              "    .dataframe tbody tr th {\n",
              "        vertical-align: top;\n",
              "    }\n",
              "\n",
              "    .dataframe thead th {\n",
              "        text-align: right;\n",
              "    }\n",
              "</style>\n",
              "<table border=\"1\" class=\"dataframe\">\n",
              "  <thead>\n",
              "    <tr style=\"text-align: right;\">\n",
              "      <th></th>\n",
              "      <th>A</th>\n",
              "      <th>B</th>\n",
              "      <th>C</th>\n",
              "      <th>D</th>\n",
              "    </tr>\n",
              "  </thead>\n",
              "  <tbody>\n",
              "    <tr>\n",
              "      <th>2021-04-30</th>\n",
              "      <td>1.875306</td>\n",
              "      <td>0.611661</td>\n",
              "      <td>-0.132262</td>\n",
              "      <td>1.145778</td>\n",
              "    </tr>\n",
              "    <tr>\n",
              "      <th>2021-05-01</th>\n",
              "      <td>-0.763226</td>\n",
              "      <td>-1.796537</td>\n",
              "      <td>-0.857206</td>\n",
              "      <td>1.024012</td>\n",
              "    </tr>\n",
              "    <tr>\n",
              "      <th>2021-05-02</th>\n",
              "      <td>1.257766</td>\n",
              "      <td>-0.228833</td>\n",
              "      <td>0.833653</td>\n",
              "      <td>0.083620</td>\n",
              "    </tr>\n",
              "    <tr>\n",
              "      <th>2021-05-03</th>\n",
              "      <td>-1.098023</td>\n",
              "      <td>1.196248</td>\n",
              "      <td>-0.279198</td>\n",
              "      <td>0.071982</td>\n",
              "    </tr>\n",
              "    <tr>\n",
              "      <th>2021-05-04</th>\n",
              "      <td>-1.695397</td>\n",
              "      <td>0.571189</td>\n",
              "      <td>0.005820</td>\n",
              "      <td>0.478246</td>\n",
              "    </tr>\n",
              "    <tr>\n",
              "      <th>2021-05-05</th>\n",
              "      <td>0.079963</td>\n",
              "      <td>0.951493</td>\n",
              "      <td>1.546574</td>\n",
              "      <td>-0.969445</td>\n",
              "    </tr>\n",
              "  </tbody>\n",
              "</table>\n",
              "</div>"
            ],
            "text/plain": [
              "                   A         B         C         D\n",
              "2021-04-30  1.875306  0.611661 -0.132262  1.145778\n",
              "2021-05-01 -0.763226 -1.796537 -0.857206  1.024012\n",
              "2021-05-02  1.257766 -0.228833  0.833653  0.083620\n",
              "2021-05-03 -1.098023  1.196248 -0.279198  0.071982\n",
              "2021-05-04 -1.695397  0.571189  0.005820  0.478246\n",
              "2021-05-05  0.079963  0.951493  1.546574 -0.969445"
            ]
          },
          "metadata": {
            "tags": []
          },
          "execution_count": 47
        }
      ]
    },
    {
      "cell_type": "code",
      "metadata": {
        "colab": {
          "base_uri": "https://localhost:8080/",
          "height": 228
        },
        "id": "N1QYh5_3qCvn",
        "outputId": "07675386-f1ee-4abb-fd61-8d37abf6e3d0"
      },
      "source": [
        "df.sort_values(by='B')"
      ],
      "execution_count": 48,
      "outputs": [
        {
          "output_type": "execute_result",
          "data": {
            "text/html": [
              "<div>\n",
              "<style scoped>\n",
              "    .dataframe tbody tr th:only-of-type {\n",
              "        vertical-align: middle;\n",
              "    }\n",
              "\n",
              "    .dataframe tbody tr th {\n",
              "        vertical-align: top;\n",
              "    }\n",
              "\n",
              "    .dataframe thead th {\n",
              "        text-align: right;\n",
              "    }\n",
              "</style>\n",
              "<table border=\"1\" class=\"dataframe\">\n",
              "  <thead>\n",
              "    <tr style=\"text-align: right;\">\n",
              "      <th></th>\n",
              "      <th>A</th>\n",
              "      <th>B</th>\n",
              "      <th>C</th>\n",
              "      <th>D</th>\n",
              "    </tr>\n",
              "  </thead>\n",
              "  <tbody>\n",
              "    <tr>\n",
              "      <th>2021-05-01</th>\n",
              "      <td>-0.763226</td>\n",
              "      <td>-1.796537</td>\n",
              "      <td>-0.857206</td>\n",
              "      <td>1.024012</td>\n",
              "    </tr>\n",
              "    <tr>\n",
              "      <th>2021-05-02</th>\n",
              "      <td>1.257766</td>\n",
              "      <td>-0.228833</td>\n",
              "      <td>0.833653</td>\n",
              "      <td>0.083620</td>\n",
              "    </tr>\n",
              "    <tr>\n",
              "      <th>2021-05-04</th>\n",
              "      <td>-1.695397</td>\n",
              "      <td>0.571189</td>\n",
              "      <td>0.005820</td>\n",
              "      <td>0.478246</td>\n",
              "    </tr>\n",
              "    <tr>\n",
              "      <th>2021-04-30</th>\n",
              "      <td>1.875306</td>\n",
              "      <td>0.611661</td>\n",
              "      <td>-0.132262</td>\n",
              "      <td>1.145778</td>\n",
              "    </tr>\n",
              "    <tr>\n",
              "      <th>2021-05-05</th>\n",
              "      <td>0.079963</td>\n",
              "      <td>0.951493</td>\n",
              "      <td>1.546574</td>\n",
              "      <td>-0.969445</td>\n",
              "    </tr>\n",
              "    <tr>\n",
              "      <th>2021-05-03</th>\n",
              "      <td>-1.098023</td>\n",
              "      <td>1.196248</td>\n",
              "      <td>-0.279198</td>\n",
              "      <td>0.071982</td>\n",
              "    </tr>\n",
              "  </tbody>\n",
              "</table>\n",
              "</div>"
            ],
            "text/plain": [
              "                   A         B         C         D\n",
              "2021-05-01 -0.763226 -1.796537 -0.857206  1.024012\n",
              "2021-05-02  1.257766 -0.228833  0.833653  0.083620\n",
              "2021-05-04 -1.695397  0.571189  0.005820  0.478246\n",
              "2021-04-30  1.875306  0.611661 -0.132262  1.145778\n",
              "2021-05-05  0.079963  0.951493  1.546574 -0.969445\n",
              "2021-05-03 -1.098023  1.196248 -0.279198  0.071982"
            ]
          },
          "metadata": {
            "tags": []
          },
          "execution_count": 48
        }
      ]
    },
    {
      "cell_type": "code",
      "metadata": {
        "colab": {
          "base_uri": "https://localhost:8080/"
        },
        "id": "dWvAPIOaqMbD",
        "outputId": "4f31422f-f4d7-490d-c75b-a3ca35d95d78"
      },
      "source": [
        "dates"
      ],
      "execution_count": 49,
      "outputs": [
        {
          "output_type": "execute_result",
          "data": {
            "text/plain": [
              "DatetimeIndex(['2021-04-30', '2021-05-01', '2021-05-02', '2021-05-03',\n",
              "               '2021-05-04', '2021-05-05'],\n",
              "              dtype='datetime64[ns]', freq='D')"
            ]
          },
          "metadata": {
            "tags": []
          },
          "execution_count": 49
        }
      ]
    },
    {
      "cell_type": "code",
      "metadata": {
        "colab": {
          "base_uri": "https://localhost:8080/",
          "height": 228
        },
        "id": "E61wHaaRqd78",
        "outputId": "aa26ccfa-b48d-4477-c380-39de2c20ac41"
      },
      "source": [
        "df"
      ],
      "execution_count": 50,
      "outputs": [
        {
          "output_type": "execute_result",
          "data": {
            "text/html": [
              "<div>\n",
              "<style scoped>\n",
              "    .dataframe tbody tr th:only-of-type {\n",
              "        vertical-align: middle;\n",
              "    }\n",
              "\n",
              "    .dataframe tbody tr th {\n",
              "        vertical-align: top;\n",
              "    }\n",
              "\n",
              "    .dataframe thead th {\n",
              "        text-align: right;\n",
              "    }\n",
              "</style>\n",
              "<table border=\"1\" class=\"dataframe\">\n",
              "  <thead>\n",
              "    <tr style=\"text-align: right;\">\n",
              "      <th></th>\n",
              "      <th>A</th>\n",
              "      <th>B</th>\n",
              "      <th>C</th>\n",
              "      <th>D</th>\n",
              "    </tr>\n",
              "  </thead>\n",
              "  <tbody>\n",
              "    <tr>\n",
              "      <th>2021-04-30</th>\n",
              "      <td>1.875306</td>\n",
              "      <td>0.611661</td>\n",
              "      <td>-0.132262</td>\n",
              "      <td>1.145778</td>\n",
              "    </tr>\n",
              "    <tr>\n",
              "      <th>2021-05-01</th>\n",
              "      <td>-0.763226</td>\n",
              "      <td>-1.796537</td>\n",
              "      <td>-0.857206</td>\n",
              "      <td>1.024012</td>\n",
              "    </tr>\n",
              "    <tr>\n",
              "      <th>2021-05-02</th>\n",
              "      <td>1.257766</td>\n",
              "      <td>-0.228833</td>\n",
              "      <td>0.833653</td>\n",
              "      <td>0.083620</td>\n",
              "    </tr>\n",
              "    <tr>\n",
              "      <th>2021-05-03</th>\n",
              "      <td>-1.098023</td>\n",
              "      <td>1.196248</td>\n",
              "      <td>-0.279198</td>\n",
              "      <td>0.071982</td>\n",
              "    </tr>\n",
              "    <tr>\n",
              "      <th>2021-05-04</th>\n",
              "      <td>-1.695397</td>\n",
              "      <td>0.571189</td>\n",
              "      <td>0.005820</td>\n",
              "      <td>0.478246</td>\n",
              "    </tr>\n",
              "    <tr>\n",
              "      <th>2021-05-05</th>\n",
              "      <td>0.079963</td>\n",
              "      <td>0.951493</td>\n",
              "      <td>1.546574</td>\n",
              "      <td>-0.969445</td>\n",
              "    </tr>\n",
              "  </tbody>\n",
              "</table>\n",
              "</div>"
            ],
            "text/plain": [
              "                   A         B         C         D\n",
              "2021-04-30  1.875306  0.611661 -0.132262  1.145778\n",
              "2021-05-01 -0.763226 -1.796537 -0.857206  1.024012\n",
              "2021-05-02  1.257766 -0.228833  0.833653  0.083620\n",
              "2021-05-03 -1.098023  1.196248 -0.279198  0.071982\n",
              "2021-05-04 -1.695397  0.571189  0.005820  0.478246\n",
              "2021-05-05  0.079963  0.951493  1.546574 -0.969445"
            ]
          },
          "metadata": {
            "tags": []
          },
          "execution_count": 50
        }
      ]
    },
    {
      "cell_type": "code",
      "metadata": {
        "colab": {
          "base_uri": "https://localhost:8080/"
        },
        "id": "t7Pqbmj5qgVF",
        "outputId": "4868126e-15e5-40d5-bf5a-be563c32eb98"
      },
      "source": [
        "df['C']"
      ],
      "execution_count": 53,
      "outputs": [
        {
          "output_type": "execute_result",
          "data": {
            "text/plain": [
              "2021-04-30   -0.132262\n",
              "2021-05-01   -0.857206\n",
              "2021-05-02    0.833653\n",
              "2021-05-03   -0.279198\n",
              "2021-05-04    0.005820\n",
              "2021-05-05    1.546574\n",
              "Freq: D, Name: C, dtype: float64"
            ]
          },
          "metadata": {
            "tags": []
          },
          "execution_count": 53
        }
      ]
    },
    {
      "cell_type": "code",
      "metadata": {
        "colab": {
          "base_uri": "https://localhost:8080/",
          "height": 228
        },
        "id": "9f_fxbCIqqlj",
        "outputId": "02d93510-7422-4c4b-bed0-dd76f63b8b89"
      },
      "source": [
        "df[ ['A','C'] ]"
      ],
      "execution_count": 56,
      "outputs": [
        {
          "output_type": "execute_result",
          "data": {
            "text/html": [
              "<div>\n",
              "<style scoped>\n",
              "    .dataframe tbody tr th:only-of-type {\n",
              "        vertical-align: middle;\n",
              "    }\n",
              "\n",
              "    .dataframe tbody tr th {\n",
              "        vertical-align: top;\n",
              "    }\n",
              "\n",
              "    .dataframe thead th {\n",
              "        text-align: right;\n",
              "    }\n",
              "</style>\n",
              "<table border=\"1\" class=\"dataframe\">\n",
              "  <thead>\n",
              "    <tr style=\"text-align: right;\">\n",
              "      <th></th>\n",
              "      <th>A</th>\n",
              "      <th>C</th>\n",
              "    </tr>\n",
              "  </thead>\n",
              "  <tbody>\n",
              "    <tr>\n",
              "      <th>2021-04-30</th>\n",
              "      <td>1.875306</td>\n",
              "      <td>-0.132262</td>\n",
              "    </tr>\n",
              "    <tr>\n",
              "      <th>2021-05-01</th>\n",
              "      <td>-0.763226</td>\n",
              "      <td>-0.857206</td>\n",
              "    </tr>\n",
              "    <tr>\n",
              "      <th>2021-05-02</th>\n",
              "      <td>1.257766</td>\n",
              "      <td>0.833653</td>\n",
              "    </tr>\n",
              "    <tr>\n",
              "      <th>2021-05-03</th>\n",
              "      <td>-1.098023</td>\n",
              "      <td>-0.279198</td>\n",
              "    </tr>\n",
              "    <tr>\n",
              "      <th>2021-05-04</th>\n",
              "      <td>-1.695397</td>\n",
              "      <td>0.005820</td>\n",
              "    </tr>\n",
              "    <tr>\n",
              "      <th>2021-05-05</th>\n",
              "      <td>0.079963</td>\n",
              "      <td>1.546574</td>\n",
              "    </tr>\n",
              "  </tbody>\n",
              "</table>\n",
              "</div>"
            ],
            "text/plain": [
              "                   A         C\n",
              "2021-04-30  1.875306 -0.132262\n",
              "2021-05-01 -0.763226 -0.857206\n",
              "2021-05-02  1.257766  0.833653\n",
              "2021-05-03 -1.098023 -0.279198\n",
              "2021-05-04 -1.695397  0.005820\n",
              "2021-05-05  0.079963  1.546574"
            ]
          },
          "metadata": {
            "tags": []
          },
          "execution_count": 56
        }
      ]
    },
    {
      "cell_type": "code",
      "metadata": {
        "colab": {
          "base_uri": "https://localhost:8080/",
          "height": 235
        },
        "id": "xhzo-lmhrCiw",
        "outputId": "2302d73c-7335-49d4-f030-6216d09b38e3"
      },
      "source": [
        "df[ ['A','B','D']]"
      ],
      "execution_count": 57,
      "outputs": [
        {
          "output_type": "execute_result",
          "data": {
            "text/html": [
              "<div>\n",
              "<style scoped>\n",
              "    .dataframe tbody tr th:only-of-type {\n",
              "        vertical-align: middle;\n",
              "    }\n",
              "\n",
              "    .dataframe tbody tr th {\n",
              "        vertical-align: top;\n",
              "    }\n",
              "\n",
              "    .dataframe thead th {\n",
              "        text-align: right;\n",
              "    }\n",
              "</style>\n",
              "<table border=\"1\" class=\"dataframe\">\n",
              "  <thead>\n",
              "    <tr style=\"text-align: right;\">\n",
              "      <th></th>\n",
              "      <th>A</th>\n",
              "      <th>B</th>\n",
              "      <th>D</th>\n",
              "    </tr>\n",
              "  </thead>\n",
              "  <tbody>\n",
              "    <tr>\n",
              "      <th>2021-04-30</th>\n",
              "      <td>1.875306</td>\n",
              "      <td>0.611661</td>\n",
              "      <td>1.145778</td>\n",
              "    </tr>\n",
              "    <tr>\n",
              "      <th>2021-05-01</th>\n",
              "      <td>-0.763226</td>\n",
              "      <td>-1.796537</td>\n",
              "      <td>1.024012</td>\n",
              "    </tr>\n",
              "    <tr>\n",
              "      <th>2021-05-02</th>\n",
              "      <td>1.257766</td>\n",
              "      <td>-0.228833</td>\n",
              "      <td>0.083620</td>\n",
              "    </tr>\n",
              "    <tr>\n",
              "      <th>2021-05-03</th>\n",
              "      <td>-1.098023</td>\n",
              "      <td>1.196248</td>\n",
              "      <td>0.071982</td>\n",
              "    </tr>\n",
              "    <tr>\n",
              "      <th>2021-05-04</th>\n",
              "      <td>-1.695397</td>\n",
              "      <td>0.571189</td>\n",
              "      <td>0.478246</td>\n",
              "    </tr>\n",
              "    <tr>\n",
              "      <th>2021-05-05</th>\n",
              "      <td>0.079963</td>\n",
              "      <td>0.951493</td>\n",
              "      <td>-0.969445</td>\n",
              "    </tr>\n",
              "  </tbody>\n",
              "</table>\n",
              "</div>"
            ],
            "text/plain": [
              "                   A         B         D\n",
              "2021-04-30  1.875306  0.611661  1.145778\n",
              "2021-05-01 -0.763226 -1.796537  1.024012\n",
              "2021-05-02  1.257766 -0.228833  0.083620\n",
              "2021-05-03 -1.098023  1.196248  0.071982\n",
              "2021-05-04 -1.695397  0.571189  0.478246\n",
              "2021-05-05  0.079963  0.951493 -0.969445"
            ]
          },
          "metadata": {
            "tags": []
          },
          "execution_count": 57
        }
      ]
    },
    {
      "cell_type": "code",
      "metadata": {
        "colab": {
          "base_uri": "https://localhost:8080/",
          "height": 235
        },
        "id": "uqFqZBHlrb7o",
        "outputId": "9da7d050-f09b-4d19-f49a-ccdd77d43d90"
      },
      "source": [
        "df"
      ],
      "execution_count": 58,
      "outputs": [
        {
          "output_type": "execute_result",
          "data": {
            "text/html": [
              "<div>\n",
              "<style scoped>\n",
              "    .dataframe tbody tr th:only-of-type {\n",
              "        vertical-align: middle;\n",
              "    }\n",
              "\n",
              "    .dataframe tbody tr th {\n",
              "        vertical-align: top;\n",
              "    }\n",
              "\n",
              "    .dataframe thead th {\n",
              "        text-align: right;\n",
              "    }\n",
              "</style>\n",
              "<table border=\"1\" class=\"dataframe\">\n",
              "  <thead>\n",
              "    <tr style=\"text-align: right;\">\n",
              "      <th></th>\n",
              "      <th>A</th>\n",
              "      <th>B</th>\n",
              "      <th>C</th>\n",
              "      <th>D</th>\n",
              "    </tr>\n",
              "  </thead>\n",
              "  <tbody>\n",
              "    <tr>\n",
              "      <th>2021-04-30</th>\n",
              "      <td>1.875306</td>\n",
              "      <td>0.611661</td>\n",
              "      <td>-0.132262</td>\n",
              "      <td>1.145778</td>\n",
              "    </tr>\n",
              "    <tr>\n",
              "      <th>2021-05-01</th>\n",
              "      <td>-0.763226</td>\n",
              "      <td>-1.796537</td>\n",
              "      <td>-0.857206</td>\n",
              "      <td>1.024012</td>\n",
              "    </tr>\n",
              "    <tr>\n",
              "      <th>2021-05-02</th>\n",
              "      <td>1.257766</td>\n",
              "      <td>-0.228833</td>\n",
              "      <td>0.833653</td>\n",
              "      <td>0.083620</td>\n",
              "    </tr>\n",
              "    <tr>\n",
              "      <th>2021-05-03</th>\n",
              "      <td>-1.098023</td>\n",
              "      <td>1.196248</td>\n",
              "      <td>-0.279198</td>\n",
              "      <td>0.071982</td>\n",
              "    </tr>\n",
              "    <tr>\n",
              "      <th>2021-05-04</th>\n",
              "      <td>-1.695397</td>\n",
              "      <td>0.571189</td>\n",
              "      <td>0.005820</td>\n",
              "      <td>0.478246</td>\n",
              "    </tr>\n",
              "    <tr>\n",
              "      <th>2021-05-05</th>\n",
              "      <td>0.079963</td>\n",
              "      <td>0.951493</td>\n",
              "      <td>1.546574</td>\n",
              "      <td>-0.969445</td>\n",
              "    </tr>\n",
              "  </tbody>\n",
              "</table>\n",
              "</div>"
            ],
            "text/plain": [
              "                   A         B         C         D\n",
              "2021-04-30  1.875306  0.611661 -0.132262  1.145778\n",
              "2021-05-01 -0.763226 -1.796537 -0.857206  1.024012\n",
              "2021-05-02  1.257766 -0.228833  0.833653  0.083620\n",
              "2021-05-03 -1.098023  1.196248 -0.279198  0.071982\n",
              "2021-05-04 -1.695397  0.571189  0.005820  0.478246\n",
              "2021-05-05  0.079963  0.951493  1.546574 -0.969445"
            ]
          },
          "metadata": {
            "tags": []
          },
          "execution_count": 58
        }
      ]
    },
    {
      "cell_type": "code",
      "metadata": {
        "colab": {
          "base_uri": "https://localhost:8080/",
          "height": 142
        },
        "id": "-G94p2vurgyN",
        "outputId": "d5f307d2-aba5-4833-aae2-93cfd01dd501"
      },
      "source": [
        "df[0:3]"
      ],
      "execution_count": 60,
      "outputs": [
        {
          "output_type": "execute_result",
          "data": {
            "text/html": [
              "<div>\n",
              "<style scoped>\n",
              "    .dataframe tbody tr th:only-of-type {\n",
              "        vertical-align: middle;\n",
              "    }\n",
              "\n",
              "    .dataframe tbody tr th {\n",
              "        vertical-align: top;\n",
              "    }\n",
              "\n",
              "    .dataframe thead th {\n",
              "        text-align: right;\n",
              "    }\n",
              "</style>\n",
              "<table border=\"1\" class=\"dataframe\">\n",
              "  <thead>\n",
              "    <tr style=\"text-align: right;\">\n",
              "      <th></th>\n",
              "      <th>A</th>\n",
              "      <th>B</th>\n",
              "      <th>C</th>\n",
              "      <th>D</th>\n",
              "    </tr>\n",
              "  </thead>\n",
              "  <tbody>\n",
              "    <tr>\n",
              "      <th>2021-04-30</th>\n",
              "      <td>1.875306</td>\n",
              "      <td>0.611661</td>\n",
              "      <td>-0.132262</td>\n",
              "      <td>1.145778</td>\n",
              "    </tr>\n",
              "    <tr>\n",
              "      <th>2021-05-01</th>\n",
              "      <td>-0.763226</td>\n",
              "      <td>-1.796537</td>\n",
              "      <td>-0.857206</td>\n",
              "      <td>1.024012</td>\n",
              "    </tr>\n",
              "    <tr>\n",
              "      <th>2021-05-02</th>\n",
              "      <td>1.257766</td>\n",
              "      <td>-0.228833</td>\n",
              "      <td>0.833653</td>\n",
              "      <td>0.083620</td>\n",
              "    </tr>\n",
              "  </tbody>\n",
              "</table>\n",
              "</div>"
            ],
            "text/plain": [
              "                   A         B         C         D\n",
              "2021-04-30  1.875306  0.611661 -0.132262  1.145778\n",
              "2021-05-01 -0.763226 -1.796537 -0.857206  1.024012\n",
              "2021-05-02  1.257766 -0.228833  0.833653  0.083620"
            ]
          },
          "metadata": {
            "tags": []
          },
          "execution_count": 60
        }
      ]
    },
    {
      "cell_type": "code",
      "metadata": {
        "colab": {
          "base_uri": "https://localhost:8080/",
          "height": 80
        },
        "id": "P2Vbi7lnri__",
        "outputId": "82c60296-faf6-4587-e3a6-2b1a842f9e0e"
      },
      "source": [
        "df[0:1]"
      ],
      "execution_count": 63,
      "outputs": [
        {
          "output_type": "execute_result",
          "data": {
            "text/html": [
              "<div>\n",
              "<style scoped>\n",
              "    .dataframe tbody tr th:only-of-type {\n",
              "        vertical-align: middle;\n",
              "    }\n",
              "\n",
              "    .dataframe tbody tr th {\n",
              "        vertical-align: top;\n",
              "    }\n",
              "\n",
              "    .dataframe thead th {\n",
              "        text-align: right;\n",
              "    }\n",
              "</style>\n",
              "<table border=\"1\" class=\"dataframe\">\n",
              "  <thead>\n",
              "    <tr style=\"text-align: right;\">\n",
              "      <th></th>\n",
              "      <th>A</th>\n",
              "      <th>B</th>\n",
              "      <th>C</th>\n",
              "      <th>D</th>\n",
              "    </tr>\n",
              "  </thead>\n",
              "  <tbody>\n",
              "    <tr>\n",
              "      <th>2021-04-30</th>\n",
              "      <td>1.875306</td>\n",
              "      <td>0.611661</td>\n",
              "      <td>-0.132262</td>\n",
              "      <td>1.145778</td>\n",
              "    </tr>\n",
              "  </tbody>\n",
              "</table>\n",
              "</div>"
            ],
            "text/plain": [
              "                   A         B         C         D\n",
              "2021-04-30  1.875306  0.611661 -0.132262  1.145778"
            ]
          },
          "metadata": {
            "tags": []
          },
          "execution_count": 63
        }
      ]
    },
    {
      "cell_type": "code",
      "metadata": {
        "colab": {
          "base_uri": "https://localhost:8080/",
          "height": 80
        },
        "id": "mn7KczukrruZ",
        "outputId": "a2038243-cdee-49d7-dd95-a81090393f8d"
      },
      "source": [
        "df['20210430':'20210430']"
      ],
      "execution_count": 65,
      "outputs": [
        {
          "output_type": "execute_result",
          "data": {
            "text/html": [
              "<div>\n",
              "<style scoped>\n",
              "    .dataframe tbody tr th:only-of-type {\n",
              "        vertical-align: middle;\n",
              "    }\n",
              "\n",
              "    .dataframe tbody tr th {\n",
              "        vertical-align: top;\n",
              "    }\n",
              "\n",
              "    .dataframe thead th {\n",
              "        text-align: right;\n",
              "    }\n",
              "</style>\n",
              "<table border=\"1\" class=\"dataframe\">\n",
              "  <thead>\n",
              "    <tr style=\"text-align: right;\">\n",
              "      <th></th>\n",
              "      <th>A</th>\n",
              "      <th>B</th>\n",
              "      <th>C</th>\n",
              "      <th>D</th>\n",
              "    </tr>\n",
              "  </thead>\n",
              "  <tbody>\n",
              "    <tr>\n",
              "      <th>2021-04-30</th>\n",
              "      <td>1.875306</td>\n",
              "      <td>0.611661</td>\n",
              "      <td>-0.132262</td>\n",
              "      <td>1.145778</td>\n",
              "    </tr>\n",
              "  </tbody>\n",
              "</table>\n",
              "</div>"
            ],
            "text/plain": [
              "                   A         B         C         D\n",
              "2021-04-30  1.875306  0.611661 -0.132262  1.145778"
            ]
          },
          "metadata": {
            "tags": []
          },
          "execution_count": 65
        }
      ]
    },
    {
      "cell_type": "code",
      "metadata": {
        "colab": {
          "base_uri": "https://localhost:8080/",
          "height": 235
        },
        "id": "ky_sHuX6sDUK",
        "outputId": "e196cc99-b97e-49e1-f95b-e813be43a7b2"
      },
      "source": [
        "df"
      ],
      "execution_count": 66,
      "outputs": [
        {
          "output_type": "execute_result",
          "data": {
            "text/html": [
              "<div>\n",
              "<style scoped>\n",
              "    .dataframe tbody tr th:only-of-type {\n",
              "        vertical-align: middle;\n",
              "    }\n",
              "\n",
              "    .dataframe tbody tr th {\n",
              "        vertical-align: top;\n",
              "    }\n",
              "\n",
              "    .dataframe thead th {\n",
              "        text-align: right;\n",
              "    }\n",
              "</style>\n",
              "<table border=\"1\" class=\"dataframe\">\n",
              "  <thead>\n",
              "    <tr style=\"text-align: right;\">\n",
              "      <th></th>\n",
              "      <th>A</th>\n",
              "      <th>B</th>\n",
              "      <th>C</th>\n",
              "      <th>D</th>\n",
              "    </tr>\n",
              "  </thead>\n",
              "  <tbody>\n",
              "    <tr>\n",
              "      <th>2021-04-30</th>\n",
              "      <td>1.875306</td>\n",
              "      <td>0.611661</td>\n",
              "      <td>-0.132262</td>\n",
              "      <td>1.145778</td>\n",
              "    </tr>\n",
              "    <tr>\n",
              "      <th>2021-05-01</th>\n",
              "      <td>-0.763226</td>\n",
              "      <td>-1.796537</td>\n",
              "      <td>-0.857206</td>\n",
              "      <td>1.024012</td>\n",
              "    </tr>\n",
              "    <tr>\n",
              "      <th>2021-05-02</th>\n",
              "      <td>1.257766</td>\n",
              "      <td>-0.228833</td>\n",
              "      <td>0.833653</td>\n",
              "      <td>0.083620</td>\n",
              "    </tr>\n",
              "    <tr>\n",
              "      <th>2021-05-03</th>\n",
              "      <td>-1.098023</td>\n",
              "      <td>1.196248</td>\n",
              "      <td>-0.279198</td>\n",
              "      <td>0.071982</td>\n",
              "    </tr>\n",
              "    <tr>\n",
              "      <th>2021-05-04</th>\n",
              "      <td>-1.695397</td>\n",
              "      <td>0.571189</td>\n",
              "      <td>0.005820</td>\n",
              "      <td>0.478246</td>\n",
              "    </tr>\n",
              "    <tr>\n",
              "      <th>2021-05-05</th>\n",
              "      <td>0.079963</td>\n",
              "      <td>0.951493</td>\n",
              "      <td>1.546574</td>\n",
              "      <td>-0.969445</td>\n",
              "    </tr>\n",
              "  </tbody>\n",
              "</table>\n",
              "</div>"
            ],
            "text/plain": [
              "                   A         B         C         D\n",
              "2021-04-30  1.875306  0.611661 -0.132262  1.145778\n",
              "2021-05-01 -0.763226 -1.796537 -0.857206  1.024012\n",
              "2021-05-02  1.257766 -0.228833  0.833653  0.083620\n",
              "2021-05-03 -1.098023  1.196248 -0.279198  0.071982\n",
              "2021-05-04 -1.695397  0.571189  0.005820  0.478246\n",
              "2021-05-05  0.079963  0.951493  1.546574 -0.969445"
            ]
          },
          "metadata": {
            "tags": []
          },
          "execution_count": 66
        }
      ]
    },
    {
      "cell_type": "code",
      "metadata": {
        "colab": {
          "base_uri": "https://localhost:8080/"
        },
        "id": "vDRLJthPsfjg",
        "outputId": "5b9da513-3e8f-4c5e-a293-0feb4404cb84"
      },
      "source": [
        "df.loc[dates[0]]"
      ],
      "execution_count": 67,
      "outputs": [
        {
          "output_type": "execute_result",
          "data": {
            "text/plain": [
              "A    1.875306\n",
              "B    0.611661\n",
              "C   -0.132262\n",
              "D    1.145778\n",
              "Name: 2021-04-30 00:00:00, dtype: float64"
            ]
          },
          "metadata": {
            "tags": []
          },
          "execution_count": 67
        }
      ]
    },
    {
      "cell_type": "code",
      "metadata": {
        "colab": {
          "base_uri": "https://localhost:8080/"
        },
        "id": "ktyVbJ6_smLG",
        "outputId": "c7920991-4ce1-4422-f9a4-65105fdcc6ef"
      },
      "source": [
        "df['A']"
      ],
      "execution_count": 70,
      "outputs": [
        {
          "output_type": "execute_result",
          "data": {
            "text/plain": [
              "2021-04-30    1.875306\n",
              "2021-05-01   -0.763226\n",
              "2021-05-02    1.257766\n",
              "2021-05-03   -1.098023\n",
              "2021-05-04   -1.695397\n",
              "2021-05-05    0.079963\n",
              "Freq: D, Name: A, dtype: float64"
            ]
          },
          "metadata": {
            "tags": []
          },
          "execution_count": 70
        }
      ]
    },
    {
      "cell_type": "code",
      "metadata": {
        "colab": {
          "base_uri": "https://localhost:8080/"
        },
        "id": "fhliST2otMEL",
        "outputId": "4ae435a1-1c23-4c52-e4ca-ea4a35b192e7"
      },
      "source": [
        "df.loc[:,'A']"
      ],
      "execution_count": 73,
      "outputs": [
        {
          "output_type": "execute_result",
          "data": {
            "text/plain": [
              "2021-04-30    1.875306\n",
              "2021-05-01   -0.763226\n",
              "2021-05-02    1.257766\n",
              "2021-05-03   -1.098023\n",
              "2021-05-04   -1.695397\n",
              "2021-05-05    0.079963\n",
              "Freq: D, Name: A, dtype: float64"
            ]
          },
          "metadata": {
            "tags": []
          },
          "execution_count": 73
        }
      ]
    },
    {
      "cell_type": "code",
      "metadata": {
        "colab": {
          "base_uri": "https://localhost:8080/"
        },
        "id": "OtPByb0ptY24",
        "outputId": "0966c19f-f6c4-4db3-b5cc-7414f745f1a9"
      },
      "source": [
        "df.loc['20210430':'20210503', 'A']"
      ],
      "execution_count": 75,
      "outputs": [
        {
          "output_type": "execute_result",
          "data": {
            "text/plain": [
              "2021-04-30    1.875306\n",
              "2021-05-01   -0.763226\n",
              "2021-05-02    1.257766\n",
              "2021-05-03   -1.098023\n",
              "Freq: D, Name: A, dtype: float64"
            ]
          },
          "metadata": {
            "tags": []
          },
          "execution_count": 75
        }
      ]
    },
    {
      "cell_type": "code",
      "metadata": {
        "colab": {
          "base_uri": "https://localhost:8080/",
          "height": 173
        },
        "id": "djrNvityte1_",
        "outputId": "7c58a2f9-432d-4c49-cd24-b96a888cdc3e"
      },
      "source": [
        "df.loc['20210430':'20210503',['A', 'C', 'D']]"
      ],
      "execution_count": 76,
      "outputs": [
        {
          "output_type": "execute_result",
          "data": {
            "text/html": [
              "<div>\n",
              "<style scoped>\n",
              "    .dataframe tbody tr th:only-of-type {\n",
              "        vertical-align: middle;\n",
              "    }\n",
              "\n",
              "    .dataframe tbody tr th {\n",
              "        vertical-align: top;\n",
              "    }\n",
              "\n",
              "    .dataframe thead th {\n",
              "        text-align: right;\n",
              "    }\n",
              "</style>\n",
              "<table border=\"1\" class=\"dataframe\">\n",
              "  <thead>\n",
              "    <tr style=\"text-align: right;\">\n",
              "      <th></th>\n",
              "      <th>A</th>\n",
              "      <th>C</th>\n",
              "      <th>D</th>\n",
              "    </tr>\n",
              "  </thead>\n",
              "  <tbody>\n",
              "    <tr>\n",
              "      <th>2021-04-30</th>\n",
              "      <td>1.875306</td>\n",
              "      <td>-0.132262</td>\n",
              "      <td>1.145778</td>\n",
              "    </tr>\n",
              "    <tr>\n",
              "      <th>2021-05-01</th>\n",
              "      <td>-0.763226</td>\n",
              "      <td>-0.857206</td>\n",
              "      <td>1.024012</td>\n",
              "    </tr>\n",
              "    <tr>\n",
              "      <th>2021-05-02</th>\n",
              "      <td>1.257766</td>\n",
              "      <td>0.833653</td>\n",
              "      <td>0.083620</td>\n",
              "    </tr>\n",
              "    <tr>\n",
              "      <th>2021-05-03</th>\n",
              "      <td>-1.098023</td>\n",
              "      <td>-0.279198</td>\n",
              "      <td>0.071982</td>\n",
              "    </tr>\n",
              "  </tbody>\n",
              "</table>\n",
              "</div>"
            ],
            "text/plain": [
              "                   A         C         D\n",
              "2021-04-30  1.875306 -0.132262  1.145778\n",
              "2021-05-01 -0.763226 -0.857206  1.024012\n",
              "2021-05-02  1.257766  0.833653  0.083620\n",
              "2021-05-03 -1.098023 -0.279198  0.071982"
            ]
          },
          "metadata": {
            "tags": []
          },
          "execution_count": 76
        }
      ]
    },
    {
      "cell_type": "code",
      "metadata": {
        "colab": {
          "base_uri": "https://localhost:8080/"
        },
        "id": "b6DiAT8otxGQ",
        "outputId": "9e34dfb1-947b-4d56-ee6f-f81a7bf6a421"
      },
      "source": [
        "df.at[dates[0], 'A']"
      ],
      "execution_count": 77,
      "outputs": [
        {
          "output_type": "execute_result",
          "data": {
            "text/plain": [
              "1.8753057092015468"
            ]
          },
          "metadata": {
            "tags": []
          },
          "execution_count": 77
        }
      ]
    },
    {
      "cell_type": "code",
      "metadata": {
        "colab": {
          "base_uri": "https://localhost:8080/"
        },
        "id": "mi6IrSVlt8dc",
        "outputId": "b1f01698-4d80-4c6b-f8b3-9a0a63058e7d"
      },
      "source": [
        "df.iloc[3]"
      ],
      "execution_count": 78,
      "outputs": [
        {
          "output_type": "execute_result",
          "data": {
            "text/plain": [
              "A   -1.098023\n",
              "B    1.196248\n",
              "C   -0.279198\n",
              "D    0.071982\n",
              "Name: 2021-05-03 00:00:00, dtype: float64"
            ]
          },
          "metadata": {
            "tags": []
          },
          "execution_count": 78
        }
      ]
    },
    {
      "cell_type": "code",
      "metadata": {
        "colab": {
          "base_uri": "https://localhost:8080/"
        },
        "id": "t1AQsusVuK0V",
        "outputId": "d4a3ee82-d470-4ba8-f469-d26f12455d10"
      },
      "source": [
        "df.loc[dates[3]]"
      ],
      "execution_count": 80,
      "outputs": [
        {
          "output_type": "execute_result",
          "data": {
            "text/plain": [
              "A   -1.098023\n",
              "B    1.196248\n",
              "C   -0.279198\n",
              "D    0.071982\n",
              "Name: 2021-05-03 00:00:00, dtype: float64"
            ]
          },
          "metadata": {
            "tags": []
          },
          "execution_count": 80
        }
      ]
    },
    {
      "cell_type": "code",
      "metadata": {
        "colab": {
          "base_uri": "https://localhost:8080/"
        },
        "id": "iCM6MtUJuN3V",
        "outputId": "18e7a385-d2d9-4675-a425-008aa12fbd27"
      },
      "source": [
        "df.index"
      ],
      "execution_count": 88,
      "outputs": [
        {
          "output_type": "execute_result",
          "data": {
            "text/plain": [
              "DatetimeIndex(['2021-04-30', '2021-05-01', '2021-05-02', '2021-05-03',\n",
              "               '2021-05-04', '2021-05-05'],\n",
              "              dtype='datetime64[ns]', freq='D')"
            ]
          },
          "metadata": {
            "tags": []
          },
          "execution_count": 88
        }
      ]
    },
    {
      "cell_type": "code",
      "metadata": {
        "colab": {
          "base_uri": "https://localhost:8080/",
          "height": 142
        },
        "id": "D_fiN-cDuVDA",
        "outputId": "ce5c55fd-d271-4d35-f6d5-f3f0a8a1280c"
      },
      "source": [
        "df.iloc[0:3, 1:3]"
      ],
      "execution_count": 90,
      "outputs": [
        {
          "output_type": "execute_result",
          "data": {
            "text/html": [
              "<div>\n",
              "<style scoped>\n",
              "    .dataframe tbody tr th:only-of-type {\n",
              "        vertical-align: middle;\n",
              "    }\n",
              "\n",
              "    .dataframe tbody tr th {\n",
              "        vertical-align: top;\n",
              "    }\n",
              "\n",
              "    .dataframe thead th {\n",
              "        text-align: right;\n",
              "    }\n",
              "</style>\n",
              "<table border=\"1\" class=\"dataframe\">\n",
              "  <thead>\n",
              "    <tr style=\"text-align: right;\">\n",
              "      <th></th>\n",
              "      <th>B</th>\n",
              "      <th>C</th>\n",
              "    </tr>\n",
              "  </thead>\n",
              "  <tbody>\n",
              "    <tr>\n",
              "      <th>2021-04-30</th>\n",
              "      <td>0.611661</td>\n",
              "      <td>-0.132262</td>\n",
              "    </tr>\n",
              "    <tr>\n",
              "      <th>2021-05-01</th>\n",
              "      <td>-1.796537</td>\n",
              "      <td>-0.857206</td>\n",
              "    </tr>\n",
              "    <tr>\n",
              "      <th>2021-05-02</th>\n",
              "      <td>-0.228833</td>\n",
              "      <td>0.833653</td>\n",
              "    </tr>\n",
              "  </tbody>\n",
              "</table>\n",
              "</div>"
            ],
            "text/plain": [
              "                   B         C\n",
              "2021-04-30  0.611661 -0.132262\n",
              "2021-05-01 -1.796537 -0.857206\n",
              "2021-05-02 -0.228833  0.833653"
            ]
          },
          "metadata": {
            "tags": []
          },
          "execution_count": 90
        }
      ]
    },
    {
      "cell_type": "code",
      "metadata": {
        "colab": {
          "base_uri": "https://localhost:8080/"
        },
        "id": "DR3hRnUOurhW",
        "outputId": "9474656a-c8af-40c8-b277-7501bc4d62b1"
      },
      "source": [
        "df.A"
      ],
      "execution_count": 92,
      "outputs": [
        {
          "output_type": "execute_result",
          "data": {
            "text/plain": [
              "2021-04-30    1.875306\n",
              "2021-05-01   -0.763226\n",
              "2021-05-02    1.257766\n",
              "2021-05-03   -1.098023\n",
              "2021-05-04   -1.695397\n",
              "2021-05-05    0.079963\n",
              "Freq: D, Name: A, dtype: float64"
            ]
          },
          "metadata": {
            "tags": []
          },
          "execution_count": 92
        }
      ]
    },
    {
      "cell_type": "code",
      "metadata": {
        "colab": {
          "base_uri": "https://localhost:8080/"
        },
        "id": "3wn35hIkvjaZ",
        "outputId": "a9f78cd1-5a9d-46f8-f8ff-938e1d241151"
      },
      "source": [
        "df.A > 0"
      ],
      "execution_count": 93,
      "outputs": [
        {
          "output_type": "execute_result",
          "data": {
            "text/plain": [
              "2021-04-30     True\n",
              "2021-05-01    False\n",
              "2021-05-02     True\n",
              "2021-05-03    False\n",
              "2021-05-04    False\n",
              "2021-05-05     True\n",
              "Freq: D, Name: A, dtype: bool"
            ]
          },
          "metadata": {
            "tags": []
          },
          "execution_count": 93
        }
      ]
    },
    {
      "cell_type": "code",
      "metadata": {
        "colab": {
          "base_uri": "https://localhost:8080/",
          "height": 142
        },
        "id": "zhfIeITdvrBI",
        "outputId": "c3472908-c62e-411c-d169-29810d11b96f"
      },
      "source": [
        "df[df.A > 0]"
      ],
      "execution_count": 94,
      "outputs": [
        {
          "output_type": "execute_result",
          "data": {
            "text/html": [
              "<div>\n",
              "<style scoped>\n",
              "    .dataframe tbody tr th:only-of-type {\n",
              "        vertical-align: middle;\n",
              "    }\n",
              "\n",
              "    .dataframe tbody tr th {\n",
              "        vertical-align: top;\n",
              "    }\n",
              "\n",
              "    .dataframe thead th {\n",
              "        text-align: right;\n",
              "    }\n",
              "</style>\n",
              "<table border=\"1\" class=\"dataframe\">\n",
              "  <thead>\n",
              "    <tr style=\"text-align: right;\">\n",
              "      <th></th>\n",
              "      <th>A</th>\n",
              "      <th>B</th>\n",
              "      <th>C</th>\n",
              "      <th>D</th>\n",
              "    </tr>\n",
              "  </thead>\n",
              "  <tbody>\n",
              "    <tr>\n",
              "      <th>2021-04-30</th>\n",
              "      <td>1.875306</td>\n",
              "      <td>0.611661</td>\n",
              "      <td>-0.132262</td>\n",
              "      <td>1.145778</td>\n",
              "    </tr>\n",
              "    <tr>\n",
              "      <th>2021-05-02</th>\n",
              "      <td>1.257766</td>\n",
              "      <td>-0.228833</td>\n",
              "      <td>0.833653</td>\n",
              "      <td>0.083620</td>\n",
              "    </tr>\n",
              "    <tr>\n",
              "      <th>2021-05-05</th>\n",
              "      <td>0.079963</td>\n",
              "      <td>0.951493</td>\n",
              "      <td>1.546574</td>\n",
              "      <td>-0.969445</td>\n",
              "    </tr>\n",
              "  </tbody>\n",
              "</table>\n",
              "</div>"
            ],
            "text/plain": [
              "                   A         B         C         D\n",
              "2021-04-30  1.875306  0.611661 -0.132262  1.145778\n",
              "2021-05-02  1.257766 -0.228833  0.833653  0.083620\n",
              "2021-05-05  0.079963  0.951493  1.546574 -0.969445"
            ]
          },
          "metadata": {
            "tags": []
          },
          "execution_count": 94
        }
      ]
    },
    {
      "cell_type": "code",
      "metadata": {
        "colab": {
          "base_uri": "https://localhost:8080/",
          "height": 235
        },
        "id": "Fl_968iov0Ad",
        "outputId": "ea5fa81d-e486-4ccc-9865-0e82424466cb"
      },
      "source": [
        "df > 0"
      ],
      "execution_count": 95,
      "outputs": [
        {
          "output_type": "execute_result",
          "data": {
            "text/html": [
              "<div>\n",
              "<style scoped>\n",
              "    .dataframe tbody tr th:only-of-type {\n",
              "        vertical-align: middle;\n",
              "    }\n",
              "\n",
              "    .dataframe tbody tr th {\n",
              "        vertical-align: top;\n",
              "    }\n",
              "\n",
              "    .dataframe thead th {\n",
              "        text-align: right;\n",
              "    }\n",
              "</style>\n",
              "<table border=\"1\" class=\"dataframe\">\n",
              "  <thead>\n",
              "    <tr style=\"text-align: right;\">\n",
              "      <th></th>\n",
              "      <th>A</th>\n",
              "      <th>B</th>\n",
              "      <th>C</th>\n",
              "      <th>D</th>\n",
              "    </tr>\n",
              "  </thead>\n",
              "  <tbody>\n",
              "    <tr>\n",
              "      <th>2021-04-30</th>\n",
              "      <td>True</td>\n",
              "      <td>True</td>\n",
              "      <td>False</td>\n",
              "      <td>True</td>\n",
              "    </tr>\n",
              "    <tr>\n",
              "      <th>2021-05-01</th>\n",
              "      <td>False</td>\n",
              "      <td>False</td>\n",
              "      <td>False</td>\n",
              "      <td>True</td>\n",
              "    </tr>\n",
              "    <tr>\n",
              "      <th>2021-05-02</th>\n",
              "      <td>True</td>\n",
              "      <td>False</td>\n",
              "      <td>True</td>\n",
              "      <td>True</td>\n",
              "    </tr>\n",
              "    <tr>\n",
              "      <th>2021-05-03</th>\n",
              "      <td>False</td>\n",
              "      <td>True</td>\n",
              "      <td>False</td>\n",
              "      <td>True</td>\n",
              "    </tr>\n",
              "    <tr>\n",
              "      <th>2021-05-04</th>\n",
              "      <td>False</td>\n",
              "      <td>True</td>\n",
              "      <td>True</td>\n",
              "      <td>True</td>\n",
              "    </tr>\n",
              "    <tr>\n",
              "      <th>2021-05-05</th>\n",
              "      <td>True</td>\n",
              "      <td>True</td>\n",
              "      <td>True</td>\n",
              "      <td>False</td>\n",
              "    </tr>\n",
              "  </tbody>\n",
              "</table>\n",
              "</div>"
            ],
            "text/plain": [
              "                A      B      C      D\n",
              "2021-04-30   True   True  False   True\n",
              "2021-05-01  False  False  False   True\n",
              "2021-05-02   True  False   True   True\n",
              "2021-05-03  False   True  False   True\n",
              "2021-05-04  False   True   True   True\n",
              "2021-05-05   True   True   True  False"
            ]
          },
          "metadata": {
            "tags": []
          },
          "execution_count": 95
        }
      ]
    },
    {
      "cell_type": "code",
      "metadata": {
        "colab": {
          "base_uri": "https://localhost:8080/",
          "height": 136
        },
        "id": "QXNkSpunwK8h",
        "outputId": "2369793b-4097-4ed8-e997-15a32b2a77a8"
      },
      "source": [
        "df[df.True]"
      ],
      "execution_count": 99,
      "outputs": [
        {
          "output_type": "error",
          "ename": "SyntaxError",
          "evalue": "ignored",
          "traceback": [
            "\u001b[0;36m  File \u001b[0;32m\"<ipython-input-99-b1626d430e96>\"\u001b[0;36m, line \u001b[0;32m1\u001b[0m\n\u001b[0;31m    df[df.True]\u001b[0m\n\u001b[0m             ^\u001b[0m\n\u001b[0;31mSyntaxError\u001b[0m\u001b[0;31m:\u001b[0m invalid syntax\n"
          ]
        }
      ]
    },
    {
      "cell_type": "code",
      "metadata": {
        "id": "h1PSWciXwNpw"
      },
      "source": [
        ""
      ],
      "execution_count": null,
      "outputs": []
    }
  ]
}