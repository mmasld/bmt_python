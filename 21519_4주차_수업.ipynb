{
  "nbformat": 4,
  "nbformat_minor": 0,
  "metadata": {
    "colab": {
      "name": "21519_4주차 수업.ipynb",
      "provenance": [],
      "authorship_tag": "ABX9TyOln5lcFoP2EfSOFDOOvaNv",
      "include_colab_link": true
    },
    "kernelspec": {
      "name": "python3",
      "display_name": "Python 3"
    },
    "language_info": {
      "name": "python"
    }
  },
  "cells": [
    {
      "cell_type": "markdown",
      "metadata": {
        "id": "view-in-github",
        "colab_type": "text"
      },
      "source": [
        "<a href=\"https://colab.research.google.com/github/mmasld/bmt_python/blob/main/21519_4%EC%A3%BC%EC%B0%A8_%EC%88%98%EC%97%85.ipynb\" target=\"_parent\"><img src=\"https://colab.research.google.com/assets/colab-badge.svg\" alt=\"Open In Colab\"/></a>"
      ]
    },
    {
      "cell_type": "code",
      "metadata": {
        "colab": {
          "base_uri": "https://localhost:8080/"
        },
        "id": "XkVWntP00uhI",
        "outputId": "34154939-ac2f-4386-a4e2-7b4c711d0b98"
      },
      "source": [
        "#심리게임\n",
        "\n",
        "print('{심리테스트}')\n",
        "\n",
        "menu = input('당신이 좋아하는 과일 입력 :')\n",
        "\n",
        "if menu == '사과' :\n",
        "  print('당신은 사과를 좋아하네요.')\n",
        "elif menu == '수박' :\n",
        "  print('당신은 여름 사나이 군요.')\n",
        "else :\n",
        "  print('좋아하는 과일을 입력하세요.')"
      ],
      "execution_count": 6,
      "outputs": [
        {
          "output_type": "stream",
          "text": [
            "{심리테스트}\n",
            "당신이 좋아하는 과일 입력 :사과\n",
            "당신은 사과를 좋아하네요.\n"
          ],
          "name": "stdout"
        }
      ]
    },
    {
      "cell_type": "code",
      "metadata": {
        "colab": {
          "base_uri": "https://localhost:8080/"
        },
        "id": "QJOZBEMT4DsH",
        "outputId": "8eb535a6-d2b2-43ce-ef9f-011c179b4790"
      },
      "source": [
        "names = [ '정밀' , '폴리', '산설' , '메카' , '로봇' , '전기']\n",
        "\n",
        "for i in [0,1,2,3,4,5] :\n",
        "  print(names[i])"
      ],
      "execution_count": 12,
      "outputs": [
        {
          "output_type": "stream",
          "text": [
            "정밀\n",
            "폴리\n",
            "산설\n",
            "메카\n",
            "로봇\n",
            "전기\n"
          ],
          "name": "stdout"
        }
      ]
    },
    {
      "cell_type": "code",
      "metadata": {
        "colab": {
          "base_uri": "https://localhost:8080/"
        },
        "id": "EyJJ_6SB5V83",
        "outputId": "e3a8eca8-9c48-4701-9bdd-6635c0b326c3"
      },
      "source": [
        "for i in range(6):\n",
        "  print(names[i], end=' ')"
      ],
      "execution_count": 11,
      "outputs": [
        {
          "output_type": "stream",
          "text": [
            "정밀 폴리 산설 메카 로봇 전기 "
          ],
          "name": "stdout"
        }
      ]
    },
    {
      "cell_type": "code",
      "metadata": {
        "colab": {
          "base_uri": "https://localhost:8080/",
          "height": 35
        },
        "id": "dQlGpvzj5if3",
        "outputId": "5cb584fd-b0ca-42bb-daf2-14248b1517c3"
      },
      "source": [
        "names[-1]"
      ],
      "execution_count": 14,
      "outputs": [
        {
          "output_type": "execute_result",
          "data": {
            "application/vnd.google.colaboratory.intrinsic+json": {
              "type": "string"
            },
            "text/plain": [
              "'전기'"
            ]
          },
          "metadata": {
            "tags": []
          },
          "execution_count": 14
        }
      ]
    },
    {
      "cell_type": "code",
      "metadata": {
        "colab": {
          "base_uri": "https://localhost:8080/"
        },
        "id": "STyJZL4z6CNx",
        "outputId": "050c99b2-fb72-4d5e-ebcc-a9ac78e807d2"
      },
      "source": [
        "names[1:3]"
      ],
      "execution_count": 17,
      "outputs": [
        {
          "output_type": "execute_result",
          "data": {
            "text/plain": [
              "['폴리', '산설']"
            ]
          },
          "metadata": {
            "tags": []
          },
          "execution_count": 17
        }
      ]
    },
    {
      "cell_type": "code",
      "metadata": {
        "id": "_VlP1vM36WpP"
      },
      "source": [
        "names.append('부기공')"
      ],
      "execution_count": 18,
      "outputs": []
    },
    {
      "cell_type": "code",
      "metadata": {
        "colab": {
          "base_uri": "https://localhost:8080/"
        },
        "id": "IT5PQ1il7LAR",
        "outputId": "d5dfc6ba-039a-4a1a-fb61-a0aa506e3154"
      },
      "source": [
        "len(names)"
      ],
      "execution_count": 19,
      "outputs": [
        {
          "output_type": "execute_result",
          "data": {
            "text/plain": [
              "7"
            ]
          },
          "metadata": {
            "tags": []
          },
          "execution_count": 19
        }
      ]
    },
    {
      "cell_type": "code",
      "metadata": {
        "colab": {
          "base_uri": "https://localhost:8080/"
        },
        "id": "XToRqTq37PSh",
        "outputId": "b27f02e8-9928-42c0-99f5-568c211386f6"
      },
      "source": [
        "names"
      ],
      "execution_count": 20,
      "outputs": [
        {
          "output_type": "execute_result",
          "data": {
            "text/plain": [
              "['정밀', '폴리', '산설', '메카', '로봇', '전기', '부기공']"
            ]
          },
          "metadata": {
            "tags": []
          },
          "execution_count": 20
        }
      ]
    },
    {
      "cell_type": "code",
      "metadata": {
        "colab": {
          "base_uri": "https://localhost:8080/",
          "height": 136
        },
        "id": "0dMLS9Hy7QXA",
        "outputId": "08ed10be-38d5-4c22-8fd0-4512c84b9dc7"
      },
      "source": [
        "names.append( '부산기계공')"
      ],
      "execution_count": 26,
      "outputs": [
        {
          "output_type": "error",
          "ename": "SyntaxError",
          "evalue": "ignored",
          "traceback": [
            "\u001b[0;36m  File \u001b[0;32m\"<ipython-input-26-96a85fab47d7>\"\u001b[0;36m, line \u001b[0;32m5\u001b[0m\n\u001b[0;31m    print(f'{name}')고등학교\u001b[0m\n\u001b[0m                       ^\u001b[0m\n\u001b[0;31mSyntaxError\u001b[0m\u001b[0;31m:\u001b[0m invalid syntax\n"
          ]
        }
      ]
    },
    {
      "cell_type": "code",
      "metadata": {
        "colab": {
          "base_uri": "https://localhost:8080/",
          "height": 136
        },
        "id": "hBvkbkKG-hqx",
        "outputId": "01906162-0503-410c-f6b9-72004ce69be2"
      },
      "source": [
        "for name in names:\n",
        "  if len(name) > 5:\n",
        "    print(f'{name}')고등학교\n",
        "    "
      ],
      "execution_count": 27,
      "outputs": [
        {
          "output_type": "error",
          "ename": "SyntaxError",
          "evalue": "ignored",
          "traceback": [
            "\u001b[0;36m  File \u001b[0;32m\"<ipython-input-27-a43dd7dd27e2>\"\u001b[0;36m, line \u001b[0;32m3\u001b[0m\n\u001b[0;31m    print(f'{name}')고등학교\u001b[0m\n\u001b[0m                       ^\u001b[0m\n\u001b[0;31mSyntaxError\u001b[0m\u001b[0;31m:\u001b[0m invalid syntax\n"
          ]
        }
      ]
    },
    {
      "cell_type": "code",
      "metadata": {
        "colab": {
          "base_uri": "https://localhost:8080/"
        },
        "id": "5NRtqe8J-vYj",
        "outputId": "bd2085fd-05bf-41e0-cab8-e003dc911e7b"
      },
      "source": [
        "print('Hello world\\n')\n",
        "print('Busan')"
      ],
      "execution_count": 31,
      "outputs": [
        {
          "output_type": "stream",
          "text": [
            "Hello world\n",
            "\n",
            "Busan\n"
          ],
          "name": "stdout"
        }
      ]
    },
    {
      "cell_type": "code",
      "metadata": {
        "colab": {
          "base_uri": "https://localhost:8080/"
        },
        "id": "h2bwUDQy_Fni",
        "outputId": "ee96faff-a28a-4940-9a77-49edacb51bb9"
      },
      "source": [
        "print('Hello' , end = '\\n')\n",
        "print('World')"
      ],
      "execution_count": 36,
      "outputs": [
        {
          "output_type": "stream",
          "text": [
            "Hello\n",
            "World\n"
          ],
          "name": "stdout"
        }
      ]
    },
    {
      "cell_type": "code",
      "metadata": {
        "colab": {
          "base_uri": "https://localhost:8080/"
        },
        "id": "fUoQAhPF__Vj",
        "outputId": "44e0a297-7b55-44fd-d0af-5fd3fd6e9d9f"
      },
      "source": [
        "print('Hello','World')\n",
        "print('Hello'+'World')\n",
        "print('Hello')"
      ],
      "execution_count": 40,
      "outputs": [
        {
          "output_type": "stream",
          "text": [
            "Hello World\n",
            "HelloWorld\n",
            "Hello'\n"
          ],
          "name": "stdout"
        }
      ]
    },
    {
      "cell_type": "code",
      "metadata": {
        "colab": {
          "base_uri": "https://localhost:8080/"
        },
        "id": "p8vD8UogBRRg",
        "outputId": "d7f1f991-d722-4f36-d7e9-58c963b4342b"
      },
      "source": [
        "x = input()"
      ],
      "execution_count": 42,
      "outputs": [
        {
          "output_type": "stream",
          "text": [
            "안녕하세요\n"
          ],
          "name": "stdout"
        }
      ]
    },
    {
      "cell_type": "code",
      "metadata": {
        "colab": {
          "base_uri": "https://localhost:8080/"
        },
        "id": "G1f5zdCzBV4g",
        "outputId": "96cc3f47-70c8-45e7-e7f3-d0c1b0154cff"
      },
      "source": [
        "print(x)"
      ],
      "execution_count": 43,
      "outputs": [
        {
          "output_type": "stream",
          "text": [
            "안녕하세요\n"
          ],
          "name": "stdout"
        }
      ]
    },
    {
      "cell_type": "code",
      "metadata": {
        "colab": {
          "base_uri": "https://localhost:8080/"
        },
        "id": "NT947UGaBdSS",
        "outputId": "d55013a7-b37f-4a69-818a-16647cafef67"
      },
      "source": [
        "x = input('x입력 :')\n",
        "y = input('y입력 :')\n",
        "\n",
        "print(f'{x} + {y} = {x}+{y}')"
      ],
      "execution_count": 47,
      "outputs": [
        {
          "output_type": "stream",
          "text": [
            "x입력 :10\n",
            "y입력 :30\n",
            "10 + 30 = 10+30\n"
          ],
          "name": "stdout"
        }
      ]
    },
    {
      "cell_type": "code",
      "metadata": {
        "colab": {
          "base_uri": "https://localhost:8080/"
        },
        "id": "CZlCit2ZDz0v",
        "outputId": "8b9f2947-b301-4b5c-faa9-7e17bd1b7b1a"
      },
      "source": [
        "weight = float (input('weight(kg) : '))\n",
        "height = float (input('height(cm) : '))\n",
        "\n",
        "BMI_index = weight / (height/100)**2\n",
        "\n",
        "print(f'BMI : {BMI_index}')"
      ],
      "execution_count": 51,
      "outputs": [
        {
          "output_type": "stream",
          "text": [
            "weight(kg) : 72\n",
            "height(cm) : 178\n",
            "BMI : 22.724403484408533\n"
          ],
          "name": "stdout"
        }
      ]
    }
  ]
}