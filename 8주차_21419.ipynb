{
  "nbformat": 4,
  "nbformat_minor": 0,
  "metadata": {
    "colab": {
      "name": "8주차_21419.ipynb",
      "provenance": [],
      "mount_file_id": "1e0qBlQBkSLMI0Mjh97fKhcBRGbVmqOqw",
      "authorship_tag": "ABX9TyOYQTKd8NZLnBti55xPYUSx",
      "include_colab_link": true
    },
    "kernelspec": {
      "name": "python3",
      "display_name": "Python 3"
    },
    "language_info": {
      "name": "python"
    }
  },
  "cells": [
    {
      "cell_type": "markdown",
      "metadata": {
        "id": "view-in-github",
        "colab_type": "text"
      },
      "source": [
        "<a href=\"https://colab.research.google.com/github/mmasld/bmt_python/blob/main/8%EC%A3%BC%EC%B0%A8_21419.ipynb\" target=\"_parent\"><img src=\"https://colab.research.google.com/assets/colab-badge.svg\" alt=\"Open In Colab\"/></a>"
      ]
    },
    {
      "cell_type": "code",
      "metadata": {
        "id": "PVDOZZNvYx_R"
      },
      "source": [
        "def cal(num1, num2, op):\n",
        "  ans = 0\n",
        "\n",
        "  if op == '+': ans = num1 + num2\n",
        "  elif op == '-': ans = num1 - num2\n",
        "  elif op == '*': ans = num1 * num2\n",
        "  elif op == '/': ans = num1 / num2\n",
        "\n",
        "  print(f'{num1} {op} {num2} = {ans}')\n",
        "  return op"
      ],
      "execution_count": 9,
      "outputs": []
    },
    {
      "cell_type": "code",
      "metadata": {
        "colab": {
          "base_uri": "https://localhost:8080/"
        },
        "id": "WqgNJFd7cq7o",
        "outputId": "99130432-f74b-44d3-fe3d-a088ec9e1384"
      },
      "source": [
        "cal(1, 2, '+'),cal(1, 2, '-'),cal(1, 2, '*'),cal(1, 2, '/')"
      ],
      "execution_count": 10,
      "outputs": [
        {
          "output_type": "stream",
          "text": [
            "1 + 2 = 3\n",
            "1 - 2 = -1\n",
            "1 * 2 = 2\n",
            "1 / 2 = 0.5\n"
          ],
          "name": "stdout"
        },
        {
          "output_type": "execute_result",
          "data": {
            "text/plain": [
              "(None, None, None, None)"
            ]
          },
          "metadata": {
            "tags": []
          },
          "execution_count": 10
        }
      ]
    },
    {
      "cell_type": "code",
      "metadata": {
        "colab": {
          "base_uri": "https://localhost:8080/"
        },
        "id": "AAocL6UvdOeg",
        "outputId": "99c31e7d-33cc-4e84-8054-9aceaf8fcd06"
      },
      "source": [
        "a = cal(1, 2, '+')"
      ],
      "execution_count": 14,
      "outputs": [
        {
          "output_type": "stream",
          "text": [
            "1 + 2 = 3\n"
          ],
          "name": "stdout"
        }
      ]
    },
    {
      "cell_type": "code",
      "metadata": {
        "id": "6dM0EOMHd5FQ"
      },
      "source": [
        "a"
      ],
      "execution_count": 16,
      "outputs": []
    },
    {
      "cell_type": "code",
      "metadata": {
        "colab": {
          "base_uri": "https://localhost:8080/"
        },
        "id": "UiFfv8FSd-4g",
        "outputId": "753dfa2d-e7b0-40bb-d7b8-59c7be4eb6d5"
      },
      "source": [
        "width = int(input('가로 입력 : '))\n",
        "height = int(input('세로 입력 : '))\n",
        "\n",
        "area = width * height\n",
        "\n",
        "if width == height:\n",
        "  print(f'정사각형의 넓이 : {area}')\n",
        "else:\n",
        "  print(f'직사각형의 넓이 : {area}')"
      ],
      "execution_count": 17,
      "outputs": [
        {
          "output_type": "stream",
          "text": [
            "가로 입력 : 10\n",
            "세로 입력 : 20\n",
            "직사각형의 넓이 : 200\n"
          ],
          "name": "stdout"
        }
      ]
    },
    {
      "cell_type": "code",
      "metadata": {
        "id": "wWkEqOcXfEXm"
      },
      "source": [
        "path = '/content/drive/My Drive/dd/'\n",
        "\n",
        "f = open(path+'test.txt','w')\n",
        "\n",
        "f.write('안녕하세요 전기과 친구들!!!')\n",
        "\n",
        "f.close()"
      ],
      "execution_count": 1,
      "outputs": []
    },
    {
      "cell_type": "code",
      "metadata": {
        "colab": {
          "base_uri": "https://localhost:8080/",
          "height": 35
        },
        "id": "AJMDd9pOfrTv",
        "outputId": "12afc0bf-96db-41de-ad91-9c8012fdbe11"
      },
      "source": [
        "f = open('다짐.txt', 'r')\n",
        "data = f.readline()\n",
        "f.close()\n",
        "\n",
        "data"
      ],
      "execution_count": 2,
      "outputs": [
        {
          "output_type": "execute_result",
          "data": {
            "application/vnd.google.colaboratory.intrinsic+json": {
              "type": "string"
            },
            "text/plain": [
              "'전기과 21419 조우혁\\n'"
            ]
          },
          "metadata": {
            "tags": []
          },
          "execution_count": 2
        }
      ]
    },
    {
      "cell_type": "code",
      "metadata": {
        "id": "7OvCKBO8ke_8"
      },
      "source": [
        "fp = open('지역평균기온.txt','r')\n",
        "data = fp.readlines()\n",
        "fp.close()\n",
        "\n",
        "dt = {}\n",
        "\n",
        "for line in data:\n",
        "  line = line.replace('\\n','')\n",
        "  items = line.split(',')\n",
        "  dt[items[0]]=items[1]"
      ],
      "execution_count": 18,
      "outputs": []
    },
    {
      "cell_type": "code",
      "metadata": {
        "colab": {
          "base_uri": "https://localhost:8080/"
        },
        "id": "44XbjkvEnis8",
        "outputId": "ff249f99-35d7-4391-cab2-dc1810000964"
      },
      "source": [
        "items[0], items[1]"
      ],
      "execution_count": 20,
      "outputs": [
        {
          "output_type": "execute_result",
          "data": {
            "text/plain": [
              "('제주', '26')"
            ]
          },
          "metadata": {
            "tags": []
          },
          "execution_count": 20
        }
      ]
    },
    {
      "cell_type": "code",
      "metadata": {
        "colab": {
          "base_uri": "https://localhost:8080/"
        },
        "id": "MB0Qxw5upMCJ",
        "outputId": "49997a78-bd67-436e-ab83-a1993579ed2c"
      },
      "source": [
        "dt"
      ],
      "execution_count": 21,
      "outputs": [
        {
          "output_type": "execute_result",
          "data": {
            "text/plain": [
              "{'강원': '23',\n",
              " '경기': '24',\n",
              " '경남': '29',\n",
              " '경북': '28',\n",
              " '광주': '25',\n",
              " '대구': '24',\n",
              " '대전': '22',\n",
              " '부산': '26',\n",
              " '서울': '20',\n",
              " '세종': '23',\n",
              " '울산': '26',\n",
              " '인천': '24',\n",
              " '전남': '23',\n",
              " '전북': '24',\n",
              " '제주': '26',\n",
              " '충남': '22',\n",
              " '충북': '26'}"
            ]
          },
          "metadata": {
            "tags": []
          },
          "execution_count": 21
        }
      ]
    },
    {
      "cell_type": "code",
      "metadata": {
        "colab": {
          "base_uri": "https://localhost:8080/"
        },
        "id": "r5GqBkDFoslK",
        "outputId": "ec392c93-e200-4fed-b20d-c72f7b8c33a2"
      },
      "source": [
        "!sudo apt-get install -y fonts-nanum\n",
        "!sudo fc-cache -fv\n",
        "!rm ~/.cache/matplotlib -rf"
      ],
      "execution_count": 22,
      "outputs": [
        {
          "output_type": "stream",
          "text": [
            "Reading package lists... Done\n",
            "Building dependency tree       \n",
            "Reading state information... Done\n",
            "The following package was automatically installed and is no longer required:\n",
            "  libnvidia-common-460\n",
            "Use 'sudo apt autoremove' to remove it.\n",
            "The following NEW packages will be installed:\n",
            "  fonts-nanum\n",
            "0 upgraded, 1 newly installed, 0 to remove and 34 not upgraded.\n",
            "Need to get 9,604 kB of archives.\n",
            "After this operation, 29.5 MB of additional disk space will be used.\n",
            "Get:1 http://archive.ubuntu.com/ubuntu bionic/universe amd64 fonts-nanum all 20170925-1 [9,604 kB]\n",
            "Fetched 9,604 kB in 2s (5,088 kB/s)\n",
            "debconf: unable to initialize frontend: Dialog\n",
            "debconf: (No usable dialog-like program is installed, so the dialog based frontend cannot be used. at /usr/share/perl5/Debconf/FrontEnd/Dialog.pm line 76, <> line 1.)\n",
            "debconf: falling back to frontend: Readline\n",
            "debconf: unable to initialize frontend: Readline\n",
            "debconf: (This frontend requires a controlling tty.)\n",
            "debconf: falling back to frontend: Teletype\n",
            "dpkg-preconfigure: unable to re-open stdin: \n",
            "Selecting previously unselected package fonts-nanum.\n",
            "(Reading database ... 160690 files and directories currently installed.)\n",
            "Preparing to unpack .../fonts-nanum_20170925-1_all.deb ...\n",
            "Unpacking fonts-nanum (20170925-1) ...\n",
            "Setting up fonts-nanum (20170925-1) ...\n",
            "Processing triggers for fontconfig (2.12.6-0ubuntu2) ...\n",
            "/usr/share/fonts: caching, new cache contents: 0 fonts, 1 dirs\n",
            "/usr/share/fonts/truetype: caching, new cache contents: 0 fonts, 3 dirs\n",
            "/usr/share/fonts/truetype/humor-sans: caching, new cache contents: 1 fonts, 0 dirs\n",
            "/usr/share/fonts/truetype/liberation: caching, new cache contents: 16 fonts, 0 dirs\n",
            "/usr/share/fonts/truetype/nanum: caching, new cache contents: 10 fonts, 0 dirs\n",
            "/usr/local/share/fonts: caching, new cache contents: 0 fonts, 0 dirs\n",
            "/root/.local/share/fonts: skipping, no such directory\n",
            "/root/.fonts: skipping, no such directory\n",
            "/var/cache/fontconfig: cleaning cache directory\n",
            "/root/.cache/fontconfig: not cleaning non-existent cache directory\n",
            "/root/.fontconfig: not cleaning non-existent cache directory\n",
            "fc-cache: succeeded\n"
          ],
          "name": "stdout"
        }
      ]
    },
    {
      "cell_type": "code",
      "metadata": {
        "colab": {
          "base_uri": "https://localhost:8080/",
          "height": 291
        },
        "id": "lMqhzZ81qJNp",
        "outputId": "52faf2c8-20fa-454a-b88e-bf65e217eb8d"
      },
      "source": [
        "fp = open('지역평균기온.txt','r')\n",
        "data = fp.readlines()\n",
        "fp.close()\n",
        "\n",
        "dt = {}\n",
        "\n",
        "for line in data:\n",
        "  line = line.replace('\\n','')\n",
        "  items = line.split(',')\n",
        "  dt[items[0]]=items[1]\n",
        "\n",
        "print(dt)\n",
        "print()\n",
        "\n",
        "import matplotlib.pyplot as plt\n",
        "import warnings\n",
        "warnings.filterwarnings('ignore')\n",
        "\n",
        "plt.rc('font', family='NanumBarunGothic') \n",
        "plt.style.use('ggplot')\n",
        "\n",
        "plt.figure(figsize=(6,3))\n",
        "area = list(dt.keys())\n",
        "temp = list(dt.values())\n",
        "\n",
        "plt.plot(area, temp, 'go--', color='red')\n",
        "plt.scatter(area, temp, c = 'blue')\n",
        "\n",
        "plt.title('지역평균기온')\n",
        "plt.xticks(rotation=90)\n",
        "\n",
        "plt.show()"
      ],
      "execution_count": 37,
      "outputs": [
        {
          "output_type": "stream",
          "text": [
            "{'서울': '20', '부산': '26', '대구': '24', '인천': '24', '광주': '25', '대전': '22', '울산': '26', '세종': '23', '경기': '24', '강원': '23', '충북': '26', '충남': '22', '전북': '24', '전남': '23', '경북': '28', '경남': '29', '제주': '26'}\n",
            "\n"
          ],
          "name": "stdout"
        },
        {
          "output_type": "display_data",
          "data": {
            "image/png": "[encoded data removed]",
            "text/plain": [
              "<Figure size 432x216 with 1 Axes>"
            ]
          },
          "metadata": {
            "tags": []
          }
        }
      ]
    },
    {
      "cell_type": "code",
      "metadata": {
        "id": "CquW4SBsqeq5"
      },
      "source": [
        ""
      ],
      "execution_count": 37,
      "outputs": []
    },
    {
      "cell_type": "code",
      "metadata": {
        "id": "ZvHTOoyytlgI"
      },
      "source": [
        ""
      ],
      "execution_count": null,
      "outputs": []
    }
  ]
}