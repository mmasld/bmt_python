{
  "nbformat": 4,
  "nbformat_minor": 0,
  "metadata": {
    "colab": {
      "name": "4주차_21419.ipynb",
      "provenance": [],
      "authorship_tag": "ABX9TyO14vbm2ccSrpS/zpuk1Li3",
      "include_colab_link": true
    },
    "kernelspec": {
      "name": "python3",
      "display_name": "Python 3"
    },
    "language_info": {
      "name": "python"
    }
  },
  "cells": [
    {
      "cell_type": "markdown",
      "metadata": {
        "id": "view-in-github",
        "colab_type": "text"
      },
      "source": [
        "<a href=\"https://colab.research.google.com/github/mmasld/bmt_python/blob/main/4%EC%A3%BC%EC%B0%A8_21419.ipynb\" target=\"_parent\"><img src=\"https://colab.research.google.com/assets/colab-badge.svg\" alt=\"Open In Colab\"/></a>"
      ]
    },
    {
      "cell_type": "code",
      "metadata": {
        "colab": {
          "base_uri": "https://localhost:8080/"
        },
        "id": "IP_rkfmWN93z",
        "outputId": "fbb8b838-7e69-4d23-a3da-e5e0014d10b5"
      },
      "source": [
        "print('Hello, World', end='\\n')\n",
        "print('Busan')\n",
        "print('Mechanical')\n",
        "print('high school')"
      ],
      "execution_count": 5,
      "outputs": [
        {
          "output_type": "stream",
          "text": [
            "Hello, World\n",
            "Busan\n",
            "Mechanical\n",
            "high school\n"
          ],
          "name": "stdout"
        }
      ]
    },
    {
      "cell_type": "code",
      "metadata": {
        "colab": {
          "base_uri": "https://localhost:8080/"
        },
        "id": "vUAc-DlPQZZ3",
        "outputId": "782d8769-2139-4710-c41a-07a68a91a74f"
      },
      "source": [
        "print('Hello', 'World')"
      ],
      "execution_count": 8,
      "outputs": [
        {
          "output_type": "stream",
          "text": [
            "Hello World\n"
          ],
          "name": "stdout"
        }
      ]
    },
    {
      "cell_type": "code",
      "metadata": {
        "colab": {
          "base_uri": "https://localhost:8080/"
        },
        "id": "vjztjb12PSV3",
        "outputId": "a70b8d5c-d6c2-4c70-c6b3-68a646a18246"
      },
      "source": [
        "print('Hello' +  'World')"
      ],
      "execution_count": 7,
      "outputs": [
        {
          "output_type": "stream",
          "text": [
            "HelloWorld\n"
          ],
          "name": "stdout"
        }
      ]
    },
    {
      "cell_type": "code",
      "metadata": {
        "colab": {
          "base_uri": "https://localhost:8080/"
        },
        "id": "pQIlDxQSQTqV",
        "outputId": "0d14569f-5cd3-41ab-db9c-923da56d6ea8"
      },
      "source": [
        "print('hello', 'World', 'Busan')\n",
        "print('hello'*3)"
      ],
      "execution_count": 10,
      "outputs": [
        {
          "output_type": "stream",
          "text": [
            "hello World Busan\n",
            "hellohellohello\n"
          ],
          "name": "stdout"
        }
      ]
    },
    {
      "cell_type": "code",
      "metadata": {
        "colab": {
          "base_uri": "https://localhost:8080/"
        },
        "id": "MUF9WA_DQ160",
        "outputId": "f687c2e9-d34f-47f1-d2c0-29e0abb265e7"
      },
      "source": [
        "print('Hello\\n')"
      ],
      "execution_count": 12,
      "outputs": [
        {
          "output_type": "stream",
          "text": [
            "Hello\n",
            "\n"
          ],
          "name": "stdout"
        }
      ]
    },
    {
      "cell_type": "code",
      "metadata": {
        "colab": {
          "base_uri": "https://localhost:8080/"
        },
        "id": "4WR1GkwGQ_78",
        "outputId": "426eb97e-a26d-4e0d-e3ac-ddde3584f6b3"
      },
      "source": [
        "print('hello\\tPython')"
      ],
      "execution_count": 13,
      "outputs": [
        {
          "output_type": "stream",
          "text": [
            "hello\tPython\n"
          ],
          "name": "stdout"
        }
      ]
    },
    {
      "cell_type": "code",
      "metadata": {
        "colab": {
          "base_uri": "https://localhost:8080/",
          "height": 53
        },
        "id": "FE8Ph3GvRx90",
        "outputId": "ab635040-12e5-42e7-a67b-2231286c1e31"
      },
      "source": [
        "x = input()"
      ],
      "execution_count": 14,
      "outputs": [
        {
          "output_type": "stream",
          "text": [
            "안녕하세요\n"
          ],
          "name": "stdout"
        },
        {
          "output_type": "execute_result",
          "data": {
            "application/vnd.google.colaboratory.intrinsic+json": {
              "type": "string"
            },
            "text/plain": [
              "'안녕하세요'"
            ]
          },
          "metadata": {
            "tags": []
          },
          "execution_count": 14
        }
      ]
    },
    {
      "cell_type": "code",
      "metadata": {
        "colab": {
          "base_uri": "https://localhost:8080/"
        },
        "id": "7IQkIKmYSEdl",
        "outputId": "3f48d8a8-63e6-4967-ff4d-5dada0588ebf"
      },
      "source": [
        "x = input('x 입력 : ')\n",
        "y = input('y 입력 : ')"
      ],
      "execution_count": 15,
      "outputs": [
        {
          "output_type": "stream",
          "text": [
            "x 입력 : 1\n",
            "y 입력 : 2\n"
          ],
          "name": "stdout"
        }
      ]
    },
    {
      "cell_type": "code",
      "metadata": {
        "id": "RJNmUW1iS_OU"
      },
      "source": [
        "x = int(x)\n",
        "y = int(y)"
      ],
      "execution_count": 17,
      "outputs": []
    },
    {
      "cell_type": "code",
      "metadata": {
        "colab": {
          "base_uri": "https://localhost:8080/"
        },
        "id": "jVdQ8aJLTHH0",
        "outputId": "803d2e60-1f66-40ea-f7bf-eb2d8a606d74"
      },
      "source": [
        "print(x, '+', y, '=', x+y)"
      ],
      "execution_count": 18,
      "outputs": [
        {
          "output_type": "stream",
          "text": [
            "1 + 2 = 3\n"
          ],
          "name": "stdout"
        }
      ]
    },
    {
      "cell_type": "code",
      "metadata": {
        "colab": {
          "base_uri": "https://localhost:8080/"
        },
        "id": "FZv6lMdfTI2k",
        "outputId": "60e34a0b-87cf-4fc6-a78c-7137b14e4075"
      },
      "source": [
        "# 두 점수 입력 받아 사칙연산 프로그램\n",
        "\n",
        "# 입력부\n",
        "x = int(input('x 정수 입력 : '))\n",
        "y = int(input('y 정수 입력 : '))"
      ],
      "execution_count": 19,
      "outputs": [
        {
          "output_type": "stream",
          "text": [
            "x 정수 입력 : 10\n",
            "y 정수 입력 : 20\n"
          ],
          "name": "stdout"
        }
      ]
    },
    {
      "cell_type": "code",
      "metadata": {
        "colab": {
          "base_uri": "https://localhost:8080/"
        },
        "id": "2DYxfb6eTn0E",
        "outputId": "3b20f64d-dc7b-44e4-bcc9-bf2c4f6a06e4"
      },
      "source": [
        "print(x, '+', y, '=', (x+y))\n",
        "print(x, '-', y, '=', (x-y))\n",
        "print(x, 'x', y, '=', (x*y))\n",
        "print(x, '/', y, '=', (x/y))\n",
        "print(x, '//', y, '=', (x//y))\n",
        "print(x, '%', y, '=', (x%y))"
      ],
      "execution_count": 22,
      "outputs": [
        {
          "output_type": "stream",
          "text": [
            "10 + 20 = 30\n",
            "10 - 20 = -10\n",
            "10 x 20 = 200\n",
            "10 / 20 = 0.5\n",
            "10 // 20 = 0\n",
            "10 % 20 = 10\n"
          ],
          "name": "stdout"
        }
      ]
    },
    {
      "cell_type": "code",
      "metadata": {
        "colab": {
          "base_uri": "https://localhost:8080/"
        },
        "id": "tkfQQ8b8T66E",
        "outputId": "d2fc6fdc-779a-4bdd-e206-bbf31c0cb7e5"
      },
      "source": [
        "# BMI 지수 구하기\n",
        "\n",
        "# 입력부\n",
        "weight = float(input('weight(kg) : '))\n",
        "height = float(input('height(cm) : '))"
      ],
      "execution_count": 23,
      "outputs": [
        {
          "output_type": "stream",
          "text": [
            "weight(kg) : 67\n",
            "height(cm) : 170.9\n"
          ],
          "name": "stdout"
        }
      ]
    },
    {
      "cell_type": "code",
      "metadata": {
        "id": "WZfSH28jVWBc"
      },
      "source": [
        ""
      ],
      "execution_count": null,
      "outputs": []
    },
    {
      "cell_type": "code",
      "metadata": {
        "id": "6GGmo4HtUt60"
      },
      "source": [
        "# 제어부\n",
        "BMI = weight / (height/100)**2"
      ],
      "execution_count": 24,
      "outputs": []
    },
    {
      "cell_type": "code",
      "metadata": {
        "colab": {
          "base_uri": "https://localhost:8080/"
        },
        "id": "kblieCARVAsk",
        "outputId": "49aff7c2-7dc2-45e7-e53a-3cd142185d08"
      },
      "source": [
        "# 출력부\n",
        "print(f'BMI : {BMI:.2f}')"
      ],
      "execution_count": 26,
      "outputs": [
        {
          "output_type": "stream",
          "text": [
            "BMI : 22.94\n"
          ],
          "name": "stdout"
        }
      ]
    },
    {
      "cell_type": "code",
      "metadata": {
        "colab": {
          "base_uri": "https://localhost:8080/"
        },
        "id": "5POqzUTAVKIE",
        "outputId": "835d1bc8-1b25-4073-fd3f-cc105f44e10e"
      },
      "source": [
        "# BMI 지수 구하기\n",
        "\n",
        "# 입력부\n",
        "weight = float(input('weight(kg) : '))\n",
        "height = float(input('height(cm) : '))\n",
        "\n",
        "# 제어부\n",
        "BMI = weight / (height/100)**2\n",
        "\n",
        "# 출력부\n",
        "print(f'BMI : {BMI:.2f}')\n",
        "\n",
        "if BMI > 20 :\n",
        " print('넌 살 좀 빼야돼!!!👍 ')\n",
        "elif BMI > 30:\n",
        " print('넌 헬스장 가야돼!!! 🐱‍💻')\n",
        "elif BMI > 0 and BMI <= 20 :\n",
        " print('넌 괜찮아')\n",
        "else :\n",
        " print('뭔가 이상한데')"
      ],
      "execution_count": 31,
      "outputs": [
        {
          "output_type": "stream",
          "text": [
            "weight(kg) : 30\n",
            "height(cm) : 120\n",
            "BMI : 20.83\n",
            "넌 살 좀 빼야돼!!!👍 \n"
          ],
          "name": "stdout"
        }
      ]
    },
    {
      "cell_type": "code",
      "metadata": {
        "id": "7TL35RcsWGOk"
      },
      "source": [
        "x= 'Hello Python'"
      ],
      "execution_count": 47,
      "outputs": []
    },
    {
      "cell_type": "code",
      "metadata": {
        "colab": {
          "base_uri": "https://localhost:8080/"
        },
        "id": "GvjDHh8taWu8",
        "outputId": "4ddb6981-a033-4c93-e5b1-cfb6964fe3c1"
      },
      "source": [
        "len(x)"
      ],
      "execution_count": 37,
      "outputs": [
        {
          "output_type": "execute_result",
          "data": {
            "text/plain": [
              "12"
            ]
          },
          "metadata": {
            "tags": []
          },
          "execution_count": 37
        }
      ]
    },
    {
      "cell_type": "code",
      "metadata": {
        "colab": {
          "base_uri": "https://localhost:8080/"
        },
        "id": "lCp-hBjhbcrU",
        "outputId": "ab93690b-cb30-4c94-ff01-e0f9abc43243"
      },
      "source": [
        "x.count('H')"
      ],
      "execution_count": 48,
      "outputs": [
        {
          "output_type": "execute_result",
          "data": {
            "text/plain": [
              "1"
            ]
          },
          "metadata": {
            "tags": []
          },
          "execution_count": 48
        }
      ]
    },
    {
      "cell_type": "code",
      "metadata": {
        "colab": {
          "base_uri": "https://localhost:8080/"
        },
        "id": "xcnMF_CabfED",
        "outputId": "ae7fa146-d2cf-4d0c-d2cc-175d252ef3ea"
      },
      "source": [
        "x.find('H')"
      ],
      "execution_count": 49,
      "outputs": [
        {
          "output_type": "execute_result",
          "data": {
            "text/plain": [
              "0"
            ]
          },
          "metadata": {
            "tags": []
          },
          "execution_count": 49
        }
      ]
    },
    {
      "cell_type": "code",
      "metadata": {
        "colab": {
          "base_uri": "https://localhost:8080/",
          "height": 35
        },
        "id": "GBkqbeOvcJZz",
        "outputId": "fb3e249b-ac44-4d51-88be-46bb80487981"
      },
      "source": [
        "x[0]"
      ],
      "execution_count": 50,
      "outputs": [
        {
          "output_type": "execute_result",
          "data": {
            "application/vnd.google.colaboratory.intrinsic+json": {
              "type": "string"
            },
            "text/plain": [
              "'H'"
            ]
          },
          "metadata": {
            "tags": []
          },
          "execution_count": 50
        }
      ]
    },
    {
      "cell_type": "code",
      "metadata": {
        "colab": {
          "base_uri": "https://localhost:8080/"
        },
        "id": "FcmiZh1icka9",
        "outputId": "0c942020-a9bc-456d-ca50-65b9b4543a65"
      },
      "source": [
        "x.find('o')"
      ],
      "execution_count": 54,
      "outputs": [
        {
          "output_type": "execute_result",
          "data": {
            "text/plain": [
              "4"
            ]
          },
          "metadata": {
            "tags": []
          },
          "execution_count": 54
        }
      ]
    },
    {
      "cell_type": "code",
      "metadata": {
        "colab": {
          "base_uri": "https://localhost:8080/"
        },
        "id": "1GZUWnqtcLr0",
        "outputId": "79af3aa3-0c3d-4220-b402-096804be860b"
      },
      "source": [
        "x.index('Python')"
      ],
      "execution_count": 52,
      "outputs": [
        {
          "output_type": "execute_result",
          "data": {
            "text/plain": [
              "6"
            ]
          },
          "metadata": {
            "tags": []
          },
          "execution_count": 52
        }
      ]
    },
    {
      "cell_type": "code",
      "metadata": {
        "colab": {
          "base_uri": "https://localhost:8080/",
          "height": 35
        },
        "id": "qnsZ-UCQcdLT",
        "outputId": "2f37b30b-a321-4583-d18f-491553e5cd88"
      },
      "source": [
        "'-'. join(x)"
      ],
      "execution_count": 59,
      "outputs": [
        {
          "output_type": "execute_result",
          "data": {
            "application/vnd.google.colaboratory.intrinsic+json": {
              "type": "string"
            },
            "text/plain": [
              "'H-e-l-l-o- -P-y-t-h-o-n'"
            ]
          },
          "metadata": {
            "tags": []
          },
          "execution_count": 59
        }
      ]
    },
    {
      "cell_type": "code",
      "metadata": {
        "colab": {
          "base_uri": "https://localhost:8080/",
          "height": 35
        },
        "id": "11P5IzGcczbj",
        "outputId": "1ac054b4-ad82-46f3-8e7f-1660422c849d"
      },
      "source": [
        "x.upper()"
      ],
      "execution_count": 60,
      "outputs": [
        {
          "output_type": "execute_result",
          "data": {
            "application/vnd.google.colaboratory.intrinsic+json": {
              "type": "string"
            },
            "text/plain": [
              "'HELLO PYTHON'"
            ]
          },
          "metadata": {
            "tags": []
          },
          "execution_count": 60
        }
      ]
    },
    {
      "cell_type": "code",
      "metadata": {
        "colab": {
          "base_uri": "https://localhost:8080/",
          "height": 35
        },
        "id": "l1RznrZbdD2D",
        "outputId": "a8c72552-4b7e-4722-cb11-3901f7839417"
      },
      "source": [
        "x.lower()"
      ],
      "execution_count": 61,
      "outputs": [
        {
          "output_type": "execute_result",
          "data": {
            "application/vnd.google.colaboratory.intrinsic+json": {
              "type": "string"
            },
            "text/plain": [
              "'hello python'"
            ]
          },
          "metadata": {
            "tags": []
          },
          "execution_count": 61
        }
      ]
    },
    {
      "cell_type": "code",
      "metadata": {
        "colab": {
          "base_uri": "https://localhost:8080/",
          "height": 35
        },
        "id": "HTEciZbidHGj",
        "outputId": "41f43870-6715-47aa-bdec-d98f590fe361"
      },
      "source": [
        "x.replace('P', '🤣')"
      ],
      "execution_count": 62,
      "outputs": [
        {
          "output_type": "execute_result",
          "data": {
            "application/vnd.google.colaboratory.intrinsic+json": {
              "type": "string"
            },
            "text/plain": [
              "'Hello 🤣ython'"
            ]
          },
          "metadata": {
            "tags": []
          },
          "execution_count": 62
        }
      ]
    },
    {
      "cell_type": "code",
      "metadata": {
        "colab": {
          "base_uri": "https://localhost:8080/",
          "height": 35
        },
        "id": "F-l5rdHcdXTE",
        "outputId": "24ff4336-c85a-4bbd-d6f6-ca8091abb1d2"
      },
      "source": [
        "x.replace('o', '😂')"
      ],
      "execution_count": 63,
      "outputs": [
        {
          "output_type": "execute_result",
          "data": {
            "application/vnd.google.colaboratory.intrinsic+json": {
              "type": "string"
            },
            "text/plain": [
              "'Hell😂 Pyth😂n'"
            ]
          },
          "metadata": {
            "tags": []
          },
          "execution_count": 63
        }
      ]
    },
    {
      "cell_type": "code",
      "metadata": {
        "colab": {
          "base_uri": "https://localhost:8080/"
        },
        "id": "_xVMK_VMea9G",
        "outputId": "7aa6e462-9996-4ae8-a935-fac7df37ab6c"
      },
      "source": [
        "y = '-'.join(x)\n",
        "print(y)"
      ],
      "execution_count": 89,
      "outputs": [
        {
          "output_type": "stream",
          "text": [
            "H-e-l-l-o- -P-y-t-h-o-n\n"
          ],
          "name": "stdout"
        }
      ]
    },
    {
      "cell_type": "code",
      "metadata": {
        "colab": {
          "base_uri": "https://localhost:8080/"
        },
        "id": "VytQWSNBdn5k",
        "outputId": "2973a07e-972b-4c7f-a102-145baf375b23"
      },
      "source": [
        "y.split('-')"
      ],
      "execution_count": 90,
      "outputs": [
        {
          "output_type": "execute_result",
          "data": {
            "text/plain": [
              "['H', 'e', 'l', 'l', 'o', ' ', 'P', 'y', 't', 'h', 'o', 'n']"
            ]
          },
          "metadata": {
            "tags": []
          },
          "execution_count": 90
        }
      ]
    },
    {
      "cell_type": "code",
      "metadata": {
        "colab": {
          "base_uri": "https://localhost:8080/"
        },
        "id": "STVY6zZod2xD",
        "outputId": "69cb63f7-d748-4145-ba57-e2da8fc4dcee"
      },
      "source": [
        "y.split('.')"
      ],
      "execution_count": 91,
      "outputs": [
        {
          "output_type": "execute_result",
          "data": {
            "text/plain": [
              "['H-e-l-l-o- -P-y-t-h-o-n']"
            ]
          },
          "metadata": {
            "tags": []
          },
          "execution_count": 91
        }
      ]
    },
    {
      "cell_type": "code",
      "metadata": {
        "colab": {
          "base_uri": "https://localhost:8080/"
        },
        "id": "GI2J7-fhd45z",
        "outputId": "f887adda-c84a-45e9-987f-84b50972e2e6"
      },
      "source": [
        "corona = '''\n",
        "코로나(corona)는 라틴말로 왕관을 뜻하며 통상 태양을 둘러싼 외곽의 빛(광환)을 지칭한다.\n",
        "코로나 바이러스라는 이름은 전자현미경으로 이 바이러스를 관찰했을 때 마치 코로나와 유사한 모양을 띠어 붙여진 이름이다.\n",
        "이번에 중국의 우환에서 시작된 코로나 바이러스는 2019년에 발견된 새로운 코로나 바이러스라는 뜻으로 2019-nCov로 붙여졌다.\n",
        "nCov는 novel(새로운) Cov(코로나 바이러스)라는 뜻이다.\n",
        "'''\n",
        "print('-'*50)\n",
        "sentence = corona.count('.')\n",
        "print(f'{sentence} 개의 문장으로 이루어짐')\n",
        "print(corona.replace('\\n','').split('.'))\n",
        "\n",
        "print()\n",
        "\n",
        "print('-'*50)\n",
        "str = input('찾으려는 단어를 입력하시요 : ')\n",
        "cnt = corona.count(str)\n",
        "print(f\"'{str}'(은/는) {cnt} 번 언급됨\")"
      ],
      "execution_count": 88,
      "outputs": [
        {
          "output_type": "stream",
          "text": [
            "--------------------------------------------------\n",
            "4 개의 문장으로 이루어짐\n",
            "['코로나(corona)는 라틴말로 왕관을 뜻하며 통상 태양을 둘러싼 외곽의 빛(광환)을 지칭한다', '코로나 바이러스라는 이름은 전자현미경으로 이 바이러스를 관찰했을 때 마치 코로나와 유사한 모양을 띠어 붙여진 이름이다', '이번에 중국의 우환에서 시작된 코로나 바이러스는 2019년에 발견된 새로운 코로나 바이러스라는 뜻으로 2019-nCov로 붙여졌다', 'nCov는 novel(새로운) Cov(코로나 바이러스)라는 뜻이다', '']\n",
            "\n",
            "--------------------------------------------------\n",
            "찾으려는 단어를 입력하시요 : 라틴\n",
            "'라틴'(은/는) 1 번 언급됨\n"
          ],
          "name": "stdout"
        }
      ]
    },
    {
      "cell_type": "code",
      "metadata": {
        "colab": {
          "base_uri": "https://localhost:8080/"
        },
        "id": "Z354FUHMe68z",
        "outputId": "8ff0e865-46cd-41b7-98e3-7994fee3d27d"
      },
      "source": [
        "corona = '''\n",
        "왜들 그리 다운돼있어? 뭐가 문제야 say something\n",
        "분위기가 겁나 싸해 요새는 이런 게 유행인가\n",
        "왜들 그리 재미없어? 아 그건 나도 마찬가지\n",
        "Tell me what I got to do 급한 대로 블루투스 켜\n",
        "아무 노래나 일단 틀어 아무거나 신나는 걸로\n",
        "아무렇게나 춤춰 아무렇지 않아 보이게\n",
        "아무 생각 하기 싫어 아무개로 살래 잠시\n",
        "I'm sick and tired of my every day, keep it up 한 곡 더\n",
        "아무 노래나 일단 틀어 아무렴 어때 it's so boring\n",
        "아무래도 refresh가 시급한 듯해 쌓여가 스트레스가\n",
        "배꼽 빠질 만큼만 폭소하고 싶은 날이야\n",
        "What up my dawgs? 어디야 너희 올 때 병맥주랑 까까 몇 개 사 와 uh\n",
        "클럽은 구미가 잘 안 당겨 우리 집 거실로 빨랑 모여\n",
        "외부인은 요령껏 차단 시켜 밤새 수다 떨 시간도 모자라\n",
        "누군 힘들어 죽겠고 누군 축제 괜히 싱숭생숭 I want my youth back\n",
        "좀 전까지 왁자지껄 하다 한 명 두 명씩 자릴 떠\n",
        "왜들 그리 다운돼있어? 뭐가 문제야 say something\n",
        "분위기가 겁나 싸해 요새는 이런 게 유행인가\n",
        "왜들 그리 재미없어? 아 그건 나도 마찬가지\n",
        "Tell me what I got to do 급한 대로 블루투스 켜\n",
        "아무 노래나 일단 틀어 아무거나 신나는 걸로\n",
        "아무렇게나 춤춰 아무렇지 않아 보이게\n",
        "아무 생각 하기 싫어 아무개로 살래 잠시\n",
        "I'm sick and tired of my every day, keep it up 한 곡 더\n",
        "떠나질 못할 바엔\n",
        "창밖은 쳐다도 안 봐\n",
        "회까닥해서 추태를 부려도\n",
        "No worries at all 이미지 왜 챙겨 그래 봤자 우리끼린데\n",
        "Ooh 늦기 전에 막판 스퍼트 20대가 얼마 안 남았어\n",
        "편한 옷으로 갈아입어 you look nice, get 'em high\n",
        "얼핏 보면 그냥 코미디 이렇게 무해한 파티 처음이지?\n",
        "만감이 교차하는 새벽 2시경 술잔과 감정이 소용돌이쳐\n",
        "왜들 그리 다운돼있어? 뭐가 문제야 say something\n",
        "분위기가 겁나 싸해 요새는 이런 게 유행인가\n",
        "왜들 그리 재미없어? 아 그건 나도 마찬가지\n",
        "Tell me what I got to do 급한 대로 블루투스 켜\n",
        "아무 노래나 일단 틀어 아무거나 신나는 걸로\n",
        "아무렇게나 춤춰 아무렇지 않아 보이게\n",
        "아무 생각 하기 싫어 아무개로 살래 잠시\n",
        "I'm sick and tired of my every day, keep it up 한 곡 더\n",
        "아무 노래나 일단\n",
        "La-la-la, la-la-la, la-la-la-la\n",
        "La-la-la, la-la-la, la-la-la-la (You ain't gonna get a day like this)\n",
        "아무 노래 아무 노래 아무 노래나 틀어봐\n",
        "아무 노래 아무 노래 아무 노래나 틀어봐 (Yeah)\n",
        "아무 노래 (ooh) 아무 노래 아무 노래나 틀어봐\n",
        "아무 노래 아무 노래 아무 노래나 KOZ\n",
        "'''\n",
        "\n",
        "song = corona.count('\\n')\n",
        "print(f'{song-1} 개의 문장으로 이루어짐')\n",
        "\n",
        "print(corona.replace('\\n', ', ').split('\\n'))\n",
        "print('-'*50)\n",
        "\n",
        "str = input('찾으려는 단어를 입력하세요 : ')\n",
        "cnt = corona.count(str)\n",
        "print(f\"'{str}'(은/는) {cnt} 번 언급됨.\")\n"
      ],
      "execution_count": 92,
      "outputs": [
        {
          "output_type": "stream",
          "text": [
            "47 개의 문장으로 이루어짐\n",
            "[\", 왜들 그리 다운돼있어? 뭐가 문제야 say something, 분위기가 겁나 싸해 요새는 이런 게 유행인가, 왜들 그리 재미없어? 아 그건 나도 마찬가지, Tell me what I got to do 급한 대로 블루투스 켜, 아무 노래나 일단 틀어 아무거나 신나는 걸로, 아무렇게나 춤춰 아무렇지 않아 보이게, 아무 생각 하기 싫어 아무개로 살래 잠시, I'm sick and tired of my every day, keep it up 한 곡 더, 아무 노래나 일단 틀어 아무렴 어때 it's so boring, 아무래도 refresh가 시급한 듯해 쌓여가 스트레스가, 배꼽 빠질 만큼만 폭소하고 싶은 날이야, What up my dawgs? 어디야 너희 올 때 병맥주랑 까까 몇 개 사 와 uh, 클럽은 구미가 잘 안 당겨 우리 집 거실로 빨랑 모여, 외부인은 요령껏 차단 시켜 밤새 수다 떨 시간도 모자라, 누군 힘들어 죽겠고 누군 축제 괜히 싱숭생숭 I want my youth back, 좀 전까지 왁자지껄 하다 한 명 두 명씩 자릴 떠, 왜들 그리 다운돼있어? 뭐가 문제야 say something, 분위기가 겁나 싸해 요새는 이런 게 유행인가, 왜들 그리 재미없어? 아 그건 나도 마찬가지, Tell me what I got to do 급한 대로 블루투스 켜, 아무 노래나 일단 틀어 아무거나 신나는 걸로, 아무렇게나 춤춰 아무렇지 않아 보이게, 아무 생각 하기 싫어 아무개로 살래 잠시, I'm sick and tired of my every day, keep it up 한 곡 더, 떠나질 못할 바엔, 창밖은 쳐다도 안 봐, 회까닥해서 추태를 부려도, No worries at all 이미지 왜 챙겨 그래 봤자 우리끼린데, Ooh 늦기 전에 막판 스퍼트 20대가 얼마 안 남았어, 편한 옷으로 갈아입어 you look nice, get 'em high, 얼핏 보면 그냥 코미디 이렇게 무해한 파티 처음이지?, 만감이 교차하는 새벽 2시경 술잔과 감정이 소용돌이쳐, 왜들 그리 다운돼있어? 뭐가 문제야 say something, 분위기가 겁나 싸해 요새는 이런 게 유행인가, 왜들 그리 재미없어? 아 그건 나도 마찬가지, Tell me what I got to do 급한 대로 블루투스 켜, 아무 노래나 일단 틀어 아무거나 신나는 걸로, 아무렇게나 춤춰 아무렇지 않아 보이게, 아무 생각 하기 싫어 아무개로 살래 잠시, I'm sick and tired of my every day, keep it up 한 곡 더, 아무 노래나 일단, La-la-la, la-la-la, la-la-la-la, La-la-la, la-la-la, la-la-la-la (You ain't gonna get a day like this), 아무 노래 아무 노래 아무 노래나 틀어봐, 아무 노래 아무 노래 아무 노래나 틀어봐 (Yeah), 아무 노래 (ooh) 아무 노래 아무 노래나 틀어봐, 아무 노래 아무 노래 아무 노래나 KOZ, \"]\n",
            "--------------------------------------------------\n",
            "찾으려는 단어를 입력하세요 : say\n",
            "'say'(은/는) 3 번 언급됨.\n"
          ],
          "name": "stdout"
        }
      ]
    },
    {
      "cell_type": "code",
      "metadata": {
        "colab": {
          "base_uri": "https://localhost:8080/"
        },
        "id": "B58I2Q34gxuU",
        "outputId": "985268d8-0062-479c-ad3a-ab2ac881cda7"
      },
      "source": [
        "lst = [10, 20, 30]\n",
        "lst"
      ],
      "execution_count": 93,
      "outputs": [
        {
          "output_type": "execute_result",
          "data": {
            "text/plain": [
              "[10, 20, 30]"
            ]
          },
          "metadata": {
            "tags": []
          },
          "execution_count": 93
        }
      ]
    },
    {
      "cell_type": "code",
      "metadata": {
        "colab": {
          "base_uri": "https://localhost:8080/"
        },
        "id": "1kRY8r1Zhnju",
        "outputId": "15eda594-7f6e-4dab-9626-38d2305587da"
      },
      "source": [
        "type(lst)"
      ],
      "execution_count": 94,
      "outputs": [
        {
          "output_type": "execute_result",
          "data": {
            "text/plain": [
              "list"
            ]
          },
          "metadata": {
            "tags": []
          },
          "execution_count": 94
        }
      ]
    },
    {
      "cell_type": "code",
      "metadata": {
        "colab": {
          "base_uri": "https://localhost:8080/"
        },
        "id": "NBXvw_EIhzCT",
        "outputId": "bd20af07-bb13-446a-b6c5-bcfc9c979b22"
      },
      "source": [
        "lst[0]"
      ],
      "execution_count": 98,
      "outputs": [
        {
          "output_type": "execute_result",
          "data": {
            "text/plain": [
              "10"
            ]
          },
          "metadata": {
            "tags": []
          },
          "execution_count": 98
        }
      ]
    },
    {
      "cell_type": "code",
      "metadata": {
        "colab": {
          "base_uri": "https://localhost:8080/"
        },
        "id": "h4jmhCpVh6mk",
        "outputId": "91d5ce76-c6c4-4af2-a911-9040bbefe77f"
      },
      "source": [
        "lst[-1]"
      ],
      "execution_count": 99,
      "outputs": [
        {
          "output_type": "execute_result",
          "data": {
            "text/plain": [
              "30"
            ]
          },
          "metadata": {
            "tags": []
          },
          "execution_count": 99
        }
      ]
    },
    {
      "cell_type": "code",
      "metadata": {
        "colab": {
          "base_uri": "https://localhost:8080/"
        },
        "id": "zKYj7IyYiF4D",
        "outputId": "1cb8a78e-3a33-41af-dc6a-efa83fee2a14"
      },
      "source": [
        "lst"
      ],
      "execution_count": 100,
      "outputs": [
        {
          "output_type": "execute_result",
          "data": {
            "text/plain": [
              "[10, 20, 30]"
            ]
          },
          "metadata": {
            "tags": []
          },
          "execution_count": 100
        }
      ]
    },
    {
      "cell_type": "code",
      "metadata": {
        "colab": {
          "base_uri": "https://localhost:8080/"
        },
        "id": "MVkUky2qiHxz",
        "outputId": "098d67e9-3459-4429-8646-ccb5a22880e3"
      },
      "source": [
        "lst[:2]"
      ],
      "execution_count": 102,
      "outputs": [
        {
          "output_type": "execute_result",
          "data": {
            "text/plain": [
              "[10, 20]"
            ]
          },
          "metadata": {
            "tags": []
          },
          "execution_count": 102
        }
      ]
    },
    {
      "cell_type": "code",
      "metadata": {
        "id": "SVP4ggJ1iJWT"
      },
      "source": [
        "lst1 = [10, 20]\n",
        "lst2 = [100, 200]"
      ],
      "execution_count": 104,
      "outputs": []
    },
    {
      "cell_type": "code",
      "metadata": {
        "colab": {
          "base_uri": "https://localhost:8080/"
        },
        "id": "HGHBVJ5TiO6j",
        "outputId": "5e7ab85a-5c61-4f7a-d781-fcffef3e32c2"
      },
      "source": [
        "lst1+lst2"
      ],
      "execution_count": 105,
      "outputs": [
        {
          "output_type": "execute_result",
          "data": {
            "text/plain": [
              "[10, 20, 100, 200]"
            ]
          },
          "metadata": {
            "tags": []
          },
          "execution_count": 105
        }
      ]
    },
    {
      "cell_type": "code",
      "metadata": {
        "colab": {
          "base_uri": "https://localhost:8080/"
        },
        "id": "hcVDArVwiUwD",
        "outputId": "ae9a6bce-956c-41e9-d2a2-0ebe78c20cdc"
      },
      "source": [
        "lst1*3"
      ],
      "execution_count": 107,
      "outputs": [
        {
          "output_type": "execute_result",
          "data": {
            "text/plain": [
              "[10, 20, 10, 20, 10, 20]"
            ]
          },
          "metadata": {
            "tags": []
          },
          "execution_count": 107
        }
      ]
    },
    {
      "cell_type": "code",
      "metadata": {
        "colab": {
          "base_uri": "https://localhost:8080/"
        },
        "id": "agybTFyBia6z",
        "outputId": "8f320b72-a5be-4e99-b163-7d8a7acc7074"
      },
      "source": [
        "lst2*3"
      ],
      "execution_count": 109,
      "outputs": [
        {
          "output_type": "execute_result",
          "data": {
            "text/plain": [
              "[100, 200, 100, 200, 100, 200]"
            ]
          },
          "metadata": {
            "tags": []
          },
          "execution_count": 109
        }
      ]
    },
    {
      "cell_type": "code",
      "metadata": {
        "id": "OS4UQGuFilGT"
      },
      "source": [
        "lst = ['a', 'b', 'c']"
      ],
      "execution_count": 111,
      "outputs": []
    },
    {
      "cell_type": "code",
      "metadata": {
        "colab": {
          "base_uri": "https://localhost:8080/"
        },
        "id": "CGVV9-tQiwBk",
        "outputId": "ef4acc40-bb93-4a02-cfc5-096518483005"
      },
      "source": [
        "lst"
      ],
      "execution_count": 112,
      "outputs": [
        {
          "output_type": "execute_result",
          "data": {
            "text/plain": [
              "['a', 'b', 'c']"
            ]
          },
          "metadata": {
            "tags": []
          },
          "execution_count": 112
        }
      ]
    },
    {
      "cell_type": "code",
      "metadata": {
        "id": "dfCZop1iiz0z"
      },
      "source": [
        "lst.append('d')"
      ],
      "execution_count": 113,
      "outputs": []
    },
    {
      "cell_type": "code",
      "metadata": {
        "colab": {
          "base_uri": "https://localhost:8080/"
        },
        "id": "coO1Lin6i2j0",
        "outputId": "b30502e5-2d3d-4dc0-e2e3-b1e214c06a94"
      },
      "source": [
        "lst"
      ],
      "execution_count": 114,
      "outputs": [
        {
          "output_type": "execute_result",
          "data": {
            "text/plain": [
              "['a', 'b', 'c', 'd']"
            ]
          },
          "metadata": {
            "tags": []
          },
          "execution_count": 114
        }
      ]
    },
    {
      "cell_type": "code",
      "metadata": {
        "colab": {
          "base_uri": "https://localhost:8080/",
          "height": 35
        },
        "id": "OnFTArO6i3gz",
        "outputId": "e266073f-ef58-4feb-cae0-7d3c4fd69d14"
      },
      "source": [
        "lst.pop()"
      ],
      "execution_count": 115,
      "outputs": [
        {
          "output_type": "execute_result",
          "data": {
            "application/vnd.google.colaboratory.intrinsic+json": {
              "type": "string"
            },
            "text/plain": [
              "'d'"
            ]
          },
          "metadata": {
            "tags": []
          },
          "execution_count": 115
        }
      ]
    },
    {
      "cell_type": "code",
      "metadata": {
        "colab": {
          "base_uri": "https://localhost:8080/"
        },
        "id": "3BpGHg7ti_QT",
        "outputId": "815d76b0-f071-4b64-acc2-2271d249c259"
      },
      "source": [
        "lst"
      ],
      "execution_count": 116,
      "outputs": [
        {
          "output_type": "execute_result",
          "data": {
            "text/plain": [
              "['a', 'b', 'c']"
            ]
          },
          "metadata": {
            "tags": []
          },
          "execution_count": 116
        }
      ]
    },
    {
      "cell_type": "code",
      "metadata": {
        "id": "yb-lkqC-jA5T"
      },
      "source": [
        "lst[0] = 'e'"
      ],
      "execution_count": 126,
      "outputs": []
    },
    {
      "cell_type": "code",
      "metadata": {
        "colab": {
          "base_uri": "https://localhost:8080/"
        },
        "id": "SOC_qaJmjHBj",
        "outputId": "898e66c8-006d-435e-e989-f190ff476d7d"
      },
      "source": [
        "lst"
      ],
      "execution_count": 120,
      "outputs": [
        {
          "output_type": "execute_result",
          "data": {
            "text/plain": [
              "['e', 'b', 'c']"
            ]
          },
          "metadata": {
            "tags": []
          },
          "execution_count": 120
        }
      ]
    },
    {
      "cell_type": "code",
      "metadata": {
        "id": "vaSIqnnmjMHD"
      },
      "source": [
        "lst[0] = 'a'"
      ],
      "execution_count": 127,
      "outputs": []
    },
    {
      "cell_type": "code",
      "metadata": {
        "colab": {
          "base_uri": "https://localhost:8080/"
        },
        "id": "fWAGZOTUjWX3",
        "outputId": "ad1b020f-7e05-4452-ae8b-4ddaddd335f1"
      },
      "source": [
        "lst"
      ],
      "execution_count": 128,
      "outputs": [
        {
          "output_type": "execute_result",
          "data": {
            "text/plain": [
              "['a', 'b', 'c']"
            ]
          },
          "metadata": {
            "tags": []
          },
          "execution_count": 128
        }
      ]
    },
    {
      "cell_type": "code",
      "metadata": {
        "colab": {
          "base_uri": "https://localhost:8080/"
        },
        "id": "Usj4ZjwljXzT",
        "outputId": "7fb57d0e-3eee-4d3e-8b8b-6f356207bfc4"
      },
      "source": [
        "lst.index('c')"
      ],
      "execution_count": 123,
      "outputs": [
        {
          "output_type": "execute_result",
          "data": {
            "text/plain": [
              "2"
            ]
          },
          "metadata": {
            "tags": []
          },
          "execution_count": 123
        }
      ]
    },
    {
      "cell_type": "code",
      "metadata": {
        "colab": {
          "base_uri": "https://localhost:8080/",
          "height": 35
        },
        "id": "nh1Tc9-VjovI",
        "outputId": "13aadf0d-dad0-4c69-d098-36aebc7e0992"
      },
      "source": [
        "lst[2]"
      ],
      "execution_count": 130,
      "outputs": [
        {
          "output_type": "execute_result",
          "data": {
            "application/vnd.google.colaboratory.intrinsic+json": {
              "type": "string"
            },
            "text/plain": [
              "'c'"
            ]
          },
          "metadata": {
            "tags": []
          },
          "execution_count": 130
        }
      ]
    },
    {
      "cell_type": "code",
      "metadata": {
        "id": "oPnRBIBQjbGD"
      },
      "source": [
        "lst.append('a')"
      ],
      "execution_count": 133,
      "outputs": []
    },
    {
      "cell_type": "code",
      "metadata": {
        "colab": {
          "base_uri": "https://localhost:8080/"
        },
        "id": "c2UAMhoHjnWT",
        "outputId": "25723753-4a72-43ed-81b8-d749f153e7c9"
      },
      "source": [
        "lst"
      ],
      "execution_count": 134,
      "outputs": [
        {
          "output_type": "execute_result",
          "data": {
            "text/plain": [
              "['a', 'b', 'c', 'a']"
            ]
          },
          "metadata": {
            "tags": []
          },
          "execution_count": 134
        }
      ]
    },
    {
      "cell_type": "code",
      "metadata": {
        "colab": {
          "base_uri": "https://localhost:8080/"
        },
        "id": "ucooWo1xjsii",
        "outputId": "13c42f23-7d1d-45cd-d787-b058fcbeb659"
      },
      "source": [
        "lst.count('a')"
      ],
      "execution_count": 135,
      "outputs": [
        {
          "output_type": "execute_result",
          "data": {
            "text/plain": [
              "2"
            ]
          },
          "metadata": {
            "tags": []
          },
          "execution_count": 135
        }
      ]
    },
    {
      "cell_type": "code",
      "metadata": {
        "colab": {
          "base_uri": "https://localhost:8080/",
          "height": 35
        },
        "id": "BF6zAlxfjzeS",
        "outputId": "fbec1eca-ecf8-4b6d-b504-e5e2ec0f9324"
      },
      "source": [
        "lst.pop()"
      ],
      "execution_count": 137,
      "outputs": [
        {
          "output_type": "execute_result",
          "data": {
            "application/vnd.google.colaboratory.intrinsic+json": {
              "type": "string"
            },
            "text/plain": [
              "'a'"
            ]
          },
          "metadata": {
            "tags": []
          },
          "execution_count": 137
        }
      ]
    },
    {
      "cell_type": "code",
      "metadata": {
        "colab": {
          "base_uri": "https://localhost:8080/"
        },
        "id": "7peVhDGDj0ZS",
        "outputId": "24f0a59d-e613-4b90-9f65-aa9b539ebf15"
      },
      "source": [
        "lst"
      ],
      "execution_count": 138,
      "outputs": [
        {
          "output_type": "execute_result",
          "data": {
            "text/plain": [
              "['a', 'b', 'c']"
            ]
          },
          "metadata": {
            "tags": []
          },
          "execution_count": 138
        }
      ]
    },
    {
      "cell_type": "code",
      "metadata": {
        "id": "wmsVxhxlj5hD"
      },
      "source": [
        "lst.sort()"
      ],
      "execution_count": 139,
      "outputs": []
    },
    {
      "cell_type": "code",
      "metadata": {
        "colab": {
          "base_uri": "https://localhost:8080/"
        },
        "id": "RDq7Mqj_j9sj",
        "outputId": "80a4a067-3f87-4c5b-c347-885c7a974a4b"
      },
      "source": [
        "lst"
      ],
      "execution_count": 140,
      "outputs": [
        {
          "output_type": "execute_result",
          "data": {
            "text/plain": [
              "['a', 'b', 'c']"
            ]
          },
          "metadata": {
            "tags": []
          },
          "execution_count": 140
        }
      ]
    },
    {
      "cell_type": "code",
      "metadata": {
        "id": "whUgf4m1j-Sz"
      },
      "source": [
        "lst.sort(reverse=True)"
      ],
      "execution_count": 141,
      "outputs": []
    },
    {
      "cell_type": "code",
      "metadata": {
        "colab": {
          "base_uri": "https://localhost:8080/"
        },
        "id": "orX-gzLRkX2T",
        "outputId": "1a1a2a82-ebc7-4dc3-fc95-27368696cd1c"
      },
      "source": [
        "lst"
      ],
      "execution_count": 142,
      "outputs": [
        {
          "output_type": "execute_result",
          "data": {
            "text/plain": [
              "['c', 'b', 'a']"
            ]
          },
          "metadata": {
            "tags": []
          },
          "execution_count": 142
        }
      ]
    },
    {
      "cell_type": "code",
      "metadata": {
        "id": "RoAcB9kJkYpz"
      },
      "source": [
        "lst.reverse()"
      ],
      "execution_count": 143,
      "outputs": []
    },
    {
      "cell_type": "code",
      "metadata": {
        "colab": {
          "base_uri": "https://localhost:8080/"
        },
        "id": "W-a3mp7ekdWD",
        "outputId": "6dfc7a41-0a6c-4b2b-d402-c3f7616088e3"
      },
      "source": [
        "lst"
      ],
      "execution_count": 144,
      "outputs": [
        {
          "output_type": "execute_result",
          "data": {
            "text/plain": [
              "['a', 'b', 'c']"
            ]
          },
          "metadata": {
            "tags": []
          },
          "execution_count": 144
        }
      ]
    },
    {
      "cell_type": "code",
      "metadata": {
        "id": "8WJtt--DkeRD"
      },
      "source": [
        ""
      ],
      "execution_count": null,
      "outputs": []
    }
  ]
}