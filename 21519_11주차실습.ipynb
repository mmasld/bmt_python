{
  "nbformat": 4,
  "nbformat_minor": 0,
  "metadata": {
    "colab": {
      "name": "21519_11주차실습",
      "provenance": [],
      "authorship_tag": "ABX9TyNg8qqnZDPLpLt7pJSr1lR6",
      "include_colab_link": true
    },
    "kernelspec": {
      "name": "python3",
      "display_name": "Python 3"
    },
    "language_info": {
      "name": "python"
    }
  },
  "cells": [
    {
      "cell_type": "markdown",
      "metadata": {
        "id": "view-in-github",
        "colab_type": "text"
      },
      "source": [
        "<a href=\"https://colab.research.google.com/github/mmasld/bmt_python/blob/main/21519_11%EC%A3%BC%EC%B0%A8%EC%8B%A4%EC%8A%B5.ipynb\" target=\"_parent\"><img src=\"https://colab.research.google.com/assets/colab-badge.svg\" alt=\"Open In Colab\"/></a>"
      ]
    },
    {
      "cell_type": "code",
      "metadata": {
        "id": "6RmaFzITKdrd"
      },
      "source": [
        "import pandas as pd\n",
        "import numpy as np\n",
        "import matplotlib.pyplot as plt"
      ],
      "execution_count": 11,
      "outputs": []
    },
    {
      "cell_type": "code",
      "metadata": {
        "colab": {
          "base_uri": "https://localhost:8080/"
        },
        "id": "PuFG6fc1LFPR",
        "outputId": "f08758b2-c020-4607-df48-c0ad73c9acdf"
      },
      "source": [
        "dates = pd.date_range('20210514',periods=6)\n",
        "dates"
      ],
      "execution_count": null,
      "outputs": [
        {
          "output_type": "execute_result",
          "data": {
            "text/plain": [
              "DatetimeIndex(['2021-05-14', '2021-05-15', '2021-05-16', '2021-05-17',\n",
              "               '2021-05-18', '2021-05-19'],\n",
              "              dtype='datetime64[ns]', freq='D')"
            ]
          },
          "metadata": {
            "tags": []
          },
          "execution_count": 3
        }
      ]
    },
    {
      "cell_type": "code",
      "metadata": {
        "id": "a62ktYCFLJzL"
      },
      "source": [
        "df = pd.DataFrame(np.random.randn(6,4), index=dates, columns=list('ABCD')) "
      ],
      "execution_count": null,
      "outputs": []
    },
    {
      "cell_type": "code",
      "metadata": {
        "colab": {
          "base_uri": "https://localhost:8080/",
          "height": 225
        },
        "id": "32ufX3HWLb8M",
        "outputId": "204a14f2-36ee-4308-dd8d-c438fa1a7128"
      },
      "source": [
        "df"
      ],
      "execution_count": null,
      "outputs": [
        {
          "output_type": "execute_result",
          "data": {
            "text/html": [
              "<div>\n",
              "<style scoped>\n",
              "    .dataframe tbody tr th:only-of-type {\n",
              "        vertical-align: middle;\n",
              "    }\n",
              "\n",
              "    .dataframe tbody tr th {\n",
              "        vertical-align: top;\n",
              "    }\n",
              "\n",
              "    .dataframe thead th {\n",
              "        text-align: right;\n",
              "    }\n",
              "</style>\n",
              "<table border=\"1\" class=\"dataframe\">\n",
              "  <thead>\n",
              "    <tr style=\"text-align: right;\">\n",
              "      <th></th>\n",
              "      <th>A</th>\n",
              "      <th>B</th>\n",
              "      <th>C</th>\n",
              "      <th>D</th>\n",
              "    </tr>\n",
              "  </thead>\n",
              "  <tbody>\n",
              "    <tr>\n",
              "      <th>2021-05-14</th>\n",
              "      <td>-1.290422</td>\n",
              "      <td>2.065422</td>\n",
              "      <td>-1.555964</td>\n",
              "      <td>-0.677846</td>\n",
              "    </tr>\n",
              "    <tr>\n",
              "      <th>2021-05-15</th>\n",
              "      <td>0.628101</td>\n",
              "      <td>0.461287</td>\n",
              "      <td>0.886251</td>\n",
              "      <td>-0.955230</td>\n",
              "    </tr>\n",
              "    <tr>\n",
              "      <th>2021-05-16</th>\n",
              "      <td>-0.829362</td>\n",
              "      <td>-1.100398</td>\n",
              "      <td>-0.076297</td>\n",
              "      <td>-0.885048</td>\n",
              "    </tr>\n",
              "    <tr>\n",
              "      <th>2021-05-17</th>\n",
              "      <td>-0.617251</td>\n",
              "      <td>-0.835951</td>\n",
              "      <td>-0.091531</td>\n",
              "      <td>-1.628247</td>\n",
              "    </tr>\n",
              "    <tr>\n",
              "      <th>2021-05-18</th>\n",
              "      <td>-0.768831</td>\n",
              "      <td>-1.487236</td>\n",
              "      <td>0.288536</td>\n",
              "      <td>-1.066980</td>\n",
              "    </tr>\n",
              "    <tr>\n",
              "      <th>2021-05-19</th>\n",
              "      <td>-0.603129</td>\n",
              "      <td>0.909080</td>\n",
              "      <td>-0.767847</td>\n",
              "      <td>-1.524740</td>\n",
              "    </tr>\n",
              "  </tbody>\n",
              "</table>\n",
              "</div>"
            ],
            "text/plain": [
              "                   A         B         C         D\n",
              "2021-05-14 -1.290422  2.065422 -1.555964 -0.677846\n",
              "2021-05-15  0.628101  0.461287  0.886251 -0.955230\n",
              "2021-05-16 -0.829362 -1.100398 -0.076297 -0.885048\n",
              "2021-05-17 -0.617251 -0.835951 -0.091531 -1.628247\n",
              "2021-05-18 -0.768831 -1.487236  0.288536 -1.066980\n",
              "2021-05-19 -0.603129  0.909080 -0.767847 -1.524740"
            ]
          },
          "metadata": {
            "tags": []
          },
          "execution_count": 5
        }
      ]
    },
    {
      "cell_type": "code",
      "metadata": {
        "colab": {
          "base_uri": "https://localhost:8080/"
        },
        "id": "1Jx5jeNPLt7c",
        "outputId": "4e201a97-da2e-43ca-e6ec-cdda5f0f4fc3"
      },
      "source": [
        "df.mean(0)"
      ],
      "execution_count": null,
      "outputs": [
        {
          "output_type": "execute_result",
          "data": {
            "text/plain": [
              "A   -0.580149\n",
              "B    0.002034\n",
              "C   -0.219475\n",
              "D   -1.123015\n",
              "dtype: float64"
            ]
          },
          "metadata": {
            "tags": []
          },
          "execution_count": 7
        }
      ]
    },
    {
      "cell_type": "code",
      "metadata": {
        "id": "cZ-lbH9gMDb8"
      },
      "source": [
        "df = pd.DataFrame(np.random.randn(6,4), index=dates, columns=list('ABCD'))"
      ],
      "execution_count": null,
      "outputs": []
    },
    {
      "cell_type": "code",
      "metadata": {
        "colab": {
          "base_uri": "https://localhost:8080/",
          "height": 225
        },
        "id": "ZhcClwSXNbxN",
        "outputId": "dfe4b7fd-7c0f-4d54-c51f-749dd501f321"
      },
      "source": [
        "df.apply(np.cumsum)"
      ],
      "execution_count": null,
      "outputs": [
        {
          "output_type": "execute_result",
          "data": {
            "text/html": [
              "<div>\n",
              "<style scoped>\n",
              "    .dataframe tbody tr th:only-of-type {\n",
              "        vertical-align: middle;\n",
              "    }\n",
              "\n",
              "    .dataframe tbody tr th {\n",
              "        vertical-align: top;\n",
              "    }\n",
              "\n",
              "    .dataframe thead th {\n",
              "        text-align: right;\n",
              "    }\n",
              "</style>\n",
              "<table border=\"1\" class=\"dataframe\">\n",
              "  <thead>\n",
              "    <tr style=\"text-align: right;\">\n",
              "      <th></th>\n",
              "      <th>A</th>\n",
              "      <th>B</th>\n",
              "      <th>C</th>\n",
              "      <th>D</th>\n",
              "    </tr>\n",
              "  </thead>\n",
              "  <tbody>\n",
              "    <tr>\n",
              "      <th>2021-05-14</th>\n",
              "      <td>-1.688416</td>\n",
              "      <td>0.441398</td>\n",
              "      <td>-1.320148</td>\n",
              "      <td>-0.778041</td>\n",
              "    </tr>\n",
              "    <tr>\n",
              "      <th>2021-05-15</th>\n",
              "      <td>-2.662052</td>\n",
              "      <td>1.809251</td>\n",
              "      <td>-2.410409</td>\n",
              "      <td>-0.530676</td>\n",
              "    </tr>\n",
              "    <tr>\n",
              "      <th>2021-05-16</th>\n",
              "      <td>-1.860082</td>\n",
              "      <td>0.937001</td>\n",
              "      <td>-2.635681</td>\n",
              "      <td>-1.666991</td>\n",
              "    </tr>\n",
              "    <tr>\n",
              "      <th>2021-05-17</th>\n",
              "      <td>-0.836763</td>\n",
              "      <td>0.984454</td>\n",
              "      <td>-1.914028</td>\n",
              "      <td>-1.914671</td>\n",
              "    </tr>\n",
              "    <tr>\n",
              "      <th>2021-05-18</th>\n",
              "      <td>0.798256</td>\n",
              "      <td>1.067112</td>\n",
              "      <td>-3.126064</td>\n",
              "      <td>-0.085178</td>\n",
              "    </tr>\n",
              "    <tr>\n",
              "      <th>2021-05-19</th>\n",
              "      <td>0.822376</td>\n",
              "      <td>-1.291027</td>\n",
              "      <td>-5.531030</td>\n",
              "      <td>1.230110</td>\n",
              "    </tr>\n",
              "  </tbody>\n",
              "</table>\n",
              "</div>"
            ],
            "text/plain": [
              "                   A         B         C         D\n",
              "2021-05-14 -1.688416  0.441398 -1.320148 -0.778041\n",
              "2021-05-15 -2.662052  1.809251 -2.410409 -0.530676\n",
              "2021-05-16 -1.860082  0.937001 -2.635681 -1.666991\n",
              "2021-05-17 -0.836763  0.984454 -1.914028 -1.914671\n",
              "2021-05-18  0.798256  1.067112 -3.126064 -0.085178\n",
              "2021-05-19  0.822376 -1.291027 -5.531030  1.230110"
            ]
          },
          "metadata": {
            "tags": []
          },
          "execution_count": 9
        }
      ]
    },
    {
      "cell_type": "code",
      "metadata": {
        "colab": {
          "base_uri": "https://localhost:8080/"
        },
        "id": "8qaNH2BlNjWd",
        "outputId": "c0b0b45c-e51d-4957-bfce-f718aad1970b"
      },
      "source": [
        "df.apply(lambda x: x.max() - x.min())"
      ],
      "execution_count": null,
      "outputs": [
        {
          "output_type": "execute_result",
          "data": {
            "text/plain": [
              "A    3.323435\n",
              "B    3.725992\n",
              "C    3.126619\n",
              "D    2.965807\n",
              "dtype: float64"
            ]
          },
          "metadata": {
            "tags": []
          },
          "execution_count": 11
        }
      ]
    },
    {
      "cell_type": "code",
      "metadata": {
        "id": "7jqAgTUZPoUN"
      },
      "source": [
        "df = pd.DataFrame(np.random.randn(10, 4))"
      ],
      "execution_count": 12,
      "outputs": []
    },
    {
      "cell_type": "code",
      "metadata": {
        "id": "FG9XSBrNP-dN"
      },
      "source": [
        "dates = pd.date_range('20210514', periods=6)"
      ],
      "execution_count": 13,
      "outputs": []
    },
    {
      "cell_type": "code",
      "metadata": {
        "id": "u20TkRFWQEma"
      },
      "source": [
        "df = pd.DataFrame(np.random.randn(10, 4))"
      ],
      "execution_count": 14,
      "outputs": []
    },
    {
      "cell_type": "code",
      "metadata": {
        "id": "EE7EywoJQM3q",
        "outputId": "0d690db6-b321-4e37-b0de-09bf83c91af2",
        "colab": {
          "base_uri": "https://localhost:8080/",
          "height": 343
        }
      },
      "source": [
        "df"
      ],
      "execution_count": 16,
      "outputs": [
        {
          "output_type": "execute_result",
          "data": {
            "text/html": [
              "<div>\n",
              "<style scoped>\n",
              "    .dataframe tbody tr th:only-of-type {\n",
              "        vertical-align: middle;\n",
              "    }\n",
              "\n",
              "    .dataframe tbody tr th {\n",
              "        vertical-align: top;\n",
              "    }\n",
              "\n",
              "    .dataframe thead th {\n",
              "        text-align: right;\n",
              "    }\n",
              "</style>\n",
              "<table border=\"1\" class=\"dataframe\">\n",
              "  <thead>\n",
              "    <tr style=\"text-align: right;\">\n",
              "      <th></th>\n",
              "      <th>0</th>\n",
              "      <th>1</th>\n",
              "      <th>2</th>\n",
              "      <th>3</th>\n",
              "    </tr>\n",
              "  </thead>\n",
              "  <tbody>\n",
              "    <tr>\n",
              "      <th>0</th>\n",
              "      <td>0.014270</td>\n",
              "      <td>0.390139</td>\n",
              "      <td>2.098102</td>\n",
              "      <td>-1.904536</td>\n",
              "    </tr>\n",
              "    <tr>\n",
              "      <th>1</th>\n",
              "      <td>-1.383222</td>\n",
              "      <td>1.239143</td>\n",
              "      <td>1.504730</td>\n",
              "      <td>-1.587042</td>\n",
              "    </tr>\n",
              "    <tr>\n",
              "      <th>2</th>\n",
              "      <td>1.384429</td>\n",
              "      <td>0.887934</td>\n",
              "      <td>1.919199</td>\n",
              "      <td>0.909833</td>\n",
              "    </tr>\n",
              "    <tr>\n",
              "      <th>3</th>\n",
              "      <td>-1.416883</td>\n",
              "      <td>0.408836</td>\n",
              "      <td>0.166188</td>\n",
              "      <td>0.543521</td>\n",
              "    </tr>\n",
              "    <tr>\n",
              "      <th>4</th>\n",
              "      <td>-1.735129</td>\n",
              "      <td>-1.040386</td>\n",
              "      <td>-0.842994</td>\n",
              "      <td>0.807558</td>\n",
              "    </tr>\n",
              "    <tr>\n",
              "      <th>5</th>\n",
              "      <td>0.911961</td>\n",
              "      <td>0.186060</td>\n",
              "      <td>1.479336</td>\n",
              "      <td>-0.895055</td>\n",
              "    </tr>\n",
              "    <tr>\n",
              "      <th>6</th>\n",
              "      <td>-0.442865</td>\n",
              "      <td>-0.501745</td>\n",
              "      <td>0.305606</td>\n",
              "      <td>-0.493552</td>\n",
              "    </tr>\n",
              "    <tr>\n",
              "      <th>7</th>\n",
              "      <td>-1.294225</td>\n",
              "      <td>-0.856191</td>\n",
              "      <td>-1.443463</td>\n",
              "      <td>-1.206738</td>\n",
              "    </tr>\n",
              "    <tr>\n",
              "      <th>8</th>\n",
              "      <td>-0.801185</td>\n",
              "      <td>-0.805819</td>\n",
              "      <td>1.552480</td>\n",
              "      <td>0.940118</td>\n",
              "    </tr>\n",
              "    <tr>\n",
              "      <th>9</th>\n",
              "      <td>2.453099</td>\n",
              "      <td>-2.300170</td>\n",
              "      <td>0.599994</td>\n",
              "      <td>0.970520</td>\n",
              "    </tr>\n",
              "  </tbody>\n",
              "</table>\n",
              "</div>"
            ],
            "text/plain": [
              "          0         1         2         3\n",
              "0  0.014270  0.390139  2.098102 -1.904536\n",
              "1 -1.383222  1.239143  1.504730 -1.587042\n",
              "2  1.384429  0.887934  1.919199  0.909833\n",
              "3 -1.416883  0.408836  0.166188  0.543521\n",
              "4 -1.735129 -1.040386 -0.842994  0.807558\n",
              "5  0.911961  0.186060  1.479336 -0.895055\n",
              "6 -0.442865 -0.501745  0.305606 -0.493552\n",
              "7 -1.294225 -0.856191 -1.443463 -1.206738\n",
              "8 -0.801185 -0.805819  1.552480  0.940118\n",
              "9  2.453099 -2.300170  0.599994  0.970520"
            ]
          },
          "metadata": {
            "tags": []
          },
          "execution_count": 16
        }
      ]
    },
    {
      "cell_type": "code",
      "metadata": {
        "id": "2udzrFq8QOxq",
        "outputId": "cd994a21-8482-4bfd-cf75-641137703c22",
        "colab": {
          "base_uri": "https://localhost:8080/",
          "height": 136
        }
      },
      "source": [
        "df[:3]"
      ],
      "execution_count": 17,
      "outputs": [
        {
          "output_type": "execute_result",
          "data": {
            "text/html": [
              "<div>\n",
              "<style scoped>\n",
              "    .dataframe tbody tr th:only-of-type {\n",
              "        vertical-align: middle;\n",
              "    }\n",
              "\n",
              "    .dataframe tbody tr th {\n",
              "        vertical-align: top;\n",
              "    }\n",
              "\n",
              "    .dataframe thead th {\n",
              "        text-align: right;\n",
              "    }\n",
              "</style>\n",
              "<table border=\"1\" class=\"dataframe\">\n",
              "  <thead>\n",
              "    <tr style=\"text-align: right;\">\n",
              "      <th></th>\n",
              "      <th>0</th>\n",
              "      <th>1</th>\n",
              "      <th>2</th>\n",
              "      <th>3</th>\n",
              "    </tr>\n",
              "  </thead>\n",
              "  <tbody>\n",
              "    <tr>\n",
              "      <th>0</th>\n",
              "      <td>0.014270</td>\n",
              "      <td>0.390139</td>\n",
              "      <td>2.098102</td>\n",
              "      <td>-1.904536</td>\n",
              "    </tr>\n",
              "    <tr>\n",
              "      <th>1</th>\n",
              "      <td>-1.383222</td>\n",
              "      <td>1.239143</td>\n",
              "      <td>1.504730</td>\n",
              "      <td>-1.587042</td>\n",
              "    </tr>\n",
              "    <tr>\n",
              "      <th>2</th>\n",
              "      <td>1.384429</td>\n",
              "      <td>0.887934</td>\n",
              "      <td>1.919199</td>\n",
              "      <td>0.909833</td>\n",
              "    </tr>\n",
              "  </tbody>\n",
              "</table>\n",
              "</div>"
            ],
            "text/plain": [
              "          0         1         2         3\n",
              "0  0.014270  0.390139  2.098102 -1.904536\n",
              "1 -1.383222  1.239143  1.504730 -1.587042\n",
              "2  1.384429  0.887934  1.919199  0.909833"
            ]
          },
          "metadata": {
            "tags": []
          },
          "execution_count": 17
        }
      ]
    },
    {
      "cell_type": "code",
      "metadata": {
        "id": "wpe6DvAzQSdK",
        "outputId": "35585861-4a41-4adb-b8e9-93c6bfd19d4c",
        "colab": {
          "base_uri": "https://localhost:8080/",
          "height": 166
        }
      },
      "source": [
        "df[3:7]"
      ],
      "execution_count": 19,
      "outputs": [
        {
          "output_type": "execute_result",
          "data": {
            "text/html": [
              "<div>\n",
              "<style scoped>\n",
              "    .dataframe tbody tr th:only-of-type {\n",
              "        vertical-align: middle;\n",
              "    }\n",
              "\n",
              "    .dataframe tbody tr th {\n",
              "        vertical-align: top;\n",
              "    }\n",
              "\n",
              "    .dataframe thead th {\n",
              "        text-align: right;\n",
              "    }\n",
              "</style>\n",
              "<table border=\"1\" class=\"dataframe\">\n",
              "  <thead>\n",
              "    <tr style=\"text-align: right;\">\n",
              "      <th></th>\n",
              "      <th>0</th>\n",
              "      <th>1</th>\n",
              "      <th>2</th>\n",
              "      <th>3</th>\n",
              "    </tr>\n",
              "  </thead>\n",
              "  <tbody>\n",
              "    <tr>\n",
              "      <th>3</th>\n",
              "      <td>-1.416883</td>\n",
              "      <td>0.408836</td>\n",
              "      <td>0.166188</td>\n",
              "      <td>0.543521</td>\n",
              "    </tr>\n",
              "    <tr>\n",
              "      <th>4</th>\n",
              "      <td>-1.735129</td>\n",
              "      <td>-1.040386</td>\n",
              "      <td>-0.842994</td>\n",
              "      <td>0.807558</td>\n",
              "    </tr>\n",
              "    <tr>\n",
              "      <th>5</th>\n",
              "      <td>0.911961</td>\n",
              "      <td>0.186060</td>\n",
              "      <td>1.479336</td>\n",
              "      <td>-0.895055</td>\n",
              "    </tr>\n",
              "    <tr>\n",
              "      <th>6</th>\n",
              "      <td>-0.442865</td>\n",
              "      <td>-0.501745</td>\n",
              "      <td>0.305606</td>\n",
              "      <td>-0.493552</td>\n",
              "    </tr>\n",
              "  </tbody>\n",
              "</table>\n",
              "</div>"
            ],
            "text/plain": [
              "          0         1         2         3\n",
              "3 -1.416883  0.408836  0.166188  0.543521\n",
              "4 -1.735129 -1.040386 -0.842994  0.807558\n",
              "5  0.911961  0.186060  1.479336 -0.895055\n",
              "6 -0.442865 -0.501745  0.305606 -0.493552"
            ]
          },
          "metadata": {
            "tags": []
          },
          "execution_count": 19
        }
      ]
    },
    {
      "cell_type": "code",
      "metadata": {
        "id": "PGh2i1SWQXV9",
        "outputId": "e16107a2-01b8-48d0-9401-23f2d4a7d1d2",
        "colab": {
          "base_uri": "https://localhost:8080/",
          "height": 136
        }
      },
      "source": [
        " df[7:]"
      ],
      "execution_count": 20,
      "outputs": [
        {
          "output_type": "execute_result",
          "data": {
            "text/html": [
              "<div>\n",
              "<style scoped>\n",
              "    .dataframe tbody tr th:only-of-type {\n",
              "        vertical-align: middle;\n",
              "    }\n",
              "\n",
              "    .dataframe tbody tr th {\n",
              "        vertical-align: top;\n",
              "    }\n",
              "\n",
              "    .dataframe thead th {\n",
              "        text-align: right;\n",
              "    }\n",
              "</style>\n",
              "<table border=\"1\" class=\"dataframe\">\n",
              "  <thead>\n",
              "    <tr style=\"text-align: right;\">\n",
              "      <th></th>\n",
              "      <th>0</th>\n",
              "      <th>1</th>\n",
              "      <th>2</th>\n",
              "      <th>3</th>\n",
              "    </tr>\n",
              "  </thead>\n",
              "  <tbody>\n",
              "    <tr>\n",
              "      <th>7</th>\n",
              "      <td>-1.294225</td>\n",
              "      <td>-0.856191</td>\n",
              "      <td>-1.443463</td>\n",
              "      <td>-1.206738</td>\n",
              "    </tr>\n",
              "    <tr>\n",
              "      <th>8</th>\n",
              "      <td>-0.801185</td>\n",
              "      <td>-0.805819</td>\n",
              "      <td>1.552480</td>\n",
              "      <td>0.940118</td>\n",
              "    </tr>\n",
              "    <tr>\n",
              "      <th>9</th>\n",
              "      <td>2.453099</td>\n",
              "      <td>-2.300170</td>\n",
              "      <td>0.599994</td>\n",
              "      <td>0.970520</td>\n",
              "    </tr>\n",
              "  </tbody>\n",
              "</table>\n",
              "</div>"
            ],
            "text/plain": [
              "          0         1         2         3\n",
              "7 -1.294225 -0.856191 -1.443463 -1.206738\n",
              "8 -0.801185 -0.805819  1.552480  0.940118\n",
              "9  2.453099 -2.300170  0.599994  0.970520"
            ]
          },
          "metadata": {
            "tags": []
          },
          "execution_count": 20
        }
      ]
    },
    {
      "cell_type": "code",
      "metadata": {
        "id": "e0mo1MdMQayu"
      },
      "source": [
        "pieces = [df[:3], df[3:7], df[7:]]"
      ],
      "execution_count": 21,
      "outputs": []
    },
    {
      "cell_type": "code",
      "metadata": {
        "id": "hCF1HHGMQi1s",
        "outputId": "d351b82e-9748-45c4-bb2b-a658be43480b",
        "colab": {
          "base_uri": "https://localhost:8080/"
        }
      },
      "source": [
        "pieces"
      ],
      "execution_count": 22,
      "outputs": [
        {
          "output_type": "execute_result",
          "data": {
            "text/plain": [
              "[          0         1         2         3\n",
              " 0  0.014270  0.390139  2.098102 -1.904536\n",
              " 1 -1.383222  1.239143  1.504730 -1.587042\n",
              " 2  1.384429  0.887934  1.919199  0.909833,\n",
              "           0         1         2         3\n",
              " 3 -1.416883  0.408836  0.166188  0.543521\n",
              " 4 -1.735129 -1.040386 -0.842994  0.807558\n",
              " 5  0.911961  0.186060  1.479336 -0.895055\n",
              " 6 -0.442865 -0.501745  0.305606 -0.493552,\n",
              "           0         1         2         3\n",
              " 7 -1.294225 -0.856191 -1.443463 -1.206738\n",
              " 8 -0.801185 -0.805819  1.552480  0.940118\n",
              " 9  2.453099 -2.300170  0.599994  0.970520]"
            ]
          },
          "metadata": {
            "tags": []
          },
          "execution_count": 22
        }
      ]
    },
    {
      "cell_type": "code",
      "metadata": {
        "id": "t_0nN-R7QkRc",
        "outputId": "a1873848-d662-4c8c-fdea-33b12fecb2ee",
        "colab": {
          "base_uri": "https://localhost:8080/"
        }
      },
      "source": [
        "print(pd.concat(pieces))"
      ],
      "execution_count": 23,
      "outputs": [
        {
          "output_type": "stream",
          "text": [
            "          0         1         2         3\n",
            "0  0.014270  0.390139  2.098102 -1.904536\n",
            "1 -1.383222  1.239143  1.504730 -1.587042\n",
            "2  1.384429  0.887934  1.919199  0.909833\n",
            "3 -1.416883  0.408836  0.166188  0.543521\n",
            "4 -1.735129 -1.040386 -0.842994  0.807558\n",
            "5  0.911961  0.186060  1.479336 -0.895055\n",
            "6 -0.442865 -0.501745  0.305606 -0.493552\n",
            "7 -1.294225 -0.856191 -1.443463 -1.206738\n",
            "8 -0.801185 -0.805819  1.552480  0.940118\n",
            "9  2.453099 -2.300170  0.599994  0.970520\n"
          ],
          "name": "stdout"
        }
      ]
    },
    {
      "cell_type": "code",
      "metadata": {
        "id": "PJS-q0GeQ0tc"
      },
      "source": [
        "left = pd.DataFrame({'key':['foo', 'foo'], 'lval': [1, 2]})\n",
        "right = pd.DataFrame({'key':['foo', 'foo'], 'rval': [4, 5]})"
      ],
      "execution_count": 24,
      "outputs": []
    },
    {
      "cell_type": "code",
      "metadata": {
        "id": "tkB4ASfcUKfN"
      },
      "source": [
        ""
      ],
      "execution_count": null,
      "outputs": []
    },
    {
      "cell_type": "markdown",
      "metadata": {
        "id": "YSnx-7uTXVUd"
      },
      "source": [
        ""
      ]
    }
  ]
}