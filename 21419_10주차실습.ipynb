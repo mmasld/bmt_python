{
  "nbformat": 4,
  "nbformat_minor": 0,
  "metadata": {
    "colab": {
      "name": "21419_10주차실습.ipynb",
      "provenance": [],
      "collapsed_sections": [],
      "authorship_tag": "ABX9TyNQmWSrK5WavCW2BJUIeToG",
      "include_colab_link": true
    },
    "kernelspec": {
      "name": "python3",
      "display_name": "Python 3"
    },
    "language_info": {
      "name": "python"
    }
  },
  "cells": [
    {
      "cell_type": "markdown",
      "metadata": {
        "id": "view-in-github",
        "colab_type": "text"
      },
      "source": [
        "<a href=\"https://colab.research.google.com/github/mmasld/bmt_python/blob/main/21419_10%EC%A3%BC%EC%B0%A8%EC%8B%A4%EC%8A%B5.ipynb\" target=\"_parent\"><img src=\"https://colab.research.google.com/assets/colab-badge.svg\" alt=\"Open In Colab\"/></a>"
      ]
    },
    {
      "cell_type": "code",
      "metadata": {
        "id": "EU_xqjGmf1Gn"
      },
      "source": [
        "import pandas as pd\n",
        "import numpy as np\n",
        "import matplotlib.pyplot as plt"
      ],
      "execution_count": 6,
      "outputs": []
    },
    {
      "cell_type": "code",
      "metadata": {
        "id": "uxXMcj5KhxVa"
      },
      "source": [
        "row = pd.date_range('20210507', periods=6)\n",
        "col = list('ABCD')\n",
        "df = pd.DataFrame(np.random.randn(6, 4), index=row, columns=col)"
      ],
      "execution_count": 11,
      "outputs": []
    },
    {
      "cell_type": "code",
      "metadata": {
        "colab": {
          "base_uri": "https://localhost:8080/",
          "height": 235
        },
        "id": "_O366pKSjTpQ",
        "outputId": "a35eecaa-f99b-4df5-c96b-3ab3af678d00"
      },
      "source": [
        "df"
      ],
      "execution_count": 13,
      "outputs": [
        {
          "output_type": "execute_result",
          "data": {
            "text/html": [
              "<div>\n",
              "<style scoped>\n",
              "    .dataframe tbody tr th:only-of-type {\n",
              "        vertical-align: middle;\n",
              "    }\n",
              "\n",
              "    .dataframe tbody tr th {\n",
              "        vertical-align: top;\n",
              "    }\n",
              "\n",
              "    .dataframe thead th {\n",
              "        text-align: right;\n",
              "    }\n",
              "</style>\n",
              "<table border=\"1\" class=\"dataframe\">\n",
              "  <thead>\n",
              "    <tr style=\"text-align: right;\">\n",
              "      <th></th>\n",
              "      <th>A</th>\n",
              "      <th>B</th>\n",
              "      <th>C</th>\n",
              "      <th>D</th>\n",
              "    </tr>\n",
              "  </thead>\n",
              "  <tbody>\n",
              "    <tr>\n",
              "      <th>2021-05-07</th>\n",
              "      <td>3.432290</td>\n",
              "      <td>0.466636</td>\n",
              "      <td>0.090561</td>\n",
              "      <td>-1.702978</td>\n",
              "    </tr>\n",
              "    <tr>\n",
              "      <th>2021-05-08</th>\n",
              "      <td>-1.801433</td>\n",
              "      <td>-1.018796</td>\n",
              "      <td>0.064345</td>\n",
              "      <td>-0.862749</td>\n",
              "    </tr>\n",
              "    <tr>\n",
              "      <th>2021-05-09</th>\n",
              "      <td>0.312180</td>\n",
              "      <td>-0.184626</td>\n",
              "      <td>-1.298651</td>\n",
              "      <td>1.215560</td>\n",
              "    </tr>\n",
              "    <tr>\n",
              "      <th>2021-05-10</th>\n",
              "      <td>-1.093073</td>\n",
              "      <td>0.442463</td>\n",
              "      <td>-1.079236</td>\n",
              "      <td>-0.718771</td>\n",
              "    </tr>\n",
              "    <tr>\n",
              "      <th>2021-05-11</th>\n",
              "      <td>0.297129</td>\n",
              "      <td>0.159458</td>\n",
              "      <td>-1.211679</td>\n",
              "      <td>-0.631788</td>\n",
              "    </tr>\n",
              "    <tr>\n",
              "      <th>2021-05-12</th>\n",
              "      <td>0.931220</td>\n",
              "      <td>0.116377</td>\n",
              "      <td>-0.177630</td>\n",
              "      <td>0.290274</td>\n",
              "    </tr>\n",
              "  </tbody>\n",
              "</table>\n",
              "</div>"
            ],
            "text/plain": [
              "                   A         B         C         D\n",
              "2021-05-07  3.432290  0.466636  0.090561 -1.702978\n",
              "2021-05-08 -1.801433 -1.018796  0.064345 -0.862749\n",
              "2021-05-09  0.312180 -0.184626 -1.298651  1.215560\n",
              "2021-05-10 -1.093073  0.442463 -1.079236 -0.718771\n",
              "2021-05-11  0.297129  0.159458 -1.211679 -0.631788\n",
              "2021-05-12  0.931220  0.116377 -0.177630  0.290274"
            ]
          },
          "metadata": {
            "tags": []
          },
          "execution_count": 13
        }
      ]
    },
    {
      "cell_type": "code",
      "metadata": {
        "id": "6dVoEDcVlNL5"
      },
      "source": [
        "s1 = pd.Series([1, 2, 3, 4, 5, 6], index=pd.date_range('20210507', periods=6))"
      ],
      "execution_count": 14,
      "outputs": []
    },
    {
      "cell_type": "code",
      "metadata": {
        "id": "_-iyaCjYmBg4"
      },
      "source": [
        "df['F'] = s1"
      ],
      "execution_count": 15,
      "outputs": []
    },
    {
      "cell_type": "code",
      "metadata": {
        "colab": {
          "base_uri": "https://localhost:8080/",
          "height": 235
        },
        "id": "nhd3c9ZFmJBo",
        "outputId": "7e00a4bf-b78d-4ad2-ba37-79520ab608af"
      },
      "source": [
        "df"
      ],
      "execution_count": 16,
      "outputs": [
        {
          "output_type": "execute_result",
          "data": {
            "text/html": [
              "<div>\n",
              "<style scoped>\n",
              "    .dataframe tbody tr th:only-of-type {\n",
              "        vertical-align: middle;\n",
              "    }\n",
              "\n",
              "    .dataframe tbody tr th {\n",
              "        vertical-align: top;\n",
              "    }\n",
              "\n",
              "    .dataframe thead th {\n",
              "        text-align: right;\n",
              "    }\n",
              "</style>\n",
              "<table border=\"1\" class=\"dataframe\">\n",
              "  <thead>\n",
              "    <tr style=\"text-align: right;\">\n",
              "      <th></th>\n",
              "      <th>A</th>\n",
              "      <th>B</th>\n",
              "      <th>C</th>\n",
              "      <th>D</th>\n",
              "      <th>F</th>\n",
              "    </tr>\n",
              "  </thead>\n",
              "  <tbody>\n",
              "    <tr>\n",
              "      <th>2021-05-07</th>\n",
              "      <td>3.432290</td>\n",
              "      <td>0.466636</td>\n",
              "      <td>0.090561</td>\n",
              "      <td>-1.702978</td>\n",
              "      <td>1</td>\n",
              "    </tr>\n",
              "    <tr>\n",
              "      <th>2021-05-08</th>\n",
              "      <td>-1.801433</td>\n",
              "      <td>-1.018796</td>\n",
              "      <td>0.064345</td>\n",
              "      <td>-0.862749</td>\n",
              "      <td>2</td>\n",
              "    </tr>\n",
              "    <tr>\n",
              "      <th>2021-05-09</th>\n",
              "      <td>0.312180</td>\n",
              "      <td>-0.184626</td>\n",
              "      <td>-1.298651</td>\n",
              "      <td>1.215560</td>\n",
              "      <td>3</td>\n",
              "    </tr>\n",
              "    <tr>\n",
              "      <th>2021-05-10</th>\n",
              "      <td>-1.093073</td>\n",
              "      <td>0.442463</td>\n",
              "      <td>-1.079236</td>\n",
              "      <td>-0.718771</td>\n",
              "      <td>4</td>\n",
              "    </tr>\n",
              "    <tr>\n",
              "      <th>2021-05-11</th>\n",
              "      <td>0.297129</td>\n",
              "      <td>0.159458</td>\n",
              "      <td>-1.211679</td>\n",
              "      <td>-0.631788</td>\n",
              "      <td>5</td>\n",
              "    </tr>\n",
              "    <tr>\n",
              "      <th>2021-05-12</th>\n",
              "      <td>0.931220</td>\n",
              "      <td>0.116377</td>\n",
              "      <td>-0.177630</td>\n",
              "      <td>0.290274</td>\n",
              "      <td>6</td>\n",
              "    </tr>\n",
              "  </tbody>\n",
              "</table>\n",
              "</div>"
            ],
            "text/plain": [
              "                   A         B         C         D  F\n",
              "2021-05-07  3.432290  0.466636  0.090561 -1.702978  1\n",
              "2021-05-08 -1.801433 -1.018796  0.064345 -0.862749  2\n",
              "2021-05-09  0.312180 -0.184626 -1.298651  1.215560  3\n",
              "2021-05-10 -1.093073  0.442463 -1.079236 -0.718771  4\n",
              "2021-05-11  0.297129  0.159458 -1.211679 -0.631788  5\n",
              "2021-05-12  0.931220  0.116377 -0.177630  0.290274  6"
            ]
          },
          "metadata": {
            "tags": []
          },
          "execution_count": 16
        }
      ]
    },
    {
      "cell_type": "code",
      "metadata": {
        "colab": {
          "base_uri": "https://localhost:8080/",
          "height": 235
        },
        "id": "Q_mDzJEbmMUY",
        "outputId": "4dd84077-76b2-4ecf-cd2f-831f3753bf54"
      },
      "source": [
        "df>0"
      ],
      "execution_count": 17,
      "outputs": [
        {
          "output_type": "execute_result",
          "data": {
            "text/html": [
              "<div>\n",
              "<style scoped>\n",
              "    .dataframe tbody tr th:only-of-type {\n",
              "        vertical-align: middle;\n",
              "    }\n",
              "\n",
              "    .dataframe tbody tr th {\n",
              "        vertical-align: top;\n",
              "    }\n",
              "\n",
              "    .dataframe thead th {\n",
              "        text-align: right;\n",
              "    }\n",
              "</style>\n",
              "<table border=\"1\" class=\"dataframe\">\n",
              "  <thead>\n",
              "    <tr style=\"text-align: right;\">\n",
              "      <th></th>\n",
              "      <th>A</th>\n",
              "      <th>B</th>\n",
              "      <th>C</th>\n",
              "      <th>D</th>\n",
              "      <th>F</th>\n",
              "    </tr>\n",
              "  </thead>\n",
              "  <tbody>\n",
              "    <tr>\n",
              "      <th>2021-05-07</th>\n",
              "      <td>True</td>\n",
              "      <td>True</td>\n",
              "      <td>True</td>\n",
              "      <td>False</td>\n",
              "      <td>True</td>\n",
              "    </tr>\n",
              "    <tr>\n",
              "      <th>2021-05-08</th>\n",
              "      <td>False</td>\n",
              "      <td>False</td>\n",
              "      <td>True</td>\n",
              "      <td>False</td>\n",
              "      <td>True</td>\n",
              "    </tr>\n",
              "    <tr>\n",
              "      <th>2021-05-09</th>\n",
              "      <td>True</td>\n",
              "      <td>False</td>\n",
              "      <td>False</td>\n",
              "      <td>True</td>\n",
              "      <td>True</td>\n",
              "    </tr>\n",
              "    <tr>\n",
              "      <th>2021-05-10</th>\n",
              "      <td>False</td>\n",
              "      <td>True</td>\n",
              "      <td>False</td>\n",
              "      <td>False</td>\n",
              "      <td>True</td>\n",
              "    </tr>\n",
              "    <tr>\n",
              "      <th>2021-05-11</th>\n",
              "      <td>True</td>\n",
              "      <td>True</td>\n",
              "      <td>False</td>\n",
              "      <td>False</td>\n",
              "      <td>True</td>\n",
              "    </tr>\n",
              "    <tr>\n",
              "      <th>2021-05-12</th>\n",
              "      <td>True</td>\n",
              "      <td>True</td>\n",
              "      <td>False</td>\n",
              "      <td>True</td>\n",
              "      <td>True</td>\n",
              "    </tr>\n",
              "  </tbody>\n",
              "</table>\n",
              "</div>"
            ],
            "text/plain": [
              "                A      B      C      D     F\n",
              "2021-05-07   True   True   True  False  True\n",
              "2021-05-08  False  False   True  False  True\n",
              "2021-05-09   True  False  False   True  True\n",
              "2021-05-10  False   True  False  False  True\n",
              "2021-05-11   True   True  False  False  True\n",
              "2021-05-12   True   True  False   True  True"
            ]
          },
          "metadata": {
            "tags": []
          },
          "execution_count": 17
        }
      ]
    },
    {
      "cell_type": "code",
      "metadata": {
        "colab": {
          "base_uri": "https://localhost:8080/",
          "height": 235
        },
        "id": "jDyjaIHZmc3Y",
        "outputId": "a3200324-db69-40e4-c07b-1323761c73d9"
      },
      "source": [
        "df[df>0]"
      ],
      "execution_count": 18,
      "outputs": [
        {
          "output_type": "execute_result",
          "data": {
            "text/html": [
              "<div>\n",
              "<style scoped>\n",
              "    .dataframe tbody tr th:only-of-type {\n",
              "        vertical-align: middle;\n",
              "    }\n",
              "\n",
              "    .dataframe tbody tr th {\n",
              "        vertical-align: top;\n",
              "    }\n",
              "\n",
              "    .dataframe thead th {\n",
              "        text-align: right;\n",
              "    }\n",
              "</style>\n",
              "<table border=\"1\" class=\"dataframe\">\n",
              "  <thead>\n",
              "    <tr style=\"text-align: right;\">\n",
              "      <th></th>\n",
              "      <th>A</th>\n",
              "      <th>B</th>\n",
              "      <th>C</th>\n",
              "      <th>D</th>\n",
              "      <th>F</th>\n",
              "    </tr>\n",
              "  </thead>\n",
              "  <tbody>\n",
              "    <tr>\n",
              "      <th>2021-05-07</th>\n",
              "      <td>3.432290</td>\n",
              "      <td>0.466636</td>\n",
              "      <td>0.090561</td>\n",
              "      <td>NaN</td>\n",
              "      <td>1</td>\n",
              "    </tr>\n",
              "    <tr>\n",
              "      <th>2021-05-08</th>\n",
              "      <td>NaN</td>\n",
              "      <td>NaN</td>\n",
              "      <td>0.064345</td>\n",
              "      <td>NaN</td>\n",
              "      <td>2</td>\n",
              "    </tr>\n",
              "    <tr>\n",
              "      <th>2021-05-09</th>\n",
              "      <td>0.312180</td>\n",
              "      <td>NaN</td>\n",
              "      <td>NaN</td>\n",
              "      <td>1.215560</td>\n",
              "      <td>3</td>\n",
              "    </tr>\n",
              "    <tr>\n",
              "      <th>2021-05-10</th>\n",
              "      <td>NaN</td>\n",
              "      <td>0.442463</td>\n",
              "      <td>NaN</td>\n",
              "      <td>NaN</td>\n",
              "      <td>4</td>\n",
              "    </tr>\n",
              "    <tr>\n",
              "      <th>2021-05-11</th>\n",
              "      <td>0.297129</td>\n",
              "      <td>0.159458</td>\n",
              "      <td>NaN</td>\n",
              "      <td>NaN</td>\n",
              "      <td>5</td>\n",
              "    </tr>\n",
              "    <tr>\n",
              "      <th>2021-05-12</th>\n",
              "      <td>0.931220</td>\n",
              "      <td>0.116377</td>\n",
              "      <td>NaN</td>\n",
              "      <td>0.290274</td>\n",
              "      <td>6</td>\n",
              "    </tr>\n",
              "  </tbody>\n",
              "</table>\n",
              "</div>"
            ],
            "text/plain": [
              "                   A         B         C         D  F\n",
              "2021-05-07  3.432290  0.466636  0.090561       NaN  1\n",
              "2021-05-08       NaN       NaN  0.064345       NaN  2\n",
              "2021-05-09  0.312180       NaN       NaN  1.215560  3\n",
              "2021-05-10       NaN  0.442463       NaN       NaN  4\n",
              "2021-05-11  0.297129  0.159458       NaN       NaN  5\n",
              "2021-05-12  0.931220  0.116377       NaN  0.290274  6"
            ]
          },
          "metadata": {
            "tags": []
          },
          "execution_count": 18
        }
      ]
    },
    {
      "cell_type": "code",
      "metadata": {
        "id": "6a1A2oJlmvhX"
      },
      "source": [
        "df2=df.copy()"
      ],
      "execution_count": 19,
      "outputs": []
    },
    {
      "cell_type": "code",
      "metadata": {
        "colab": {
          "base_uri": "https://localhost:8080/",
          "height": 235
        },
        "id": "ovVP6bH2mxT3",
        "outputId": "0cd095cb-e271-4754-bac4-787ce05a6289"
      },
      "source": [
        "df2[df2>0]"
      ],
      "execution_count": 42,
      "outputs": [
        {
          "output_type": "execute_result",
          "data": {
            "text/html": [
              "<div>\n",
              "<style scoped>\n",
              "    .dataframe tbody tr th:only-of-type {\n",
              "        vertical-align: middle;\n",
              "    }\n",
              "\n",
              "    .dataframe tbody tr th {\n",
              "        vertical-align: top;\n",
              "    }\n",
              "\n",
              "    .dataframe thead th {\n",
              "        text-align: right;\n",
              "    }\n",
              "</style>\n",
              "<table border=\"1\" class=\"dataframe\">\n",
              "  <thead>\n",
              "    <tr style=\"text-align: right;\">\n",
              "      <th></th>\n",
              "      <th>A</th>\n",
              "      <th>B</th>\n",
              "      <th>C</th>\n",
              "      <th>D</th>\n",
              "      <th>F</th>\n",
              "    </tr>\n",
              "  </thead>\n",
              "  <tbody>\n",
              "    <tr>\n",
              "      <th>2021-05-07</th>\n",
              "      <td>3.432290</td>\n",
              "      <td>0.466636</td>\n",
              "      <td>0.090561</td>\n",
              "      <td>NaN</td>\n",
              "      <td>1</td>\n",
              "    </tr>\n",
              "    <tr>\n",
              "      <th>2021-05-08</th>\n",
              "      <td>NaN</td>\n",
              "      <td>NaN</td>\n",
              "      <td>0.064345</td>\n",
              "      <td>NaN</td>\n",
              "      <td>2</td>\n",
              "    </tr>\n",
              "    <tr>\n",
              "      <th>2021-05-09</th>\n",
              "      <td>0.312180</td>\n",
              "      <td>NaN</td>\n",
              "      <td>NaN</td>\n",
              "      <td>1.215560</td>\n",
              "      <td>3</td>\n",
              "    </tr>\n",
              "    <tr>\n",
              "      <th>2021-05-10</th>\n",
              "      <td>NaN</td>\n",
              "      <td>0.442463</td>\n",
              "      <td>NaN</td>\n",
              "      <td>NaN</td>\n",
              "      <td>4</td>\n",
              "    </tr>\n",
              "    <tr>\n",
              "      <th>2021-05-11</th>\n",
              "      <td>0.297129</td>\n",
              "      <td>0.159458</td>\n",
              "      <td>NaN</td>\n",
              "      <td>NaN</td>\n",
              "      <td>5</td>\n",
              "    </tr>\n",
              "    <tr>\n",
              "      <th>2021-05-12</th>\n",
              "      <td>0.931220</td>\n",
              "      <td>0.116377</td>\n",
              "      <td>NaN</td>\n",
              "      <td>0.290274</td>\n",
              "      <td>6</td>\n",
              "    </tr>\n",
              "  </tbody>\n",
              "</table>\n",
              "</div>"
            ],
            "text/plain": [
              "                   A         B         C         D  F\n",
              "2021-05-07  3.432290  0.466636  0.090561       NaN  1\n",
              "2021-05-08       NaN       NaN  0.064345       NaN  2\n",
              "2021-05-09  0.312180       NaN       NaN  1.215560  3\n",
              "2021-05-10       NaN  0.442463       NaN       NaN  4\n",
              "2021-05-11  0.297129  0.159458       NaN       NaN  5\n",
              "2021-05-12  0.931220  0.116377       NaN  0.290274  6"
            ]
          },
          "metadata": {
            "tags": []
          },
          "execution_count": 42
        }
      ]
    },
    {
      "cell_type": "code",
      "metadata": {
        "id": "uT5q-_MWm8Mo"
      },
      "source": [
        "df2[df2>0] = -df"
      ],
      "execution_count": 43,
      "outputs": []
    },
    {
      "cell_type": "code",
      "metadata": {
        "colab": {
          "base_uri": "https://localhost:8080/",
          "height": 235
        },
        "id": "Gk_3WX6inAno",
        "outputId": "127bf8d6-35a6-474a-b32f-2ce8f30e60a6"
      },
      "source": [
        "df2"
      ],
      "execution_count": 44,
      "outputs": [
        {
          "output_type": "execute_result",
          "data": {
            "text/html": [
              "<div>\n",
              "<style scoped>\n",
              "    .dataframe tbody tr th:only-of-type {\n",
              "        vertical-align: middle;\n",
              "    }\n",
              "\n",
              "    .dataframe tbody tr th {\n",
              "        vertical-align: top;\n",
              "    }\n",
              "\n",
              "    .dataframe thead th {\n",
              "        text-align: right;\n",
              "    }\n",
              "</style>\n",
              "<table border=\"1\" class=\"dataframe\">\n",
              "  <thead>\n",
              "    <tr style=\"text-align: right;\">\n",
              "      <th></th>\n",
              "      <th>A</th>\n",
              "      <th>B</th>\n",
              "      <th>C</th>\n",
              "      <th>D</th>\n",
              "      <th>F</th>\n",
              "    </tr>\n",
              "  </thead>\n",
              "  <tbody>\n",
              "    <tr>\n",
              "      <th>2021-05-07</th>\n",
              "      <td>3.432290</td>\n",
              "      <td>0.466636</td>\n",
              "      <td>0.090561</td>\n",
              "      <td>-1.702978</td>\n",
              "      <td>1</td>\n",
              "    </tr>\n",
              "    <tr>\n",
              "      <th>2021-05-08</th>\n",
              "      <td>-1.801433</td>\n",
              "      <td>-1.018796</td>\n",
              "      <td>0.064345</td>\n",
              "      <td>-0.862749</td>\n",
              "      <td>2</td>\n",
              "    </tr>\n",
              "    <tr>\n",
              "      <th>2021-05-09</th>\n",
              "      <td>0.312180</td>\n",
              "      <td>-0.184626</td>\n",
              "      <td>-1.298651</td>\n",
              "      <td>1.215560</td>\n",
              "      <td>3</td>\n",
              "    </tr>\n",
              "    <tr>\n",
              "      <th>2021-05-10</th>\n",
              "      <td>-1.093073</td>\n",
              "      <td>0.442463</td>\n",
              "      <td>-1.079236</td>\n",
              "      <td>-0.718771</td>\n",
              "      <td>4</td>\n",
              "    </tr>\n",
              "    <tr>\n",
              "      <th>2021-05-11</th>\n",
              "      <td>0.297129</td>\n",
              "      <td>0.159458</td>\n",
              "      <td>-1.211679</td>\n",
              "      <td>-0.631788</td>\n",
              "      <td>5</td>\n",
              "    </tr>\n",
              "    <tr>\n",
              "      <th>2021-05-12</th>\n",
              "      <td>0.931220</td>\n",
              "      <td>0.116377</td>\n",
              "      <td>-0.177630</td>\n",
              "      <td>0.290274</td>\n",
              "      <td>6</td>\n",
              "    </tr>\n",
              "  </tbody>\n",
              "</table>\n",
              "</div>"
            ],
            "text/plain": [
              "                   A         B         C         D  F\n",
              "2021-05-07  3.432290  0.466636  0.090561 -1.702978  1\n",
              "2021-05-08 -1.801433 -1.018796  0.064345 -0.862749  2\n",
              "2021-05-09  0.312180 -0.184626 -1.298651  1.215560  3\n",
              "2021-05-10 -1.093073  0.442463 -1.079236 -0.718771  4\n",
              "2021-05-11  0.297129  0.159458 -1.211679 -0.631788  5\n",
              "2021-05-12  0.931220  0.116377 -0.177630  0.290274  6"
            ]
          },
          "metadata": {
            "tags": []
          },
          "execution_count": 44
        }
      ]
    },
    {
      "cell_type": "code",
      "metadata": {
        "colab": {
          "base_uri": "https://localhost:8080/"
        },
        "id": "WE-q4momno5X",
        "outputId": "391554ed-2357-405d-9a34-1bfa2f3c0ff0"
      },
      "source": [
        "df.mean(0)"
      ],
      "execution_count": 45,
      "outputs": [
        {
          "output_type": "execute_result",
          "data": {
            "text/plain": [
              "A   -1.311221\n",
              "B   -0.398059\n",
              "C   -0.653684\n",
              "D   -0.903687\n",
              "F   -3.500000\n",
              "dtype: float64"
            ]
          },
          "metadata": {
            "tags": []
          },
          "execution_count": 45
        }
      ]
    },
    {
      "cell_type": "code",
      "metadata": {
        "colab": {
          "base_uri": "https://localhost:8080/"
        },
        "id": "9D3T682pnvfG",
        "outputId": "088247ab-4d46-4f9f-f705-29a36a3015be"
      },
      "source": [
        "df.mean(1)"
      ],
      "execution_count": 46,
      "outputs": [
        {
          "output_type": "execute_result",
          "data": {
            "text/plain": [
              "2021-05-07   -1.338493\n",
              "2021-05-08   -1.149465\n",
              "2021-05-09   -1.202203\n",
              "2021-05-10   -1.466709\n",
              "2021-05-11   -1.460011\n",
              "2021-05-12   -1.503100\n",
              "Freq: D, dtype: float64"
            ]
          },
          "metadata": {
            "tags": []
          },
          "execution_count": 46
        }
      ]
    },
    {
      "cell_type": "code",
      "metadata": {
        "colab": {
          "base_uri": "https://localhost:8080/"
        },
        "id": "XdawwyKUoNSn",
        "outputId": "721b32c3-1e61-4e5a-85a8-b96f8f561903"
      },
      "source": [
        "print(df.apply(np.cumsum));print() # 데이터에 함수를 적용\n",
        "# np.cumsum : 배열에서 주어진 축에 따라 누적되는 원소들의 누적 합을 계산하는 함수\n",
        "\n",
        "print(df.apply(lambda x: x.max() - x.min())) # 행에 대해 함수 적용"
      ],
      "execution_count": 47,
      "outputs": [
        {
          "output_type": "stream",
          "text": [
            "                   A         B         C         D   F\n",
            "2021-05-07 -3.432290 -0.466636 -0.090561 -1.702978  -1\n",
            "2021-05-08 -5.233723 -1.485432 -0.154906 -2.565726  -3\n",
            "2021-05-09 -5.545904 -1.670057 -1.453557 -3.781287  -6\n",
            "2021-05-10 -6.638977 -2.112521 -2.532793 -4.500058 -10\n",
            "2021-05-11 -6.936106 -2.271979 -3.744472 -5.131847 -15\n",
            "2021-05-12 -7.867327 -2.388356 -3.922102 -5.422120 -21\n",
            "\n",
            "A    3.135161\n",
            "B    0.902419\n",
            "C    1.234305\n",
            "D    1.412704\n",
            "F    5.000000\n",
            "dtype: float64\n"
          ],
          "name": "stdout"
        }
      ]
    },
    {
      "cell_type": "code",
      "metadata": {
        "colab": {
          "base_uri": "https://localhost:8080/",
          "height": 235
        },
        "id": "EznsrG5lokNW",
        "outputId": "4f82aed1-05f4-41b9-d0cf-e61cb204c4ae"
      },
      "source": [
        "df.apply(np.cumsum)"
      ],
      "execution_count": 54,
      "outputs": [
        {
          "output_type": "execute_result",
          "data": {
            "text/html": [
              "<div>\n",
              "<style scoped>\n",
              "    .dataframe tbody tr th:only-of-type {\n",
              "        vertical-align: middle;\n",
              "    }\n",
              "\n",
              "    .dataframe tbody tr th {\n",
              "        vertical-align: top;\n",
              "    }\n",
              "\n",
              "    .dataframe thead th {\n",
              "        text-align: right;\n",
              "    }\n",
              "</style>\n",
              "<table border=\"1\" class=\"dataframe\">\n",
              "  <thead>\n",
              "    <tr style=\"text-align: right;\">\n",
              "      <th></th>\n",
              "      <th>A</th>\n",
              "      <th>B</th>\n",
              "      <th>C</th>\n",
              "      <th>D</th>\n",
              "      <th>F</th>\n",
              "    </tr>\n",
              "  </thead>\n",
              "  <tbody>\n",
              "    <tr>\n",
              "      <th>2021-05-07</th>\n",
              "      <td>-3.432290</td>\n",
              "      <td>-0.466636</td>\n",
              "      <td>-0.090561</td>\n",
              "      <td>-1.702978</td>\n",
              "      <td>-1</td>\n",
              "    </tr>\n",
              "    <tr>\n",
              "      <th>2021-05-08</th>\n",
              "      <td>-5.233723</td>\n",
              "      <td>-1.485432</td>\n",
              "      <td>-0.154906</td>\n",
              "      <td>-2.565726</td>\n",
              "      <td>-3</td>\n",
              "    </tr>\n",
              "    <tr>\n",
              "      <th>2021-05-09</th>\n",
              "      <td>-5.545904</td>\n",
              "      <td>-1.670057</td>\n",
              "      <td>-1.453557</td>\n",
              "      <td>-3.781287</td>\n",
              "      <td>-6</td>\n",
              "    </tr>\n",
              "    <tr>\n",
              "      <th>2021-05-10</th>\n",
              "      <td>-6.638977</td>\n",
              "      <td>-2.112521</td>\n",
              "      <td>-2.532793</td>\n",
              "      <td>-4.500058</td>\n",
              "      <td>-10</td>\n",
              "    </tr>\n",
              "    <tr>\n",
              "      <th>2021-05-11</th>\n",
              "      <td>-6.936106</td>\n",
              "      <td>-2.271979</td>\n",
              "      <td>-3.744472</td>\n",
              "      <td>-5.131847</td>\n",
              "      <td>-15</td>\n",
              "    </tr>\n",
              "    <tr>\n",
              "      <th>2021-05-12</th>\n",
              "      <td>-7.867327</td>\n",
              "      <td>-2.388356</td>\n",
              "      <td>-3.922102</td>\n",
              "      <td>-5.422120</td>\n",
              "      <td>-21</td>\n",
              "    </tr>\n",
              "  </tbody>\n",
              "</table>\n",
              "</div>"
            ],
            "text/plain": [
              "                   A         B         C         D   F\n",
              "2021-05-07 -3.432290 -0.466636 -0.090561 -1.702978  -1\n",
              "2021-05-08 -5.233723 -1.485432 -0.154906 -2.565726  -3\n",
              "2021-05-09 -5.545904 -1.670057 -1.453557 -3.781287  -6\n",
              "2021-05-10 -6.638977 -2.112521 -2.532793 -4.500058 -10\n",
              "2021-05-11 -6.936106 -2.271979 -3.744472 -5.131847 -15\n",
              "2021-05-12 -7.867327 -2.388356 -3.922102 -5.422120 -21"
            ]
          },
          "metadata": {
            "tags": []
          },
          "execution_count": 54
        }
      ]
    },
    {
      "cell_type": "code",
      "metadata": {
        "colab": {
          "base_uri": "https://localhost:8080/",
          "height": 235
        },
        "id": "h9FKrF8spE0I",
        "outputId": "6c07142a-8282-4edf-bdba-0c9e05ed43c3"
      },
      "source": [
        "df"
      ],
      "execution_count": 49,
      "outputs": [
        {
          "output_type": "execute_result",
          "data": {
            "text/html": [
              "<div>\n",
              "<style scoped>\n",
              "    .dataframe tbody tr th:only-of-type {\n",
              "        vertical-align: middle;\n",
              "    }\n",
              "\n",
              "    .dataframe tbody tr th {\n",
              "        vertical-align: top;\n",
              "    }\n",
              "\n",
              "    .dataframe thead th {\n",
              "        text-align: right;\n",
              "    }\n",
              "</style>\n",
              "<table border=\"1\" class=\"dataframe\">\n",
              "  <thead>\n",
              "    <tr style=\"text-align: right;\">\n",
              "      <th></th>\n",
              "      <th>A</th>\n",
              "      <th>B</th>\n",
              "      <th>C</th>\n",
              "      <th>D</th>\n",
              "      <th>F</th>\n",
              "    </tr>\n",
              "  </thead>\n",
              "  <tbody>\n",
              "    <tr>\n",
              "      <th>2021-05-07</th>\n",
              "      <td>-3.432290</td>\n",
              "      <td>-0.466636</td>\n",
              "      <td>-0.090561</td>\n",
              "      <td>-1.702978</td>\n",
              "      <td>-1</td>\n",
              "    </tr>\n",
              "    <tr>\n",
              "      <th>2021-05-08</th>\n",
              "      <td>-1.801433</td>\n",
              "      <td>-1.018796</td>\n",
              "      <td>-0.064345</td>\n",
              "      <td>-0.862749</td>\n",
              "      <td>-2</td>\n",
              "    </tr>\n",
              "    <tr>\n",
              "      <th>2021-05-09</th>\n",
              "      <td>-0.312180</td>\n",
              "      <td>-0.184626</td>\n",
              "      <td>-1.298651</td>\n",
              "      <td>-1.215560</td>\n",
              "      <td>-3</td>\n",
              "    </tr>\n",
              "    <tr>\n",
              "      <th>2021-05-10</th>\n",
              "      <td>-1.093073</td>\n",
              "      <td>-0.442463</td>\n",
              "      <td>-1.079236</td>\n",
              "      <td>-0.718771</td>\n",
              "      <td>-4</td>\n",
              "    </tr>\n",
              "    <tr>\n",
              "      <th>2021-05-11</th>\n",
              "      <td>-0.297129</td>\n",
              "      <td>-0.159458</td>\n",
              "      <td>-1.211679</td>\n",
              "      <td>-0.631788</td>\n",
              "      <td>-5</td>\n",
              "    </tr>\n",
              "    <tr>\n",
              "      <th>2021-05-12</th>\n",
              "      <td>-0.931220</td>\n",
              "      <td>-0.116377</td>\n",
              "      <td>-0.177630</td>\n",
              "      <td>-0.290274</td>\n",
              "      <td>-6</td>\n",
              "    </tr>\n",
              "  </tbody>\n",
              "</table>\n",
              "</div>"
            ],
            "text/plain": [
              "                   A         B         C         D  F\n",
              "2021-05-07 -3.432290 -0.466636 -0.090561 -1.702978 -1\n",
              "2021-05-08 -1.801433 -1.018796 -0.064345 -0.862749 -2\n",
              "2021-05-09 -0.312180 -0.184626 -1.298651 -1.215560 -3\n",
              "2021-05-10 -1.093073 -0.442463 -1.079236 -0.718771 -4\n",
              "2021-05-11 -0.297129 -0.159458 -1.211679 -0.631788 -5\n",
              "2021-05-12 -0.931220 -0.116377 -0.177630 -0.290274 -6"
            ]
          },
          "metadata": {
            "tags": []
          },
          "execution_count": 49
        }
      ]
    },
    {
      "cell_type": "code",
      "metadata": {
        "colab": {
          "base_uri": "https://localhost:8080/",
          "height": 235
        },
        "id": "Zgdo_CATpVGW",
        "outputId": "adef3686-847c-4c84-a57e-994d6a61c839"
      },
      "source": [
        "df.apply(np.cumsum, axis=1)"
      ],
      "execution_count": 53,
      "outputs": [
        {
          "output_type": "execute_result",
          "data": {
            "text/html": [
              "<div>\n",
              "<style scoped>\n",
              "    .dataframe tbody tr th:only-of-type {\n",
              "        vertical-align: middle;\n",
              "    }\n",
              "\n",
              "    .dataframe tbody tr th {\n",
              "        vertical-align: top;\n",
              "    }\n",
              "\n",
              "    .dataframe thead th {\n",
              "        text-align: right;\n",
              "    }\n",
              "</style>\n",
              "<table border=\"1\" class=\"dataframe\">\n",
              "  <thead>\n",
              "    <tr style=\"text-align: right;\">\n",
              "      <th></th>\n",
              "      <th>A</th>\n",
              "      <th>B</th>\n",
              "      <th>C</th>\n",
              "      <th>D</th>\n",
              "      <th>F</th>\n",
              "    </tr>\n",
              "  </thead>\n",
              "  <tbody>\n",
              "    <tr>\n",
              "      <th>2021-05-07</th>\n",
              "      <td>-3.432290</td>\n",
              "      <td>-3.898926</td>\n",
              "      <td>-3.989487</td>\n",
              "      <td>-5.692465</td>\n",
              "      <td>-6.692465</td>\n",
              "    </tr>\n",
              "    <tr>\n",
              "      <th>2021-05-08</th>\n",
              "      <td>-1.801433</td>\n",
              "      <td>-2.820229</td>\n",
              "      <td>-2.884574</td>\n",
              "      <td>-3.747323</td>\n",
              "      <td>-5.747323</td>\n",
              "    </tr>\n",
              "    <tr>\n",
              "      <th>2021-05-09</th>\n",
              "      <td>-0.312180</td>\n",
              "      <td>-0.496806</td>\n",
              "      <td>-1.795457</td>\n",
              "      <td>-3.011017</td>\n",
              "      <td>-6.011017</td>\n",
              "    </tr>\n",
              "    <tr>\n",
              "      <th>2021-05-10</th>\n",
              "      <td>-1.093073</td>\n",
              "      <td>-1.535536</td>\n",
              "      <td>-2.614773</td>\n",
              "      <td>-3.333544</td>\n",
              "      <td>-7.333544</td>\n",
              "    </tr>\n",
              "    <tr>\n",
              "      <th>2021-05-11</th>\n",
              "      <td>-0.297129</td>\n",
              "      <td>-0.456588</td>\n",
              "      <td>-1.668267</td>\n",
              "      <td>-2.300055</td>\n",
              "      <td>-7.300055</td>\n",
              "    </tr>\n",
              "    <tr>\n",
              "      <th>2021-05-12</th>\n",
              "      <td>-0.931220</td>\n",
              "      <td>-1.047597</td>\n",
              "      <td>-1.225227</td>\n",
              "      <td>-1.515501</td>\n",
              "      <td>-7.515501</td>\n",
              "    </tr>\n",
              "  </tbody>\n",
              "</table>\n",
              "</div>"
            ],
            "text/plain": [
              "                   A         B         C         D         F\n",
              "2021-05-07 -3.432290 -3.898926 -3.989487 -5.692465 -6.692465\n",
              "2021-05-08 -1.801433 -2.820229 -2.884574 -3.747323 -5.747323\n",
              "2021-05-09 -0.312180 -0.496806 -1.795457 -3.011017 -6.011017\n",
              "2021-05-10 -1.093073 -1.535536 -2.614773 -3.333544 -7.333544\n",
              "2021-05-11 -0.297129 -0.456588 -1.668267 -2.300055 -7.300055\n",
              "2021-05-12 -0.931220 -1.047597 -1.225227 -1.515501 -7.515501"
            ]
          },
          "metadata": {
            "tags": []
          },
          "execution_count": 53
        }
      ]
    },
    {
      "cell_type": "code",
      "metadata": {
        "colab": {
          "base_uri": "https://localhost:8080/",
          "height": 235
        },
        "id": "LWV4e4qMp3qV",
        "outputId": "72ae95f1-009e-4ac0-a80c-f89a4d6abbc1"
      },
      "source": [
        "df"
      ],
      "execution_count": 51,
      "outputs": [
        {
          "output_type": "execute_result",
          "data": {
            "text/html": [
              "<div>\n",
              "<style scoped>\n",
              "    .dataframe tbody tr th:only-of-type {\n",
              "        vertical-align: middle;\n",
              "    }\n",
              "\n",
              "    .dataframe tbody tr th {\n",
              "        vertical-align: top;\n",
              "    }\n",
              "\n",
              "    .dataframe thead th {\n",
              "        text-align: right;\n",
              "    }\n",
              "</style>\n",
              "<table border=\"1\" class=\"dataframe\">\n",
              "  <thead>\n",
              "    <tr style=\"text-align: right;\">\n",
              "      <th></th>\n",
              "      <th>A</th>\n",
              "      <th>B</th>\n",
              "      <th>C</th>\n",
              "      <th>D</th>\n",
              "      <th>F</th>\n",
              "    </tr>\n",
              "  </thead>\n",
              "  <tbody>\n",
              "    <tr>\n",
              "      <th>2021-05-07</th>\n",
              "      <td>-3.432290</td>\n",
              "      <td>-0.466636</td>\n",
              "      <td>-0.090561</td>\n",
              "      <td>-1.702978</td>\n",
              "      <td>-1</td>\n",
              "    </tr>\n",
              "    <tr>\n",
              "      <th>2021-05-08</th>\n",
              "      <td>-1.801433</td>\n",
              "      <td>-1.018796</td>\n",
              "      <td>-0.064345</td>\n",
              "      <td>-0.862749</td>\n",
              "      <td>-2</td>\n",
              "    </tr>\n",
              "    <tr>\n",
              "      <th>2021-05-09</th>\n",
              "      <td>-0.312180</td>\n",
              "      <td>-0.184626</td>\n",
              "      <td>-1.298651</td>\n",
              "      <td>-1.215560</td>\n",
              "      <td>-3</td>\n",
              "    </tr>\n",
              "    <tr>\n",
              "      <th>2021-05-10</th>\n",
              "      <td>-1.093073</td>\n",
              "      <td>-0.442463</td>\n",
              "      <td>-1.079236</td>\n",
              "      <td>-0.718771</td>\n",
              "      <td>-4</td>\n",
              "    </tr>\n",
              "    <tr>\n",
              "      <th>2021-05-11</th>\n",
              "      <td>-0.297129</td>\n",
              "      <td>-0.159458</td>\n",
              "      <td>-1.211679</td>\n",
              "      <td>-0.631788</td>\n",
              "      <td>-5</td>\n",
              "    </tr>\n",
              "    <tr>\n",
              "      <th>2021-05-12</th>\n",
              "      <td>-0.931220</td>\n",
              "      <td>-0.116377</td>\n",
              "      <td>-0.177630</td>\n",
              "      <td>-0.290274</td>\n",
              "      <td>-6</td>\n",
              "    </tr>\n",
              "  </tbody>\n",
              "</table>\n",
              "</div>"
            ],
            "text/plain": [
              "                   A         B         C         D  F\n",
              "2021-05-07 -3.432290 -0.466636 -0.090561 -1.702978 -1\n",
              "2021-05-08 -1.801433 -1.018796 -0.064345 -0.862749 -2\n",
              "2021-05-09 -0.312180 -0.184626 -1.298651 -1.215560 -3\n",
              "2021-05-10 -1.093073 -0.442463 -1.079236 -0.718771 -4\n",
              "2021-05-11 -0.297129 -0.159458 -1.211679 -0.631788 -5\n",
              "2021-05-12 -0.931220 -0.116377 -0.177630 -0.290274 -6"
            ]
          },
          "metadata": {
            "tags": []
          },
          "execution_count": 51
        }
      ]
    },
    {
      "cell_type": "code",
      "metadata": {
        "colab": {
          "base_uri": "https://localhost:8080/"
        },
        "id": "0s5m4-YWp_VF",
        "outputId": "3a6f311d-4227-45b6-befa-b73c93e3d283"
      },
      "source": [
        "lambda x : x.max() - x.min()"
      ],
      "execution_count": 52,
      "outputs": [
        {
          "output_type": "execute_result",
          "data": {
            "text/plain": [
              "<function __main__.<lambda>>"
            ]
          },
          "metadata": {
            "tags": []
          },
          "execution_count": 52
        }
      ]
    },
    {
      "cell_type": "code",
      "metadata": {
        "colab": {
          "base_uri": "https://localhost:8080/"
        },
        "id": "YtGrL165qH1F",
        "outputId": "8e687832-3623-450f-da5d-bfdd739cd903"
      },
      "source": [
        "df.apply(lambda x: x.max() - x.min(), axis = 1)"
      ],
      "execution_count": 57,
      "outputs": [
        {
          "output_type": "execute_result",
          "data": {
            "text/plain": [
              "2021-05-07    3.341729\n",
              "2021-05-08    1.935655\n",
              "2021-05-09    2.815374\n",
              "2021-05-10    3.557537\n",
              "2021-05-11    4.840542\n",
              "2021-05-12    5.883623\n",
              "Freq: D, dtype: float64"
            ]
          },
          "metadata": {
            "tags": []
          },
          "execution_count": 57
        }
      ]
    },
    {
      "cell_type": "code",
      "metadata": {
        "colab": {
          "base_uri": "https://localhost:8080/"
        },
        "id": "foo74sentQ9k",
        "outputId": "fbb9d220-3766-420d-f8a7-8aa5bc1a0101"
      },
      "source": [
        "df.A.max(), df.A.min()"
      ],
      "execution_count": 56,
      "outputs": [
        {
          "output_type": "execute_result",
          "data": {
            "text/plain": [
              "(-0.2971291248494529, -3.432290415783151)"
            ]
          },
          "metadata": {
            "tags": []
          },
          "execution_count": 56
        }
      ]
    },
    {
      "cell_type": "code",
      "metadata": {
        "colab": {
          "base_uri": "https://localhost:8080/",
          "height": 235
        },
        "id": "zur-JkBIuKb8",
        "outputId": "35058398-a785-4b1c-848d-b7129b667f01"
      },
      "source": [
        "df"
      ],
      "execution_count": 58,
      "outputs": [
        {
          "output_type": "execute_result",
          "data": {
            "text/html": [
              "<div>\n",
              "<style scoped>\n",
              "    .dataframe tbody tr th:only-of-type {\n",
              "        vertical-align: middle;\n",
              "    }\n",
              "\n",
              "    .dataframe tbody tr th {\n",
              "        vertical-align: top;\n",
              "    }\n",
              "\n",
              "    .dataframe thead th {\n",
              "        text-align: right;\n",
              "    }\n",
              "</style>\n",
              "<table border=\"1\" class=\"dataframe\">\n",
              "  <thead>\n",
              "    <tr style=\"text-align: right;\">\n",
              "      <th></th>\n",
              "      <th>A</th>\n",
              "      <th>B</th>\n",
              "      <th>C</th>\n",
              "      <th>D</th>\n",
              "      <th>F</th>\n",
              "    </tr>\n",
              "  </thead>\n",
              "  <tbody>\n",
              "    <tr>\n",
              "      <th>2021-05-07</th>\n",
              "      <td>-3.432290</td>\n",
              "      <td>-0.466636</td>\n",
              "      <td>-0.090561</td>\n",
              "      <td>-1.702978</td>\n",
              "      <td>-1</td>\n",
              "    </tr>\n",
              "    <tr>\n",
              "      <th>2021-05-08</th>\n",
              "      <td>-1.801433</td>\n",
              "      <td>-1.018796</td>\n",
              "      <td>-0.064345</td>\n",
              "      <td>-0.862749</td>\n",
              "      <td>-2</td>\n",
              "    </tr>\n",
              "    <tr>\n",
              "      <th>2021-05-09</th>\n",
              "      <td>-0.312180</td>\n",
              "      <td>-0.184626</td>\n",
              "      <td>-1.298651</td>\n",
              "      <td>-1.215560</td>\n",
              "      <td>-3</td>\n",
              "    </tr>\n",
              "    <tr>\n",
              "      <th>2021-05-10</th>\n",
              "      <td>-1.093073</td>\n",
              "      <td>-0.442463</td>\n",
              "      <td>-1.079236</td>\n",
              "      <td>-0.718771</td>\n",
              "      <td>-4</td>\n",
              "    </tr>\n",
              "    <tr>\n",
              "      <th>2021-05-11</th>\n",
              "      <td>-0.297129</td>\n",
              "      <td>-0.159458</td>\n",
              "      <td>-1.211679</td>\n",
              "      <td>-0.631788</td>\n",
              "      <td>-5</td>\n",
              "    </tr>\n",
              "    <tr>\n",
              "      <th>2021-05-12</th>\n",
              "      <td>-0.931220</td>\n",
              "      <td>-0.116377</td>\n",
              "      <td>-0.177630</td>\n",
              "      <td>-0.290274</td>\n",
              "      <td>-6</td>\n",
              "    </tr>\n",
              "  </tbody>\n",
              "</table>\n",
              "</div>"
            ],
            "text/plain": [
              "                   A         B         C         D  F\n",
              "2021-05-07 -3.432290 -0.466636 -0.090561 -1.702978 -1\n",
              "2021-05-08 -1.801433 -1.018796 -0.064345 -0.862749 -2\n",
              "2021-05-09 -0.312180 -0.184626 -1.298651 -1.215560 -3\n",
              "2021-05-10 -1.093073 -0.442463 -1.079236 -0.718771 -4\n",
              "2021-05-11 -0.297129 -0.159458 -1.211679 -0.631788 -5\n",
              "2021-05-12 -0.931220 -0.116377 -0.177630 -0.290274 -6"
            ]
          },
          "metadata": {
            "tags": []
          },
          "execution_count": 58
        }
      ]
    },
    {
      "cell_type": "code",
      "metadata": {
        "colab": {
          "base_uri": "https://localhost:8080/"
        },
        "id": "W6XKgUczuKxz",
        "outputId": "a8e827f0-a8d7-4c5e-b5b3-180c47c13b08"
      },
      "source": [
        "s = pd.Series(np.random.randint(1, 7, size = 60))\n",
        "\n",
        "s.value_counts()"
      ],
      "execution_count": 7,
      "outputs": [
        {
          "output_type": "execute_result",
          "data": {
            "text/plain": [
              "6    13\n",
              "5    10\n",
              "4    10\n",
              "3    10\n",
              "1    10\n",
              "2     7\n",
              "dtype: int64"
            ]
          },
          "metadata": {
            "tags": []
          },
          "execution_count": 7
        }
      ]
    },
    {
      "cell_type": "code",
      "metadata": {
        "id": "lL7kWUZwuQPT"
      },
      "source": [
        "df = pd.DataFrame(np.random.randn(10, 4))"
      ],
      "execution_count": 9,
      "outputs": []
    },
    {
      "cell_type": "code",
      "metadata": {
        "colab": {
          "base_uri": "https://localhost:8080/",
          "height": 359
        },
        "id": "rbkXYH9qvvcT",
        "outputId": "bf0acfee-e970-4303-cff5-df8011e843bb"
      },
      "source": [
        "df"
      ],
      "execution_count": 11,
      "outputs": [
        {
          "output_type": "execute_result",
          "data": {
            "text/html": [
              "<div>\n",
              "<style scoped>\n",
              "    .dataframe tbody tr th:only-of-type {\n",
              "        vertical-align: middle;\n",
              "    }\n",
              "\n",
              "    .dataframe tbody tr th {\n",
              "        vertical-align: top;\n",
              "    }\n",
              "\n",
              "    .dataframe thead th {\n",
              "        text-align: right;\n",
              "    }\n",
              "</style>\n",
              "<table border=\"1\" class=\"dataframe\">\n",
              "  <thead>\n",
              "    <tr style=\"text-align: right;\">\n",
              "      <th></th>\n",
              "      <th>0</th>\n",
              "      <th>1</th>\n",
              "      <th>2</th>\n",
              "      <th>3</th>\n",
              "    </tr>\n",
              "  </thead>\n",
              "  <tbody>\n",
              "    <tr>\n",
              "      <th>0</th>\n",
              "      <td>0.493385</td>\n",
              "      <td>0.685873</td>\n",
              "      <td>0.211345</td>\n",
              "      <td>-1.947939</td>\n",
              "    </tr>\n",
              "    <tr>\n",
              "      <th>1</th>\n",
              "      <td>1.139599</td>\n",
              "      <td>0.657158</td>\n",
              "      <td>1.041730</td>\n",
              "      <td>0.271556</td>\n",
              "    </tr>\n",
              "    <tr>\n",
              "      <th>2</th>\n",
              "      <td>0.086250</td>\n",
              "      <td>0.553465</td>\n",
              "      <td>0.405751</td>\n",
              "      <td>-1.564413</td>\n",
              "    </tr>\n",
              "    <tr>\n",
              "      <th>3</th>\n",
              "      <td>-0.922834</td>\n",
              "      <td>0.492727</td>\n",
              "      <td>1.132419</td>\n",
              "      <td>0.111008</td>\n",
              "    </tr>\n",
              "    <tr>\n",
              "      <th>4</th>\n",
              "      <td>0.340575</td>\n",
              "      <td>-0.373465</td>\n",
              "      <td>0.455511</td>\n",
              "      <td>1.509113</td>\n",
              "    </tr>\n",
              "    <tr>\n",
              "      <th>5</th>\n",
              "      <td>0.391743</td>\n",
              "      <td>0.087274</td>\n",
              "      <td>-1.630224</td>\n",
              "      <td>-1.222107</td>\n",
              "    </tr>\n",
              "    <tr>\n",
              "      <th>6</th>\n",
              "      <td>0.471541</td>\n",
              "      <td>-1.410786</td>\n",
              "      <td>-1.124201</td>\n",
              "      <td>0.497694</td>\n",
              "    </tr>\n",
              "    <tr>\n",
              "      <th>7</th>\n",
              "      <td>-1.594484</td>\n",
              "      <td>-2.499095</td>\n",
              "      <td>0.122588</td>\n",
              "      <td>-1.132087</td>\n",
              "    </tr>\n",
              "    <tr>\n",
              "      <th>8</th>\n",
              "      <td>-0.518521</td>\n",
              "      <td>-0.549530</td>\n",
              "      <td>-0.090756</td>\n",
              "      <td>0.870173</td>\n",
              "    </tr>\n",
              "    <tr>\n",
              "      <th>9</th>\n",
              "      <td>-1.474588</td>\n",
              "      <td>0.259371</td>\n",
              "      <td>0.380724</td>\n",
              "      <td>1.863866</td>\n",
              "    </tr>\n",
              "  </tbody>\n",
              "</table>\n",
              "</div>"
            ],
            "text/plain": [
              "          0         1         2         3\n",
              "0  0.493385  0.685873  0.211345 -1.947939\n",
              "1  1.139599  0.657158  1.041730  0.271556\n",
              "2  0.086250  0.553465  0.405751 -1.564413\n",
              "3 -0.922834  0.492727  1.132419  0.111008\n",
              "4  0.340575 -0.373465  0.455511  1.509113\n",
              "5  0.391743  0.087274 -1.630224 -1.222107\n",
              "6  0.471541 -1.410786 -1.124201  0.497694\n",
              "7 -1.594484 -2.499095  0.122588 -1.132087\n",
              "8 -0.518521 -0.549530 -0.090756  0.870173\n",
              "9 -1.474588  0.259371  0.380724  1.863866"
            ]
          },
          "metadata": {
            "tags": []
          },
          "execution_count": 11
        }
      ]
    },
    {
      "cell_type": "code",
      "metadata": {
        "id": "inY50bZPviyY"
      },
      "source": [
        " pieces = [df[:3], df[3:7], df[7:]]"
      ],
      "execution_count": 15,
      "outputs": []
    },
    {
      "cell_type": "code",
      "metadata": {
        "colab": {
          "base_uri": "https://localhost:8080/",
          "height": 359
        },
        "id": "wXMZC7XLvrrD",
        "outputId": "20ca9032-50da-450a-bb12-54ebc1f3b3f0"
      },
      "source": [
        "pd.concat(pieces)"
      ],
      "execution_count": 16,
      "outputs": [
        {
          "output_type": "execute_result",
          "data": {
            "text/html": [
              "<div>\n",
              "<style scoped>\n",
              "    .dataframe tbody tr th:only-of-type {\n",
              "        vertical-align: middle;\n",
              "    }\n",
              "\n",
              "    .dataframe tbody tr th {\n",
              "        vertical-align: top;\n",
              "    }\n",
              "\n",
              "    .dataframe thead th {\n",
              "        text-align: right;\n",
              "    }\n",
              "</style>\n",
              "<table border=\"1\" class=\"dataframe\">\n",
              "  <thead>\n",
              "    <tr style=\"text-align: right;\">\n",
              "      <th></th>\n",
              "      <th>0</th>\n",
              "      <th>1</th>\n",
              "      <th>2</th>\n",
              "      <th>3</th>\n",
              "    </tr>\n",
              "  </thead>\n",
              "  <tbody>\n",
              "    <tr>\n",
              "      <th>0</th>\n",
              "      <td>0.493385</td>\n",
              "      <td>0.685873</td>\n",
              "      <td>0.211345</td>\n",
              "      <td>-1.947939</td>\n",
              "    </tr>\n",
              "    <tr>\n",
              "      <th>1</th>\n",
              "      <td>1.139599</td>\n",
              "      <td>0.657158</td>\n",
              "      <td>1.041730</td>\n",
              "      <td>0.271556</td>\n",
              "    </tr>\n",
              "    <tr>\n",
              "      <th>2</th>\n",
              "      <td>0.086250</td>\n",
              "      <td>0.553465</td>\n",
              "      <td>0.405751</td>\n",
              "      <td>-1.564413</td>\n",
              "    </tr>\n",
              "    <tr>\n",
              "      <th>3</th>\n",
              "      <td>-0.922834</td>\n",
              "      <td>0.492727</td>\n",
              "      <td>1.132419</td>\n",
              "      <td>0.111008</td>\n",
              "    </tr>\n",
              "    <tr>\n",
              "      <th>4</th>\n",
              "      <td>0.340575</td>\n",
              "      <td>-0.373465</td>\n",
              "      <td>0.455511</td>\n",
              "      <td>1.509113</td>\n",
              "    </tr>\n",
              "    <tr>\n",
              "      <th>5</th>\n",
              "      <td>0.391743</td>\n",
              "      <td>0.087274</td>\n",
              "      <td>-1.630224</td>\n",
              "      <td>-1.222107</td>\n",
              "    </tr>\n",
              "    <tr>\n",
              "      <th>6</th>\n",
              "      <td>0.471541</td>\n",
              "      <td>-1.410786</td>\n",
              "      <td>-1.124201</td>\n",
              "      <td>0.497694</td>\n",
              "    </tr>\n",
              "    <tr>\n",
              "      <th>7</th>\n",
              "      <td>-1.594484</td>\n",
              "      <td>-2.499095</td>\n",
              "      <td>0.122588</td>\n",
              "      <td>-1.132087</td>\n",
              "    </tr>\n",
              "    <tr>\n",
              "      <th>8</th>\n",
              "      <td>-0.518521</td>\n",
              "      <td>-0.549530</td>\n",
              "      <td>-0.090756</td>\n",
              "      <td>0.870173</td>\n",
              "    </tr>\n",
              "    <tr>\n",
              "      <th>9</th>\n",
              "      <td>-1.474588</td>\n",
              "      <td>0.259371</td>\n",
              "      <td>0.380724</td>\n",
              "      <td>1.863866</td>\n",
              "    </tr>\n",
              "  </tbody>\n",
              "</table>\n",
              "</div>"
            ],
            "text/plain": [
              "          0         1         2         3\n",
              "0  0.493385  0.685873  0.211345 -1.947939\n",
              "1  1.139599  0.657158  1.041730  0.271556\n",
              "2  0.086250  0.553465  0.405751 -1.564413\n",
              "3 -0.922834  0.492727  1.132419  0.111008\n",
              "4  0.340575 -0.373465  0.455511  1.509113\n",
              "5  0.391743  0.087274 -1.630224 -1.222107\n",
              "6  0.471541 -1.410786 -1.124201  0.497694\n",
              "7 -1.594484 -2.499095  0.122588 -1.132087\n",
              "8 -0.518521 -0.549530 -0.090756  0.870173\n",
              "9 -1.474588  0.259371  0.380724  1.863866"
            ]
          },
          "metadata": {
            "tags": []
          },
          "execution_count": 16
        }
      ]
    },
    {
      "cell_type": "code",
      "metadata": {
        "colab": {
          "base_uri": "https://localhost:8080/"
        },
        "id": "afOlmuYyv9Xy",
        "outputId": "5eec97a1-f8ce-499a-c59e-887d475bcd60"
      },
      "source": [
        "pieces"
      ],
      "execution_count": 17,
      "outputs": [
        {
          "output_type": "execute_result",
          "data": {
            "text/plain": [
              "[          0         1         2         3\n",
              " 0  0.493385  0.685873  0.211345 -1.947939\n",
              " 1  1.139599  0.657158  1.041730  0.271556\n",
              " 2  0.086250  0.553465  0.405751 -1.564413,\n",
              "           0         1         2         3\n",
              " 3 -0.922834  0.492727  1.132419  0.111008\n",
              " 4  0.340575 -0.373465  0.455511  1.509113\n",
              " 5  0.391743  0.087274 -1.630224 -1.222107\n",
              " 6  0.471541 -1.410786 -1.124201  0.497694,\n",
              "           0         1         2         3\n",
              " 7 -1.594484 -2.499095  0.122588 -1.132087\n",
              " 8 -0.518521 -0.549530 -0.090756  0.870173\n",
              " 9 -1.474588  0.259371  0.380724  1.863866]"
            ]
          },
          "metadata": {
            "tags": []
          },
          "execution_count": 17
        }
      ]
    },
    {
      "cell_type": "code",
      "metadata": {
        "id": "Pj8uQOQ0wLwy"
      },
      "source": [
        "left = pd.DataFrame(\n",
        "    {\n",
        "      'a':['foo', 'foo'],\n",
        "      'lval': [1, 2]\n",
        "    }\n",
        ")\n",
        "right = pd.DataFrame({'a':['foo', 'foo'], 'rval': [4, 5]})"
      ],
      "execution_count": 27,
      "outputs": []
    },
    {
      "cell_type": "code",
      "metadata": {
        "colab": {
          "base_uri": "https://localhost:8080/",
          "height": 111
        },
        "id": "bm3yBbvjwXKi",
        "outputId": "d135882e-2e72-4bc4-f133-fdf3a394a755"
      },
      "source": [
        "left"
      ],
      "execution_count": 23,
      "outputs": [
        {
          "output_type": "execute_result",
          "data": {
            "text/html": [
              "<div>\n",
              "<style scoped>\n",
              "    .dataframe tbody tr th:only-of-type {\n",
              "        vertical-align: middle;\n",
              "    }\n",
              "\n",
              "    .dataframe tbody tr th {\n",
              "        vertical-align: top;\n",
              "    }\n",
              "\n",
              "    .dataframe thead th {\n",
              "        text-align: right;\n",
              "    }\n",
              "</style>\n",
              "<table border=\"1\" class=\"dataframe\">\n",
              "  <thead>\n",
              "    <tr style=\"text-align: right;\">\n",
              "      <th></th>\n",
              "      <th>key</th>\n",
              "      <th>lval</th>\n",
              "    </tr>\n",
              "  </thead>\n",
              "  <tbody>\n",
              "    <tr>\n",
              "      <th>0</th>\n",
              "      <td>foo</td>\n",
              "      <td>1</td>\n",
              "    </tr>\n",
              "    <tr>\n",
              "      <th>1</th>\n",
              "      <td>foo</td>\n",
              "      <td>2</td>\n",
              "    </tr>\n",
              "  </tbody>\n",
              "</table>\n",
              "</div>"
            ],
            "text/plain": [
              "   key  lval\n",
              "0  foo     1\n",
              "1  foo     2"
            ]
          },
          "metadata": {
            "tags": []
          },
          "execution_count": 23
        }
      ]
    },
    {
      "cell_type": "code",
      "metadata": {
        "colab": {
          "base_uri": "https://localhost:8080/",
          "height": 111
        },
        "id": "j8l1HhE2wpeC",
        "outputId": "ce47d49b-d7f3-4d2a-9107-2e19afa29b0a"
      },
      "source": [
        "right"
      ],
      "execution_count": 24,
      "outputs": [
        {
          "output_type": "execute_result",
          "data": {
            "text/html": [
              "<div>\n",
              "<style scoped>\n",
              "    .dataframe tbody tr th:only-of-type {\n",
              "        vertical-align: middle;\n",
              "    }\n",
              "\n",
              "    .dataframe tbody tr th {\n",
              "        vertical-align: top;\n",
              "    }\n",
              "\n",
              "    .dataframe thead th {\n",
              "        text-align: right;\n",
              "    }\n",
              "</style>\n",
              "<table border=\"1\" class=\"dataframe\">\n",
              "  <thead>\n",
              "    <tr style=\"text-align: right;\">\n",
              "      <th></th>\n",
              "      <th>key</th>\n",
              "      <th>rval</th>\n",
              "    </tr>\n",
              "  </thead>\n",
              "  <tbody>\n",
              "    <tr>\n",
              "      <th>0</th>\n",
              "      <td>foo</td>\n",
              "      <td>4</td>\n",
              "    </tr>\n",
              "    <tr>\n",
              "      <th>1</th>\n",
              "      <td>foo</td>\n",
              "      <td>5</td>\n",
              "    </tr>\n",
              "  </tbody>\n",
              "</table>\n",
              "</div>"
            ],
            "text/plain": [
              "   key  rval\n",
              "0  foo     4\n",
              "1  foo     5"
            ]
          },
          "metadata": {
            "tags": []
          },
          "execution_count": 24
        }
      ]
    },
    {
      "cell_type": "code",
      "metadata": {
        "colab": {
          "base_uri": "https://localhost:8080/",
          "height": 173
        },
        "id": "SbzAKF2swxRx",
        "outputId": "ba551b36-35d3-417a-b60e-d2fa8a5a0fee"
      },
      "source": [
        "pd.merge(left,right,on='key')\n"
      ],
      "execution_count": 25,
      "outputs": [
        {
          "output_type": "execute_result",
          "data": {
            "text/html": [
              "<div>\n",
              "<style scoped>\n",
              "    .dataframe tbody tr th:only-of-type {\n",
              "        vertical-align: middle;\n",
              "    }\n",
              "\n",
              "    .dataframe tbody tr th {\n",
              "        vertical-align: top;\n",
              "    }\n",
              "\n",
              "    .dataframe thead th {\n",
              "        text-align: right;\n",
              "    }\n",
              "</style>\n",
              "<table border=\"1\" class=\"dataframe\">\n",
              "  <thead>\n",
              "    <tr style=\"text-align: right;\">\n",
              "      <th></th>\n",
              "      <th>key</th>\n",
              "      <th>lval</th>\n",
              "      <th>rval</th>\n",
              "    </tr>\n",
              "  </thead>\n",
              "  <tbody>\n",
              "    <tr>\n",
              "      <th>0</th>\n",
              "      <td>foo</td>\n",
              "      <td>1</td>\n",
              "      <td>4</td>\n",
              "    </tr>\n",
              "    <tr>\n",
              "      <th>1</th>\n",
              "      <td>foo</td>\n",
              "      <td>1</td>\n",
              "      <td>5</td>\n",
              "    </tr>\n",
              "    <tr>\n",
              "      <th>2</th>\n",
              "      <td>foo</td>\n",
              "      <td>2</td>\n",
              "      <td>4</td>\n",
              "    </tr>\n",
              "    <tr>\n",
              "      <th>3</th>\n",
              "      <td>foo</td>\n",
              "      <td>2</td>\n",
              "      <td>5</td>\n",
              "    </tr>\n",
              "  </tbody>\n",
              "</table>\n",
              "</div>"
            ],
            "text/plain": [
              "   key  lval  rval\n",
              "0  foo     1     4\n",
              "1  foo     1     5\n",
              "2  foo     2     4\n",
              "3  foo     2     5"
            ]
          },
          "metadata": {
            "tags": []
          },
          "execution_count": 25
        }
      ]
    },
    {
      "cell_type": "code",
      "metadata": {
        "colab": {
          "base_uri": "https://localhost:8080/",
          "height": 173
        },
        "id": "FNR2Vns6xHsh",
        "outputId": "933a9be4-d2fb-4dd4-daf6-a84ea4dcb4c7"
      },
      "source": [
        "pd.merge(left, right, on = 'a')"
      ],
      "execution_count": 28,
      "outputs": [
        {
          "output_type": "execute_result",
          "data": {
            "text/html": [
              "<div>\n",
              "<style scoped>\n",
              "    .dataframe tbody tr th:only-of-type {\n",
              "        vertical-align: middle;\n",
              "    }\n",
              "\n",
              "    .dataframe tbody tr th {\n",
              "        vertical-align: top;\n",
              "    }\n",
              "\n",
              "    .dataframe thead th {\n",
              "        text-align: right;\n",
              "    }\n",
              "</style>\n",
              "<table border=\"1\" class=\"dataframe\">\n",
              "  <thead>\n",
              "    <tr style=\"text-align: right;\">\n",
              "      <th></th>\n",
              "      <th>a</th>\n",
              "      <th>lval</th>\n",
              "      <th>rval</th>\n",
              "    </tr>\n",
              "  </thead>\n",
              "  <tbody>\n",
              "    <tr>\n",
              "      <th>0</th>\n",
              "      <td>foo</td>\n",
              "      <td>1</td>\n",
              "      <td>4</td>\n",
              "    </tr>\n",
              "    <tr>\n",
              "      <th>1</th>\n",
              "      <td>foo</td>\n",
              "      <td>1</td>\n",
              "      <td>5</td>\n",
              "    </tr>\n",
              "    <tr>\n",
              "      <th>2</th>\n",
              "      <td>foo</td>\n",
              "      <td>2</td>\n",
              "      <td>4</td>\n",
              "    </tr>\n",
              "    <tr>\n",
              "      <th>3</th>\n",
              "      <td>foo</td>\n",
              "      <td>2</td>\n",
              "      <td>5</td>\n",
              "    </tr>\n",
              "  </tbody>\n",
              "</table>\n",
              "</div>"
            ],
            "text/plain": [
              "     a  lval  rval\n",
              "0  foo     1     4\n",
              "1  foo     1     5\n",
              "2  foo     2     4\n",
              "3  foo     2     5"
            ]
          },
          "metadata": {
            "tags": []
          },
          "execution_count": 28
        }
      ]
    },
    {
      "cell_type": "code",
      "metadata": {
        "id": "cLNJY3cLxi-h"
      },
      "source": [
        "df = pd.DataFrame(\n",
        "    {\n",
        "        'A' : ['foo', 'bar', 'foo', 'bar', 'foo', 'bar', 'foo', 'bar'],\n",
        "        'B' : ['one', 'one', 'two', 'three', 'two', 'two', 'one', 'three'],\n",
        "        'C' : np.random.randn(8),\n",
        "        'D' : np.random.randn(8)\n",
        "    }\n",
        ")"
      ],
      "execution_count": 29,
      "outputs": []
    },
    {
      "cell_type": "code",
      "metadata": {
        "colab": {
          "base_uri": "https://localhost:8080/",
          "height": 297
        },
        "id": "j5RvK73dy3tw",
        "outputId": "6b7b7e98-4574-4cf0-c323-9b58d3b46a7f"
      },
      "source": [
        "df"
      ],
      "execution_count": 30,
      "outputs": [
        {
          "output_type": "execute_result",
          "data": {
            "text/html": [
              "<div>\n",
              "<style scoped>\n",
              "    .dataframe tbody tr th:only-of-type {\n",
              "        vertical-align: middle;\n",
              "    }\n",
              "\n",
              "    .dataframe tbody tr th {\n",
              "        vertical-align: top;\n",
              "    }\n",
              "\n",
              "    .dataframe thead th {\n",
              "        text-align: right;\n",
              "    }\n",
              "</style>\n",
              "<table border=\"1\" class=\"dataframe\">\n",
              "  <thead>\n",
              "    <tr style=\"text-align: right;\">\n",
              "      <th></th>\n",
              "      <th>A</th>\n",
              "      <th>B</th>\n",
              "      <th>C</th>\n",
              "      <th>D</th>\n",
              "    </tr>\n",
              "  </thead>\n",
              "  <tbody>\n",
              "    <tr>\n",
              "      <th>0</th>\n",
              "      <td>foo</td>\n",
              "      <td>one</td>\n",
              "      <td>0.758712</td>\n",
              "      <td>1.323947</td>\n",
              "    </tr>\n",
              "    <tr>\n",
              "      <th>1</th>\n",
              "      <td>bar</td>\n",
              "      <td>one</td>\n",
              "      <td>-0.216979</td>\n",
              "      <td>0.162479</td>\n",
              "    </tr>\n",
              "    <tr>\n",
              "      <th>2</th>\n",
              "      <td>foo</td>\n",
              "      <td>two</td>\n",
              "      <td>-1.109151</td>\n",
              "      <td>-0.060619</td>\n",
              "    </tr>\n",
              "    <tr>\n",
              "      <th>3</th>\n",
              "      <td>bar</td>\n",
              "      <td>three</td>\n",
              "      <td>-0.705232</td>\n",
              "      <td>0.278696</td>\n",
              "    </tr>\n",
              "    <tr>\n",
              "      <th>4</th>\n",
              "      <td>foo</td>\n",
              "      <td>two</td>\n",
              "      <td>0.124785</td>\n",
              "      <td>1.159594</td>\n",
              "    </tr>\n",
              "    <tr>\n",
              "      <th>5</th>\n",
              "      <td>bar</td>\n",
              "      <td>two</td>\n",
              "      <td>-0.674499</td>\n",
              "      <td>-3.830358</td>\n",
              "    </tr>\n",
              "    <tr>\n",
              "      <th>6</th>\n",
              "      <td>foo</td>\n",
              "      <td>one</td>\n",
              "      <td>-0.682600</td>\n",
              "      <td>-0.360627</td>\n",
              "    </tr>\n",
              "    <tr>\n",
              "      <th>7</th>\n",
              "      <td>bar</td>\n",
              "      <td>three</td>\n",
              "      <td>0.387590</td>\n",
              "      <td>1.147198</td>\n",
              "    </tr>\n",
              "  </tbody>\n",
              "</table>\n",
              "</div>"
            ],
            "text/plain": [
              "     A      B         C         D\n",
              "0  foo    one  0.758712  1.323947\n",
              "1  bar    one -0.216979  0.162479\n",
              "2  foo    two -1.109151 -0.060619\n",
              "3  bar  three -0.705232  0.278696\n",
              "4  foo    two  0.124785  1.159594\n",
              "5  bar    two -0.674499 -3.830358\n",
              "6  foo    one -0.682600 -0.360627\n",
              "7  bar  three  0.387590  1.147198"
            ]
          },
          "metadata": {
            "tags": []
          },
          "execution_count": 30
        }
      ]
    },
    {
      "cell_type": "code",
      "metadata": {
        "id": "fCeD1nFXzGFv"
      },
      "source": [
        "a = df.groupby('B').sum()"
      ],
      "execution_count": 41,
      "outputs": []
    },
    {
      "cell_type": "code",
      "metadata": {
        "colab": {
          "base_uri": "https://localhost:8080/",
          "height": 173
        },
        "id": "fYTnalBiy5CA",
        "outputId": "a60fb0f2-b266-42ef-a559-c8d1a62cb65e"
      },
      "source": [
        "a"
      ],
      "execution_count": 42,
      "outputs": [
        {
          "output_type": "execute_result",
          "data": {
            "text/html": [
              "<div>\n",
              "<style scoped>\n",
              "    .dataframe tbody tr th:only-of-type {\n",
              "        vertical-align: middle;\n",
              "    }\n",
              "\n",
              "    .dataframe tbody tr th {\n",
              "        vertical-align: top;\n",
              "    }\n",
              "\n",
              "    .dataframe thead th {\n",
              "        text-align: right;\n",
              "    }\n",
              "</style>\n",
              "<table border=\"1\" class=\"dataframe\">\n",
              "  <thead>\n",
              "    <tr style=\"text-align: right;\">\n",
              "      <th></th>\n",
              "      <th>C</th>\n",
              "      <th>D</th>\n",
              "    </tr>\n",
              "    <tr>\n",
              "      <th>B</th>\n",
              "      <th></th>\n",
              "      <th></th>\n",
              "    </tr>\n",
              "  </thead>\n",
              "  <tbody>\n",
              "    <tr>\n",
              "      <th>one</th>\n",
              "      <td>-0.140867</td>\n",
              "      <td>1.125800</td>\n",
              "    </tr>\n",
              "    <tr>\n",
              "      <th>three</th>\n",
              "      <td>-0.317642</td>\n",
              "      <td>1.425894</td>\n",
              "    </tr>\n",
              "    <tr>\n",
              "      <th>two</th>\n",
              "      <td>-1.658865</td>\n",
              "      <td>-2.731383</td>\n",
              "    </tr>\n",
              "  </tbody>\n",
              "</table>\n",
              "</div>"
            ],
            "text/plain": [
              "              C         D\n",
              "B                        \n",
              "one   -0.140867  1.125800\n",
              "three -0.317642  1.425894\n",
              "two   -1.658865 -2.731383"
            ]
          },
          "metadata": {
            "tags": []
          },
          "execution_count": 42
        }
      ]
    },
    {
      "cell_type": "code",
      "metadata": {
        "colab": {
          "base_uri": "https://localhost:8080/"
        },
        "id": "iK3a-ze2zVJ4",
        "outputId": "257563d8-14c1-4cee-adc8-3dd6b4b3c127"
      },
      "source": [
        "x = [1, 2, 3]\n",
        "y = [4, 5, 6]\n",
        "zipped = zip(x, y)\n",
        "list(zipped)"
      ],
      "execution_count": 43,
      "outputs": [
        {
          "output_type": "execute_result",
          "data": {
            "text/plain": [
              "[(1, 4), (2, 5), (3, 6)]"
            ]
          },
          "metadata": {
            "tags": []
          },
          "execution_count": 43
        }
      ]
    },
    {
      "cell_type": "code",
      "metadata": {
        "id": "F7grAWUb0WSQ"
      },
      "source": [
        "x2, y2 = zip(*zip(x, y))"
      ],
      "execution_count": 44,
      "outputs": []
    },
    {
      "cell_type": "code",
      "metadata": {
        "colab": {
          "base_uri": "https://localhost:8080/"
        },
        "id": "eO-hUDzs0g4f",
        "outputId": "174abcc3-1354-417f-c172-7556a173c7d8"
      },
      "source": [
        "x2"
      ],
      "execution_count": 45,
      "outputs": [
        {
          "output_type": "execute_result",
          "data": {
            "text/plain": [
              "(1, 2, 3)"
            ]
          },
          "metadata": {
            "tags": []
          },
          "execution_count": 45
        }
      ]
    },
    {
      "cell_type": "code",
      "metadata": {
        "colab": {
          "base_uri": "https://localhost:8080/"
        },
        "id": "6lbqX7ZB0hmv",
        "outputId": "c8a8ef75-3850-471f-942b-f2a4f166eafa"
      },
      "source": [
        "y2"
      ],
      "execution_count": 46,
      "outputs": [
        {
          "output_type": "execute_result",
          "data": {
            "text/plain": [
              "(4, 5, 6)"
            ]
          },
          "metadata": {
            "tags": []
          },
          "execution_count": 46
        }
      ]
    },
    {
      "cell_type": "code",
      "metadata": {
        "id": "VDosjCT90iaA"
      },
      "source": [
        "a = df.groupby(['A', 'B'])"
      ],
      "execution_count": 50,
      "outputs": []
    },
    {
      "cell_type": "code",
      "metadata": {
        "id": "3e_3MMCl1HAv"
      },
      "source": [
        "df = pd.DataFrame(\n",
        "    {\n",
        "        'A' : ['one', 'one', 'two', 'three'] * 3,\n",
        "        'B' : ['A', 'B', 'C'] * 4,\n",
        "        'C' : ['foo', 'foo', 'foo', 'bar', 'bar', 'bar' ] * 2,\n",
        "        'D' : np.random.randn(12),\n",
        "        'E' : np.random.randn(12)\n",
        "    }\n",
        ")"
      ],
      "execution_count": 49,
      "outputs": []
    },
    {
      "cell_type": "code",
      "metadata": {
        "colab": {
          "base_uri": "https://localhost:8080/",
          "height": 421
        },
        "id": "K9lME0MS1nVI",
        "outputId": "3c0d1e7d-2523-4323-adde-a5ac019080a4"
      },
      "source": [
        "df"
      ],
      "execution_count": 51,
      "outputs": [
        {
          "output_type": "execute_result",
          "data": {
            "text/html": [
              "<div>\n",
              "<style scoped>\n",
              "    .dataframe tbody tr th:only-of-type {\n",
              "        vertical-align: middle;\n",
              "    }\n",
              "\n",
              "    .dataframe tbody tr th {\n",
              "        vertical-align: top;\n",
              "    }\n",
              "\n",
              "    .dataframe thead th {\n",
              "        text-align: right;\n",
              "    }\n",
              "</style>\n",
              "<table border=\"1\" class=\"dataframe\">\n",
              "  <thead>\n",
              "    <tr style=\"text-align: right;\">\n",
              "      <th></th>\n",
              "      <th>A</th>\n",
              "      <th>B</th>\n",
              "      <th>C</th>\n",
              "      <th>D</th>\n",
              "      <th>E</th>\n",
              "    </tr>\n",
              "  </thead>\n",
              "  <tbody>\n",
              "    <tr>\n",
              "      <th>0</th>\n",
              "      <td>one</td>\n",
              "      <td>A</td>\n",
              "      <td>foo</td>\n",
              "      <td>0.587860</td>\n",
              "      <td>0.160102</td>\n",
              "    </tr>\n",
              "    <tr>\n",
              "      <th>1</th>\n",
              "      <td>one</td>\n",
              "      <td>B</td>\n",
              "      <td>foo</td>\n",
              "      <td>1.242063</td>\n",
              "      <td>2.145190</td>\n",
              "    </tr>\n",
              "    <tr>\n",
              "      <th>2</th>\n",
              "      <td>two</td>\n",
              "      <td>C</td>\n",
              "      <td>foo</td>\n",
              "      <td>-0.795035</td>\n",
              "      <td>-0.266042</td>\n",
              "    </tr>\n",
              "    <tr>\n",
              "      <th>3</th>\n",
              "      <td>three</td>\n",
              "      <td>A</td>\n",
              "      <td>bar</td>\n",
              "      <td>0.875732</td>\n",
              "      <td>-0.836875</td>\n",
              "    </tr>\n",
              "    <tr>\n",
              "      <th>4</th>\n",
              "      <td>one</td>\n",
              "      <td>B</td>\n",
              "      <td>bar</td>\n",
              "      <td>-0.178436</td>\n",
              "      <td>-0.898390</td>\n",
              "    </tr>\n",
              "    <tr>\n",
              "      <th>5</th>\n",
              "      <td>one</td>\n",
              "      <td>C</td>\n",
              "      <td>bar</td>\n",
              "      <td>-0.016458</td>\n",
              "      <td>1.251496</td>\n",
              "    </tr>\n",
              "    <tr>\n",
              "      <th>6</th>\n",
              "      <td>two</td>\n",
              "      <td>A</td>\n",
              "      <td>foo</td>\n",
              "      <td>0.208974</td>\n",
              "      <td>0.980392</td>\n",
              "    </tr>\n",
              "    <tr>\n",
              "      <th>7</th>\n",
              "      <td>three</td>\n",
              "      <td>B</td>\n",
              "      <td>foo</td>\n",
              "      <td>0.033186</td>\n",
              "      <td>1.138080</td>\n",
              "    </tr>\n",
              "    <tr>\n",
              "      <th>8</th>\n",
              "      <td>one</td>\n",
              "      <td>C</td>\n",
              "      <td>foo</td>\n",
              "      <td>0.244888</td>\n",
              "      <td>1.128509</td>\n",
              "    </tr>\n",
              "    <tr>\n",
              "      <th>9</th>\n",
              "      <td>one</td>\n",
              "      <td>A</td>\n",
              "      <td>bar</td>\n",
              "      <td>0.454113</td>\n",
              "      <td>-0.401938</td>\n",
              "    </tr>\n",
              "    <tr>\n",
              "      <th>10</th>\n",
              "      <td>two</td>\n",
              "      <td>B</td>\n",
              "      <td>bar</td>\n",
              "      <td>-1.419691</td>\n",
              "      <td>-0.018474</td>\n",
              "    </tr>\n",
              "    <tr>\n",
              "      <th>11</th>\n",
              "      <td>three</td>\n",
              "      <td>C</td>\n",
              "      <td>bar</td>\n",
              "      <td>-0.547864</td>\n",
              "      <td>-2.323994</td>\n",
              "    </tr>\n",
              "  </tbody>\n",
              "</table>\n",
              "</div>"
            ],
            "text/plain": [
              "        A  B    C         D         E\n",
              "0     one  A  foo  0.587860  0.160102\n",
              "1     one  B  foo  1.242063  2.145190\n",
              "2     two  C  foo -0.795035 -0.266042\n",
              "3   three  A  bar  0.875732 -0.836875\n",
              "4     one  B  bar -0.178436 -0.898390\n",
              "5     one  C  bar -0.016458  1.251496\n",
              "6     two  A  foo  0.208974  0.980392\n",
              "7   three  B  foo  0.033186  1.138080\n",
              "8     one  C  foo  0.244888  1.128509\n",
              "9     one  A  bar  0.454113 -0.401938\n",
              "10    two  B  bar -1.419691 -0.018474\n",
              "11  three  C  bar -0.547864 -2.323994"
            ]
          },
          "metadata": {
            "tags": []
          },
          "execution_count": 51
        }
      ]
    },
    {
      "cell_type": "code",
      "metadata": {
        "colab": {
          "base_uri": "https://localhost:8080/",
          "height": 359
        },
        "id": "WVaeSQ8g1plo",
        "outputId": "b3701618-be22-4ec9-ea6e-e5bcd5e43717"
      },
      "source": [
        "pd.pivot_table(df, values = 'D', index = ['A', 'B'], columns = ['C'])"
      ],
      "execution_count": 52,
      "outputs": [
        {
          "output_type": "execute_result",
          "data": {
            "text/html": [
              "<div>\n",
              "<style scoped>\n",
              "    .dataframe tbody tr th:only-of-type {\n",
              "        vertical-align: middle;\n",
              "    }\n",
              "\n",
              "    .dataframe tbody tr th {\n",
              "        vertical-align: top;\n",
              "    }\n",
              "\n",
              "    .dataframe thead th {\n",
              "        text-align: right;\n",
              "    }\n",
              "</style>\n",
              "<table border=\"1\" class=\"dataframe\">\n",
              "  <thead>\n",
              "    <tr style=\"text-align: right;\">\n",
              "      <th></th>\n",
              "      <th>C</th>\n",
              "      <th>bar</th>\n",
              "      <th>foo</th>\n",
              "    </tr>\n",
              "    <tr>\n",
              "      <th>A</th>\n",
              "      <th>B</th>\n",
              "      <th></th>\n",
              "      <th></th>\n",
              "    </tr>\n",
              "  </thead>\n",
              "  <tbody>\n",
              "    <tr>\n",
              "      <th rowspan=\"3\" valign=\"top\">one</th>\n",
              "      <th>A</th>\n",
              "      <td>0.454113</td>\n",
              "      <td>0.587860</td>\n",
              "    </tr>\n",
              "    <tr>\n",
              "      <th>B</th>\n",
              "      <td>-0.178436</td>\n",
              "      <td>1.242063</td>\n",
              "    </tr>\n",
              "    <tr>\n",
              "      <th>C</th>\n",
              "      <td>-0.016458</td>\n",
              "      <td>0.244888</td>\n",
              "    </tr>\n",
              "    <tr>\n",
              "      <th rowspan=\"3\" valign=\"top\">three</th>\n",
              "      <th>A</th>\n",
              "      <td>0.875732</td>\n",
              "      <td>NaN</td>\n",
              "    </tr>\n",
              "    <tr>\n",
              "      <th>B</th>\n",
              "      <td>NaN</td>\n",
              "      <td>0.033186</td>\n",
              "    </tr>\n",
              "    <tr>\n",
              "      <th>C</th>\n",
              "      <td>-0.547864</td>\n",
              "      <td>NaN</td>\n",
              "    </tr>\n",
              "    <tr>\n",
              "      <th rowspan=\"3\" valign=\"top\">two</th>\n",
              "      <th>A</th>\n",
              "      <td>NaN</td>\n",
              "      <td>0.208974</td>\n",
              "    </tr>\n",
              "    <tr>\n",
              "      <th>B</th>\n",
              "      <td>-1.419691</td>\n",
              "      <td>NaN</td>\n",
              "    </tr>\n",
              "    <tr>\n",
              "      <th>C</th>\n",
              "      <td>NaN</td>\n",
              "      <td>-0.795035</td>\n",
              "    </tr>\n",
              "  </tbody>\n",
              "</table>\n",
              "</div>"
            ],
            "text/plain": [
              "C             bar       foo\n",
              "A     B                    \n",
              "one   A  0.454113  0.587860\n",
              "      B -0.178436  1.242063\n",
              "      C -0.016458  0.244888\n",
              "three A  0.875732       NaN\n",
              "      B       NaN  0.033186\n",
              "      C -0.547864       NaN\n",
              "two   A       NaN  0.208974\n",
              "      B -1.419691       NaN\n",
              "      C       NaN -0.795035"
            ]
          },
          "metadata": {
            "tags": []
          },
          "execution_count": 52
        }
      ]
    },
    {
      "cell_type": "code",
      "metadata": {
        "id": "SKafKOhF1tHX"
      },
      "source": [
        ""
      ],
      "execution_count": null,
      "outputs": []
    }
  ]
}